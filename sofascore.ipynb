{
 "cells": [
  {
   "cell_type": "markdown",
   "metadata": {},
   "source": [
    "# Scrapping from Sofascore"
   ]
  },
  {
   "cell_type": "markdown",
   "metadata": {},
   "source": [
    "# Sin automatizar de forma interactiva "
   ]
  },
  {
   "cell_type": "markdown",
   "metadata": {},
   "source": [
    "## Sacamos primeros 5 datos "
   ]
  },
  {
   "cell_type": "code",
   "execution_count": null,
   "metadata": {},
   "outputs": [],
   "source": [
    "import pandas as pd \n",
    "import time\n",
    "from selenium import webdriver\n",
    "from selenium.webdriver.chrome.service import Service\n",
    "from selenium.webdriver.common.by import By\n",
    "from selenium.webdriver.chrome.options import Options\n",
    "import os\n",
    "import time\n",
    "\n",
    "# Configurar las opciones de Chrome\n",
    "chrome_options = Options()\n",
    "chrome_options.add_argument(\"--start-maximized\")  # Inicia la ventana maximizada\n",
    "\n",
    "\n",
    "driver = webdriver.Chrome( options=chrome_options)\n",
    "\n",
    "\n",
    "driver.get('https://www.sofascore.com/tournament/football/england/premier-league/17#id:61627')\n",
    "time.sleep(0.5)\n",
    "driver.find_element(By.CLASS_NAME, \"fc-cta-consent\").click()\n",
    "\n",
    "import time\n",
    "time.sleep(5)\n",
    "while True:\n",
    "    try:\n",
    "        player_stats_web_element = driver.find_element(\n",
    "        By.XPATH, \"//div[contains(@class, 'kYtrap') and contains(., 'Player statistics')]\")\n",
    "        detailed_button = player_stats_web_element.find_element(By.XPATH, \"//button[@data-tabid='detailed']\").click()\n",
    "        break\n",
    "    except:\n",
    "        driver.execute_script(\"window.scrollBy(0, 150);\")\n",
    "        time.sleep(0.5)"
   ]
  },
  {
   "cell_type": "code",
   "execution_count": null,
   "metadata": {},
   "outputs": [
    {
     "name": "stdout",
     "output_type": "stream",
     "text": [
      "2\n"
     ]
    },
    {
     "name": "stderr",
     "output_type": "stream",
     "text": [
      "/var/folders/j3/hpmphyvj17z1xny136rnnkv80000gn/T/ipykernel_33839/688270126.py:8: FutureWarning: Passing literal html to 'read_html' is deprecated and will be removed in a future version. To read from a literal string, wrap it in a 'StringIO' object.\n",
      "  table_sofascore_def1=result = pd.concat([table_sofascore_def1, pd.read_html(driver.page_source, attrs={\"class\": \"sc-c347313f-8 kLmlmP\"})[0]], ignore_index=True)\n"
     ]
    },
    {
     "name": "stdout",
     "output_type": "stream",
     "text": [
      "3\n"
     ]
    },
    {
     "name": "stderr",
     "output_type": "stream",
     "text": [
      "/var/folders/j3/hpmphyvj17z1xny136rnnkv80000gn/T/ipykernel_33839/688270126.py:8: FutureWarning: Passing literal html to 'read_html' is deprecated and will be removed in a future version. To read from a literal string, wrap it in a 'StringIO' object.\n",
      "  table_sofascore_def1=result = pd.concat([table_sofascore_def1, pd.read_html(driver.page_source, attrs={\"class\": \"sc-c347313f-8 kLmlmP\"})[0]], ignore_index=True)\n"
     ]
    },
    {
     "name": "stdout",
     "output_type": "stream",
     "text": [
      "4\n"
     ]
    },
    {
     "name": "stderr",
     "output_type": "stream",
     "text": [
      "/var/folders/j3/hpmphyvj17z1xny136rnnkv80000gn/T/ipykernel_33839/688270126.py:8: FutureWarning: Passing literal html to 'read_html' is deprecated and will be removed in a future version. To read from a literal string, wrap it in a 'StringIO' object.\n",
      "  table_sofascore_def1=result = pd.concat([table_sofascore_def1, pd.read_html(driver.page_source, attrs={\"class\": \"sc-c347313f-8 kLmlmP\"})[0]], ignore_index=True)\n"
     ]
    },
    {
     "name": "stdout",
     "output_type": "stream",
     "text": [
      "5\n"
     ]
    },
    {
     "name": "stderr",
     "output_type": "stream",
     "text": [
      "/var/folders/j3/hpmphyvj17z1xny136rnnkv80000gn/T/ipykernel_33839/688270126.py:8: FutureWarning: Passing literal html to 'read_html' is deprecated and will be removed in a future version. To read from a literal string, wrap it in a 'StringIO' object.\n",
      "  table_sofascore_def1=result = pd.concat([table_sofascore_def1, pd.read_html(driver.page_source, attrs={\"class\": \"sc-c347313f-8 kLmlmP\"})[0]], ignore_index=True)\n"
     ]
    },
    {
     "name": "stdout",
     "output_type": "stream",
     "text": [
      "6\n"
     ]
    },
    {
     "name": "stderr",
     "output_type": "stream",
     "text": [
      "/var/folders/j3/hpmphyvj17z1xny136rnnkv80000gn/T/ipykernel_33839/688270126.py:8: FutureWarning: Passing literal html to 'read_html' is deprecated and will be removed in a future version. To read from a literal string, wrap it in a 'StringIO' object.\n",
      "  table_sofascore_def1=result = pd.concat([table_sofascore_def1, pd.read_html(driver.page_source, attrs={\"class\": \"sc-c347313f-8 kLmlmP\"})[0]], ignore_index=True)\n"
     ]
    },
    {
     "name": "stdout",
     "output_type": "stream",
     "text": [
      "7\n"
     ]
    },
    {
     "name": "stderr",
     "output_type": "stream",
     "text": [
      "/var/folders/j3/hpmphyvj17z1xny136rnnkv80000gn/T/ipykernel_33839/688270126.py:8: FutureWarning: Passing literal html to 'read_html' is deprecated and will be removed in a future version. To read from a literal string, wrap it in a 'StringIO' object.\n",
      "  table_sofascore_def1=result = pd.concat([table_sofascore_def1, pd.read_html(driver.page_source, attrs={\"class\": \"sc-c347313f-8 kLmlmP\"})[0]], ignore_index=True)\n"
     ]
    },
    {
     "name": "stdout",
     "output_type": "stream",
     "text": [
      "8\n"
     ]
    },
    {
     "name": "stderr",
     "output_type": "stream",
     "text": [
      "/var/folders/j3/hpmphyvj17z1xny136rnnkv80000gn/T/ipykernel_33839/688270126.py:8: FutureWarning: Passing literal html to 'read_html' is deprecated and will be removed in a future version. To read from a literal string, wrap it in a 'StringIO' object.\n",
      "  table_sofascore_def1=result = pd.concat([table_sofascore_def1, pd.read_html(driver.page_source, attrs={\"class\": \"sc-c347313f-8 kLmlmP\"})[0]], ignore_index=True)\n"
     ]
    },
    {
     "name": "stdout",
     "output_type": "stream",
     "text": [
      "9\n"
     ]
    },
    {
     "name": "stderr",
     "output_type": "stream",
     "text": [
      "/var/folders/j3/hpmphyvj17z1xny136rnnkv80000gn/T/ipykernel_33839/688270126.py:8: FutureWarning: Passing literal html to 'read_html' is deprecated and will be removed in a future version. To read from a literal string, wrap it in a 'StringIO' object.\n",
      "  table_sofascore_def1=result = pd.concat([table_sofascore_def1, pd.read_html(driver.page_source, attrs={\"class\": \"sc-c347313f-8 kLmlmP\"})[0]], ignore_index=True)\n"
     ]
    },
    {
     "name": "stdout",
     "output_type": "stream",
     "text": [
      "10\n"
     ]
    },
    {
     "name": "stderr",
     "output_type": "stream",
     "text": [
      "/var/folders/j3/hpmphyvj17z1xny136rnnkv80000gn/T/ipykernel_33839/688270126.py:8: FutureWarning: Passing literal html to 'read_html' is deprecated and will be removed in a future version. To read from a literal string, wrap it in a 'StringIO' object.\n",
      "  table_sofascore_def1=result = pd.concat([table_sofascore_def1, pd.read_html(driver.page_source, attrs={\"class\": \"sc-c347313f-8 kLmlmP\"})[0]], ignore_index=True)\n"
     ]
    }
   ],
   "source": [
    "\n",
    "\n",
    "table_sofascore_def1=pd.read_html(driver.page_source, attrs={\"class\": \"sc-c347313f-8 kLmlmP\"})[0]\n",
    "for i in range(9):\n",
    "    print(i+2)\n",
    "    button = driver.find_element(By.XPATH, f\"//button/span[text()='{i+2}']\")\n",
    "    button.click()\n",
    "    time.sleep(1)\n",
    "    table_sofascore_def1=result = pd.concat([table_sofascore_def1, pd.read_html(driver.page_source, attrs={\"class\": \"sc-c347313f-8 kLmlmP\"})[0]], ignore_index=True)\n"
   ]
  },
  {
   "cell_type": "code",
   "execution_count": 10,
   "metadata": {},
   "outputs": [],
   "source": [
    "table_sofascore_def1 = table_sofascore_def1.drop(columns=['#', 'Team'])\n",
    "table_sofascore_def1.to_csv(\"data/sofascore_premier_defensive_midfielders_1.csv\",index=False)"
   ]
  },
  {
   "cell_type": "markdown",
   "metadata": {},
   "source": [
    "## Sacamos  los datos que faltan"
   ]
  },
  {
   "cell_type": "code",
   "execution_count": 13,
   "metadata": {},
   "outputs": [
    {
     "name": "stderr",
     "output_type": "stream",
     "text": [
      "/var/folders/j3/hpmphyvj17z1xny136rnnkv80000gn/T/ipykernel_33839/248882938.py:1: FutureWarning: Passing literal html to 'read_html' is deprecated and will be removed in a future version. To read from a literal string, wrap it in a 'StringIO' object.\n",
      "  table_sofascore_def2=pd.read_html(driver.page_source, attrs={\"class\": \"sc-c347313f-8 kLmlmP\"})[0]\n"
     ]
    },
    {
     "name": "stdout",
     "output_type": "stream",
     "text": [
      "2\n"
     ]
    },
    {
     "name": "stderr",
     "output_type": "stream",
     "text": [
      "/var/folders/j3/hpmphyvj17z1xny136rnnkv80000gn/T/ipykernel_33839/248882938.py:7: FutureWarning: Passing literal html to 'read_html' is deprecated and will be removed in a future version. To read from a literal string, wrap it in a 'StringIO' object.\n",
      "  table_sofascore_def2=result = pd.concat([table_sofascore_def2, pd.read_html(driver.page_source, attrs={\"class\": \"sc-c347313f-8 kLmlmP\"})[0]], ignore_index=True)\n"
     ]
    },
    {
     "name": "stdout",
     "output_type": "stream",
     "text": [
      "3\n"
     ]
    },
    {
     "name": "stderr",
     "output_type": "stream",
     "text": [
      "/var/folders/j3/hpmphyvj17z1xny136rnnkv80000gn/T/ipykernel_33839/248882938.py:7: FutureWarning: Passing literal html to 'read_html' is deprecated and will be removed in a future version. To read from a literal string, wrap it in a 'StringIO' object.\n",
      "  table_sofascore_def2=result = pd.concat([table_sofascore_def2, pd.read_html(driver.page_source, attrs={\"class\": \"sc-c347313f-8 kLmlmP\"})[0]], ignore_index=True)\n"
     ]
    },
    {
     "name": "stdout",
     "output_type": "stream",
     "text": [
      "4\n"
     ]
    },
    {
     "name": "stderr",
     "output_type": "stream",
     "text": [
      "/var/folders/j3/hpmphyvj17z1xny136rnnkv80000gn/T/ipykernel_33839/248882938.py:7: FutureWarning: Passing literal html to 'read_html' is deprecated and will be removed in a future version. To read from a literal string, wrap it in a 'StringIO' object.\n",
      "  table_sofascore_def2=result = pd.concat([table_sofascore_def2, pd.read_html(driver.page_source, attrs={\"class\": \"sc-c347313f-8 kLmlmP\"})[0]], ignore_index=True)\n"
     ]
    },
    {
     "name": "stdout",
     "output_type": "stream",
     "text": [
      "5\n"
     ]
    },
    {
     "name": "stderr",
     "output_type": "stream",
     "text": [
      "/var/folders/j3/hpmphyvj17z1xny136rnnkv80000gn/T/ipykernel_33839/248882938.py:7: FutureWarning: Passing literal html to 'read_html' is deprecated and will be removed in a future version. To read from a literal string, wrap it in a 'StringIO' object.\n",
      "  table_sofascore_def2=result = pd.concat([table_sofascore_def2, pd.read_html(driver.page_source, attrs={\"class\": \"sc-c347313f-8 kLmlmP\"})[0]], ignore_index=True)\n"
     ]
    },
    {
     "name": "stdout",
     "output_type": "stream",
     "text": [
      "6\n"
     ]
    },
    {
     "name": "stderr",
     "output_type": "stream",
     "text": [
      "/var/folders/j3/hpmphyvj17z1xny136rnnkv80000gn/T/ipykernel_33839/248882938.py:7: FutureWarning: Passing literal html to 'read_html' is deprecated and will be removed in a future version. To read from a literal string, wrap it in a 'StringIO' object.\n",
      "  table_sofascore_def2=result = pd.concat([table_sofascore_def2, pd.read_html(driver.page_source, attrs={\"class\": \"sc-c347313f-8 kLmlmP\"})[0]], ignore_index=True)\n"
     ]
    },
    {
     "name": "stdout",
     "output_type": "stream",
     "text": [
      "7\n"
     ]
    },
    {
     "name": "stderr",
     "output_type": "stream",
     "text": [
      "/var/folders/j3/hpmphyvj17z1xny136rnnkv80000gn/T/ipykernel_33839/248882938.py:7: FutureWarning: Passing literal html to 'read_html' is deprecated and will be removed in a future version. To read from a literal string, wrap it in a 'StringIO' object.\n",
      "  table_sofascore_def2=result = pd.concat([table_sofascore_def2, pd.read_html(driver.page_source, attrs={\"class\": \"sc-c347313f-8 kLmlmP\"})[0]], ignore_index=True)\n"
     ]
    },
    {
     "name": "stdout",
     "output_type": "stream",
     "text": [
      "8\n"
     ]
    },
    {
     "name": "stderr",
     "output_type": "stream",
     "text": [
      "/var/folders/j3/hpmphyvj17z1xny136rnnkv80000gn/T/ipykernel_33839/248882938.py:7: FutureWarning: Passing literal html to 'read_html' is deprecated and will be removed in a future version. To read from a literal string, wrap it in a 'StringIO' object.\n",
      "  table_sofascore_def2=result = pd.concat([table_sofascore_def2, pd.read_html(driver.page_source, attrs={\"class\": \"sc-c347313f-8 kLmlmP\"})[0]], ignore_index=True)\n"
     ]
    },
    {
     "name": "stdout",
     "output_type": "stream",
     "text": [
      "9\n"
     ]
    },
    {
     "name": "stderr",
     "output_type": "stream",
     "text": [
      "/var/folders/j3/hpmphyvj17z1xny136rnnkv80000gn/T/ipykernel_33839/248882938.py:7: FutureWarning: Passing literal html to 'read_html' is deprecated and will be removed in a future version. To read from a literal string, wrap it in a 'StringIO' object.\n",
      "  table_sofascore_def2=result = pd.concat([table_sofascore_def2, pd.read_html(driver.page_source, attrs={\"class\": \"sc-c347313f-8 kLmlmP\"})[0]], ignore_index=True)\n"
     ]
    },
    {
     "name": "stdout",
     "output_type": "stream",
     "text": [
      "10\n"
     ]
    },
    {
     "name": "stderr",
     "output_type": "stream",
     "text": [
      "/var/folders/j3/hpmphyvj17z1xny136rnnkv80000gn/T/ipykernel_33839/248882938.py:7: FutureWarning: Passing literal html to 'read_html' is deprecated and will be removed in a future version. To read from a literal string, wrap it in a 'StringIO' object.\n",
      "  table_sofascore_def2=result = pd.concat([table_sofascore_def2, pd.read_html(driver.page_source, attrs={\"class\": \"sc-c347313f-8 kLmlmP\"})[0]], ignore_index=True)\n"
     ]
    }
   ],
   "source": [
    "table_sofascore_def2=pd.read_html(driver.page_source, attrs={\"class\": \"sc-c347313f-8 kLmlmP\"})[0]\n",
    "for i in range(9):\n",
    "    print(i+2)\n",
    "    button = driver.find_element(By.XPATH, f\"//button/span[text()='{i+2}']\")\n",
    "    button.click()\n",
    "    time.sleep(1)\n",
    "    table_sofascore_def2=result = pd.concat([table_sofascore_def2, pd.read_html(driver.page_source, attrs={\"class\": \"sc-c347313f-8 kLmlmP\"})[0]], ignore_index=True)\n"
   ]
  },
  {
   "cell_type": "code",
   "execution_count": 14,
   "metadata": {},
   "outputs": [],
   "source": [
    "table_sofascore_def2 = table_sofascore_def2.drop(columns=['#', 'Team'])\n",
    "table_sofascore_def2.to_csv(\"data/sofascore_premier_defensive_midfielders_2.csv\",index=False)"
   ]
  },
  {
   "cell_type": "code",
   "execution_count": null,
   "metadata": {},
   "outputs": [],
   "source": [
    "table_sofascore_defensive_stats=pd.merge(table_sofascore_def1, table_sofascore_def2, on='Name', how='inner')  \n",
    "table_sofascore_defensive_stats.to_csv(\"data/sofascore_premier_defensive_stats_midfielders.csv\",index=False)"
   ]
  },
  {
   "cell_type": "markdown",
   "metadata": {},
   "source": [
    "# Sacamos Estadisticas del Partido"
   ]
  },
  {
   "cell_type": "code",
   "execution_count": 2,
   "metadata": {},
   "outputs": [],
   "source": [
    "import pandas as pd \n",
    "import time\n",
    "from selenium import webdriver\n",
    "from selenium.webdriver.chrome.service import Service\n",
    "from selenium.webdriver.common.by import By\n",
    "from selenium.webdriver.chrome.options import Options\n",
    "import os\n",
    "import time\n",
    "\n",
    "# Configurar las opciones de Chrome\n",
    "chrome_options = Options()\n",
    "chrome_options.add_argument(\"--start-maximized\")  # Inicia la ventana maximizada\n",
    "\n",
    "\n",
    "driver = webdriver.Chrome( options=chrome_options)\n",
    "\n",
    "\n",
    "driver.get('https://www.sofascore.com/football/match/chelsea-tottenham-hotspur/IN#id:12436441')\n",
    "time.sleep(0.5)\n",
    "driver.find_element(By.CLASS_NAME, \"fc-cta-consent\").click()"
   ]
  },
  {
   "cell_type": "code",
   "execution_count": null,
   "metadata": {},
   "outputs": [],
   "source": [
    "Ground duels won,Ground duels won %,Total duels won,Aerial duels won %,Aerial duels won,Total duels won %"
   ]
  },
  {
   "cell_type": "code",
   "execution_count": 3,
   "metadata": {},
   "outputs": [
    {
     "name": "stderr",
     "output_type": "stream",
     "text": [
      "/var/folders/j3/hpmphyvj17z1xny136rnnkv80000gn/T/ipykernel_44198/2037861588.py:1: FutureWarning: Passing literal html to 'read_html' is deprecated and will be removed in a future version. To read from a literal string, wrap it in a 'StringIO' object.\n",
      "  match_sofascore_def=pd.read_html(driver.page_source, attrs={\"class\": \"Table fEUhaC\"})[0]\n"
     ]
    }
   ],
   "source": [
    "match_sofascore_def=pd.read_html(driver.page_source, attrs={\"class\": \"Table fEUhaC\"})[0]\n"
   ]
  },
  {
   "cell_type": "code",
   "execution_count": 15,
   "metadata": {},
   "outputs": [
    {
     "data": {
      "text/html": [
       "<div>\n",
       "<style scoped>\n",
       "    .dataframe tbody tr th:only-of-type {\n",
       "        vertical-align: middle;\n",
       "    }\n",
       "\n",
       "    .dataframe tbody tr th {\n",
       "        vertical-align: top;\n",
       "    }\n",
       "\n",
       "    .dataframe thead th {\n",
       "        text-align: right;\n",
       "    }\n",
       "</style>\n",
       "<table border=\"1\" class=\"dataframe\">\n",
       "  <thead>\n",
       "    <tr style=\"text-align: right;\">\n",
       "      <th></th>\n",
       "      <th>+</th>\n",
       "      <th>Total tackles</th>\n",
       "      <th>Interceptions</th>\n",
       "      <th>Clearances</th>\n",
       "    </tr>\n",
       "  </thead>\n",
       "  <tbody>\n",
       "    <tr>\n",
       "      <th>0</th>\n",
       "      <td>Cole Palmer</td>\n",
       "      <td>0</td>\n",
       "      <td>1</td>\n",
       "      <td>0</td>\n",
       "    </tr>\n",
       "    <tr>\n",
       "      <th>1</th>\n",
       "      <td>Enzo Fernández</td>\n",
       "      <td>2</td>\n",
       "      <td>2</td>\n",
       "      <td>1</td>\n",
       "    </tr>\n",
       "    <tr>\n",
       "      <th>2</th>\n",
       "      <td>Jadon Sancho</td>\n",
       "      <td>0</td>\n",
       "      <td>0</td>\n",
       "      <td>0</td>\n",
       "    </tr>\n",
       "    <tr>\n",
       "      <th>3</th>\n",
       "      <td>Brennan Johnson</td>\n",
       "      <td>1</td>\n",
       "      <td>0</td>\n",
       "      <td>0</td>\n",
       "    </tr>\n",
       "    <tr>\n",
       "      <th>4</th>\n",
       "      <td>James Maddison</td>\n",
       "      <td>0</td>\n",
       "      <td>0</td>\n",
       "      <td>0</td>\n",
       "    </tr>\n",
       "    <tr>\n",
       "      <th>5</th>\n",
       "      <td>Heung-min Son</td>\n",
       "      <td>0</td>\n",
       "      <td>1</td>\n",
       "      <td>1</td>\n",
       "    </tr>\n",
       "    <tr>\n",
       "      <th>6</th>\n",
       "      <td>Dominic Solanke</td>\n",
       "      <td>1</td>\n",
       "      <td>0</td>\n",
       "      <td>3</td>\n",
       "    </tr>\n",
       "    <tr>\n",
       "      <th>7</th>\n",
       "      <td>Pedro Neto</td>\n",
       "      <td>2</td>\n",
       "      <td>1</td>\n",
       "      <td>0</td>\n",
       "    </tr>\n",
       "    <tr>\n",
       "      <th>8</th>\n",
       "      <td>Moisés Caicedo</td>\n",
       "      <td>2</td>\n",
       "      <td>2</td>\n",
       "      <td>1</td>\n",
       "    </tr>\n",
       "    <tr>\n",
       "      <th>9</th>\n",
       "      <td>Pedro Porro</td>\n",
       "      <td>1</td>\n",
       "      <td>0</td>\n",
       "      <td>4</td>\n",
       "    </tr>\n",
       "    <tr>\n",
       "      <th>10</th>\n",
       "      <td>Roméo Lavia</td>\n",
       "      <td>3</td>\n",
       "      <td>3</td>\n",
       "      <td>0</td>\n",
       "    </tr>\n",
       "    <tr>\n",
       "      <th>11</th>\n",
       "      <td>Timo Werner</td>\n",
       "      <td>0</td>\n",
       "      <td>0</td>\n",
       "      <td>1</td>\n",
       "    </tr>\n",
       "    <tr>\n",
       "      <th>12</th>\n",
       "      <td>Levi Colwill</td>\n",
       "      <td>0</td>\n",
       "      <td>1</td>\n",
       "      <td>2</td>\n",
       "    </tr>\n",
       "    <tr>\n",
       "      <th>13</th>\n",
       "      <td>Dejan Kulusevski</td>\n",
       "      <td>1</td>\n",
       "      <td>1</td>\n",
       "      <td>0</td>\n",
       "    </tr>\n",
       "    <tr>\n",
       "      <th>14</th>\n",
       "      <td>Lucas Bergvall</td>\n",
       "      <td>0</td>\n",
       "      <td>0</td>\n",
       "      <td>0</td>\n",
       "    </tr>\n",
       "    <tr>\n",
       "      <th>15</th>\n",
       "      <td>Malo Gusto</td>\n",
       "      <td>1</td>\n",
       "      <td>1</td>\n",
       "      <td>0</td>\n",
       "    </tr>\n",
       "    <tr>\n",
       "      <th>16</th>\n",
       "      <td>Cristian Romero</td>\n",
       "      <td>2</td>\n",
       "      <td>0</td>\n",
       "      <td>0</td>\n",
       "    </tr>\n",
       "    <tr>\n",
       "      <th>17</th>\n",
       "      <td>Fraser Forster</td>\n",
       "      <td>0</td>\n",
       "      <td>0</td>\n",
       "      <td>0</td>\n",
       "    </tr>\n",
       "    <tr>\n",
       "      <th>18</th>\n",
       "      <td>Noni Madueke</td>\n",
       "      <td>1</td>\n",
       "      <td>0</td>\n",
       "      <td>0</td>\n",
       "    </tr>\n",
       "    <tr>\n",
       "      <th>19</th>\n",
       "      <td>Archie Gray</td>\n",
       "      <td>0</td>\n",
       "      <td>0</td>\n",
       "      <td>0</td>\n",
       "    </tr>\n",
       "    <tr>\n",
       "      <th>20</th>\n",
       "      <td>Christopher Nkunku</td>\n",
       "      <td>0</td>\n",
       "      <td>0</td>\n",
       "      <td>0</td>\n",
       "    </tr>\n",
       "    <tr>\n",
       "      <th>21</th>\n",
       "      <td>Radu Drăguşin</td>\n",
       "      <td>1</td>\n",
       "      <td>1</td>\n",
       "      <td>2</td>\n",
       "    </tr>\n",
       "    <tr>\n",
       "      <th>22</th>\n",
       "      <td>João Félix</td>\n",
       "      <td>0</td>\n",
       "      <td>0</td>\n",
       "      <td>0</td>\n",
       "    </tr>\n",
       "    <tr>\n",
       "      <th>23</th>\n",
       "      <td>Micky van de Ven</td>\n",
       "      <td>1</td>\n",
       "      <td>0</td>\n",
       "      <td>5</td>\n",
       "    </tr>\n",
       "    <tr>\n",
       "      <th>24</th>\n",
       "      <td>Benoît Badiashile</td>\n",
       "      <td>4</td>\n",
       "      <td>1</td>\n",
       "      <td>2</td>\n",
       "    </tr>\n",
       "    <tr>\n",
       "      <th>25</th>\n",
       "      <td>Destiny Udogie</td>\n",
       "      <td>3</td>\n",
       "      <td>0</td>\n",
       "      <td>2</td>\n",
       "    </tr>\n",
       "    <tr>\n",
       "      <th>26</th>\n",
       "      <td>Nicolas Jackson</td>\n",
       "      <td>1</td>\n",
       "      <td>0</td>\n",
       "      <td>1</td>\n",
       "    </tr>\n",
       "    <tr>\n",
       "      <th>27</th>\n",
       "      <td>Yves Bissouma</td>\n",
       "      <td>5</td>\n",
       "      <td>0</td>\n",
       "      <td>1</td>\n",
       "    </tr>\n",
       "    <tr>\n",
       "      <th>28</th>\n",
       "      <td>Renato Veiga</td>\n",
       "      <td>0</td>\n",
       "      <td>0</td>\n",
       "      <td>0</td>\n",
       "    </tr>\n",
       "    <tr>\n",
       "      <th>29</th>\n",
       "      <td>Marc Cucurella</td>\n",
       "      <td>2</td>\n",
       "      <td>0</td>\n",
       "      <td>0</td>\n",
       "    </tr>\n",
       "    <tr>\n",
       "      <th>30</th>\n",
       "      <td>Pape Matar Sarr</td>\n",
       "      <td>3</td>\n",
       "      <td>1</td>\n",
       "      <td>0</td>\n",
       "    </tr>\n",
       "    <tr>\n",
       "      <th>31</th>\n",
       "      <td>Robert Sánchez</td>\n",
       "      <td>0</td>\n",
       "      <td>0</td>\n",
       "      <td>0</td>\n",
       "    </tr>\n",
       "  </tbody>\n",
       "</table>\n",
       "</div>"
      ],
      "text/plain": [
       "                     +  Total tackles  Interceptions  Clearances\n",
       "0          Cole Palmer              0              1           0\n",
       "1       Enzo Fernández              2              2           1\n",
       "2         Jadon Sancho              0              0           0\n",
       "3      Brennan Johnson              1              0           0\n",
       "4       James Maddison              0              0           0\n",
       "5        Heung-min Son              0              1           1\n",
       "6      Dominic Solanke              1              0           3\n",
       "7           Pedro Neto              2              1           0\n",
       "8       Moisés Caicedo              2              2           1\n",
       "9          Pedro Porro              1              0           4\n",
       "10         Roméo Lavia              3              3           0\n",
       "11         Timo Werner              0              0           1\n",
       "12        Levi Colwill              0              1           2\n",
       "13    Dejan Kulusevski              1              1           0\n",
       "14      Lucas Bergvall              0              0           0\n",
       "15          Malo Gusto              1              1           0\n",
       "16     Cristian Romero              2              0           0\n",
       "17      Fraser Forster              0              0           0\n",
       "18        Noni Madueke              1              0           0\n",
       "19         Archie Gray              0              0           0\n",
       "20  Christopher Nkunku              0              0           0\n",
       "21       Radu Drăguşin              1              1           2\n",
       "22          João Félix              0              0           0\n",
       "23    Micky van de Ven              1              0           5\n",
       "24   Benoît Badiashile              4              1           2\n",
       "25      Destiny Udogie              3              0           2\n",
       "26     Nicolas Jackson              1              0           1\n",
       "27       Yves Bissouma              5              0           1\n",
       "28        Renato Veiga              0              0           0\n",
       "29      Marc Cucurella              2              0           0\n",
       "30     Pape Matar Sarr              3              1           0\n",
       "31      Robert Sánchez              0              0           0"
      ]
     },
     "execution_count": 15,
     "metadata": {},
     "output_type": "execute_result"
    }
   ],
   "source": [
    "match_sofascore_def"
   ]
  },
  {
   "cell_type": "code",
   "execution_count": 5,
   "metadata": {},
   "outputs": [],
   "source": [
    "match_sofascore_def=match_sofascore_def[['+','Total tackles','Interceptions','Clearances']]"
   ]
  },
  {
   "cell_type": "code",
   "execution_count": 9,
   "metadata": {},
   "outputs": [
    {
     "name": "stderr",
     "output_type": "stream",
     "text": [
      "/var/folders/j3/hpmphyvj17z1xny136rnnkv80000gn/T/ipykernel_44198/1254647978.py:1: FutureWarning: Passing literal html to 'read_html' is deprecated and will be removed in a future version. To read from a literal string, wrap it in a 'StringIO' object.\n",
      "  match_sofascore_def_2=pd.read_html(driver.page_source, attrs={\"class\": \"Table fEUhaC\"})[0]\n"
     ]
    }
   ],
   "source": [
    "match_sofascore_def_2=pd.read_html(driver.page_source, attrs={\"class\": \"Table fEUhaC\"})[0]\n",
    "def split_values(column):\n",
    "    total = column.str.extract(r'(\\d+)', expand=False).astype(int)  # Extract total (outside parentheses)\n",
    "    won = column.str.extract(r'\\((\\d+)\\)', expand=False).astype(int)  # Extract won (inside parentheses)\n",
    "    return total, won\n",
    "\n",
    "# Apply the function to each column\n",
    "match_sofascore_def_2['Duels_total'], match_sofascore_def_2['Duels_won'] = split_values(match_sofascore_def_2['Duels (won)'])\n",
    "match_sofascore_def_2['Ground_duels_total'], match_sofascore_def_2['Ground_duels_won'] = split_values(match_sofascore_def_2['Ground duels (won)'])\n",
    "match_sofascore_def_2['Aerial_duels_total'], match_sofascore_def_2['Aerial_duels_won'] = split_values(match_sofascore_def_2['Aerial duels (won)'])\n",
    "\n",
    "# Drop original columns if no longer needed\n"
   ]
  },
  {
   "cell_type": "code",
   "execution_count": 11,
   "metadata": {},
   "outputs": [],
   "source": [
    "match_sofascore_def_2=match_sofascore_def_2[['+','Duels_total','Duels_won','Ground_duels_total','Ground_duels_won','Aerial_duels_total','Aerial_duels_won']]\n"
   ]
  },
  {
   "cell_type": "code",
   "execution_count": 18,
   "metadata": {},
   "outputs": [],
   "source": [
    "match_sofascore_defensive=pd.merge(match_sofascore_def, match_sofascore_def_2, on='+', how='inner')  \n",
    "match_sofascore_defensive.rename(columns={'+': 'Name'}, inplace=True)\n",
    "match_sofascore_defensive.to_csv('data/defensive_match_data.csv',index=False)"
   ]
  }
 ],
 "metadata": {
  "kernelspec": {
   "display_name": "base",
   "language": "python",
   "name": "python3"
  },
  "language_info": {
   "codemirror_mode": {
    "name": "ipython",
    "version": 3
   },
   "file_extension": ".py",
   "mimetype": "text/x-python",
   "name": "python",
   "nbconvert_exporter": "python",
   "pygments_lexer": "ipython3",
   "version": "3.11.4"
  }
 },
 "nbformat": 4,
 "nbformat_minor": 2
}
