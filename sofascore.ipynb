{
 "cells": [
  {
   "cell_type": "markdown",
   "metadata": {},
   "source": [
    "# Scrapping from Sofascore"
   ]
  },
  {
   "cell_type": "markdown",
   "metadata": {},
   "source": [
    "https://www.sofascore.com/api/v1/unique-tournament/17/season/61627/statistics?limit=30&order=-rating&accumulation=total&fields=goals%2CsuccessfulDribbles%2Ctackles%2Cassists%2CaccuratePassesPercentage%2Crating&filters=position.in.G~D~M~F"
   ]
  },
  {
   "cell_type": "code",
   "execution_count": 1,
   "metadata": {},
   "outputs": [],
   "source": [
    "from selenium import webdriver\n",
    "from selenium.webdriver.chrome.service import Service\n",
    "from selenium.webdriver.common.by import By\n",
    "from selenium.webdriver.chrome.options import Options\n",
    "import os\n",
    "import time\n",
    "\n",
    "# Configurar las opciones de Chrome\n",
    "chrome_options = Options()\n",
    "chrome_options.add_argument(\"--start-maximized\")  # Inicia la ventana maximizada\n",
    "\n",
    "\n",
    "driver = webdriver.Chrome( options=chrome_options)\n",
    "\n",
    "\n",
    "driver.get('https://www.sofascore.com/tournament/football/england/premier-league/17#id:61627')\n",
    "time.sleep(0.5)\n",
    "driver.find_element(By.CLASS_NAME, \"fc-cta-consent\").click()\n"
   ]
  },
  {
   "cell_type": "markdown",
   "metadata": {},
   "source": [
    "## Primero buscamos donde estan las estadisticas de los jugadores \n",
    "- Scrollear hasta que se encuentre \n",
    "- darle a detalle y quitar los que se muestra por defecto \n"
   ]
  },
  {
   "cell_type": "code",
   "execution_count": 2,
   "metadata": {},
   "outputs": [],
   "source": [
    "import time\n",
    "time.sleep(5)\n",
    "while True:\n",
    "    try:\n",
    "        player_stats_web_element = driver.find_element(\n",
    "        By.XPATH, \"//div[contains(@class, 'kYtrap') and contains(., 'Player statistics')]\")\n",
    "        detailed_button = player_stats_web_element.find_element(By.XPATH, \"//button[@data-tabid='detailed']\").click()\n",
    "        break\n",
    "    except:\n",
    "        driver.execute_script(\"window.scrollBy(0, 150);\")\n",
    "        time.sleep(0.5)\n",
    "\n",
    "player_stats_web_element = driver.find_element(\n",
    "        By.XPATH, \"//div[contains(@class, 'kYtrap') and contains(., 'Player statistics')]\")\n",
    "detailed_button = player_stats_web_element.find_element(By.XPATH, \"//button[@data-tabid='detailed']\").click()\n",
    "options_marcados = player_stats_web_element.find_element(\n",
    "    By.XPATH, \"//div[contains(@class, 'WyOYb')]//*[contains(text(), 'Goals')]/..\"\n",
    ")\n",
    "buttons__option_defecto=options_marcados.find_elements(By.CLASS_NAME, \"SvgWrapper\")\n",
    "for i in range(len(buttons__option_defecto)):\n",
    "    buttons__option_defecto[i].click()"
   ]
  },
  {
   "cell_type": "code",
   "execution_count": null,
   "metadata": {},
   "outputs": [
    {
     "ename": "StaleElementReferenceException",
     "evalue": "Message: stale element reference: stale element not found in the current frame\n  (Session info: chrome=131.0.6778.109); For documentation on this error, please visit: https://www.selenium.dev/documentation/webdriver/troubleshooting/errors#stale-element-reference-exception\nStacktrace:\n0   chromedriver                        0x0000000105123b08 cxxbridge1$str$ptr + 3651580\n1   chromedriver                        0x000000010511c358 cxxbridge1$str$ptr + 3620940\n2   chromedriver                        0x0000000104b844b4 cxxbridge1$string$len + 89224\n3   chromedriver                        0x0000000104b89398 cxxbridge1$string$len + 109420\n4   chromedriver                        0x0000000104b8b3e8 cxxbridge1$string$len + 117692\n5   chromedriver                        0x0000000104b8b490 cxxbridge1$string$len + 117860\n6   chromedriver                        0x0000000104bca15c cxxbridge1$string$len + 375088\n7   chromedriver                        0x0000000104bbeedc cxxbridge1$string$len + 329392\n8   chromedriver                        0x0000000104bbea10 cxxbridge1$string$len + 328164\n9   chromedriver                        0x0000000104c020fc cxxbridge1$string$len + 604368\n10  chromedriver                        0x0000000104bbd0b0 cxxbridge1$string$len + 321668\n11  chromedriver                        0x0000000104bbdd00 cxxbridge1$string$len + 324820\n12  chromedriver                        0x00000001050eee4c cxxbridge1$str$ptr + 3435328\n13  chromedriver                        0x00000001050f2164 cxxbridge1$str$ptr + 3448408\n14  chromedriver                        0x00000001050d61c0 cxxbridge1$str$ptr + 3333812\n15  chromedriver                        0x00000001050f2a24 cxxbridge1$str$ptr + 3450648\n16  chromedriver                        0x00000001050c79cc cxxbridge1$str$ptr + 3274432\n17  chromedriver                        0x000000010510d138 cxxbridge1$str$ptr + 3558956\n18  chromedriver                        0x000000010510d2b4 cxxbridge1$str$ptr + 3559336\n19  chromedriver                        0x000000010511bfcc cxxbridge1$str$ptr + 3620032\n20  libsystem_pthread.dylib             0x000000019933df94 _pthread_start + 136\n21  libsystem_pthread.dylib             0x0000000199338d34 thread_start + 8\n",
     "output_type": "error",
     "traceback": [
      "\u001b[0;31m---------------------------------------------------------------------------\u001b[0m",
      "\u001b[0;31mStaleElementReferenceException\u001b[0m            Traceback (most recent call last)",
      "Cell \u001b[0;32mIn[3], line 3\u001b[0m\n\u001b[1;32m      1\u001b[0m buttons__option_defecto\u001b[38;5;241m=\u001b[39moptions_marcados\u001b[38;5;241m.\u001b[39mfind_elements(By\u001b[38;5;241m.\u001b[39mCLASS_NAME, \u001b[38;5;124m\"\u001b[39m\u001b[38;5;124mSvgWrapper\u001b[39m\u001b[38;5;124m\"\u001b[39m)\n\u001b[1;32m      2\u001b[0m \u001b[38;5;28;01mfor\u001b[39;00m i \u001b[38;5;129;01min\u001b[39;00m \u001b[38;5;28mrange\u001b[39m(\u001b[38;5;28mlen\u001b[39m(buttons__option_defecto)):\n\u001b[0;32m----> 3\u001b[0m     buttons__option_defecto[\u001b[38;5;241m0\u001b[39m]\u001b[38;5;241m.\u001b[39mclick()\n",
      "File \u001b[0;32m~/anaconda3/lib/python3.11/site-packages/selenium/webdriver/remote/webelement.py:94\u001b[0m, in \u001b[0;36mWebElement.click\u001b[0;34m(self)\u001b[0m\n\u001b[1;32m     92\u001b[0m \u001b[38;5;28;01mdef\u001b[39;00m \u001b[38;5;21mclick\u001b[39m(\u001b[38;5;28mself\u001b[39m) \u001b[38;5;241m-\u001b[39m\u001b[38;5;241m>\u001b[39m \u001b[38;5;28;01mNone\u001b[39;00m:\n\u001b[1;32m     93\u001b[0m \u001b[38;5;250m    \u001b[39m\u001b[38;5;124;03m\"\"\"Clicks the element.\"\"\"\u001b[39;00m\n\u001b[0;32m---> 94\u001b[0m     \u001b[38;5;28mself\u001b[39m\u001b[38;5;241m.\u001b[39m_execute(Command\u001b[38;5;241m.\u001b[39mCLICK_ELEMENT)\n",
      "File \u001b[0;32m~/anaconda3/lib/python3.11/site-packages/selenium/webdriver/remote/webelement.py:395\u001b[0m, in \u001b[0;36mWebElement._execute\u001b[0;34m(self, command, params)\u001b[0m\n\u001b[1;32m    393\u001b[0m     params \u001b[38;5;241m=\u001b[39m {}\n\u001b[1;32m    394\u001b[0m params[\u001b[38;5;124m\"\u001b[39m\u001b[38;5;124mid\u001b[39m\u001b[38;5;124m\"\u001b[39m] \u001b[38;5;241m=\u001b[39m \u001b[38;5;28mself\u001b[39m\u001b[38;5;241m.\u001b[39m_id\n\u001b[0;32m--> 395\u001b[0m \u001b[38;5;28;01mreturn\u001b[39;00m \u001b[38;5;28mself\u001b[39m\u001b[38;5;241m.\u001b[39m_parent\u001b[38;5;241m.\u001b[39mexecute(command, params)\n",
      "File \u001b[0;32m~/anaconda3/lib/python3.11/site-packages/selenium/webdriver/remote/webdriver.py:347\u001b[0m, in \u001b[0;36mWebDriver.execute\u001b[0;34m(self, driver_command, params)\u001b[0m\n\u001b[1;32m    345\u001b[0m response \u001b[38;5;241m=\u001b[39m \u001b[38;5;28mself\u001b[39m\u001b[38;5;241m.\u001b[39mcommand_executor\u001b[38;5;241m.\u001b[39mexecute(driver_command, params)\n\u001b[1;32m    346\u001b[0m \u001b[38;5;28;01mif\u001b[39;00m response:\n\u001b[0;32m--> 347\u001b[0m     \u001b[38;5;28mself\u001b[39m\u001b[38;5;241m.\u001b[39merror_handler\u001b[38;5;241m.\u001b[39mcheck_response(response)\n\u001b[1;32m    348\u001b[0m     response[\u001b[38;5;124m\"\u001b[39m\u001b[38;5;124mvalue\u001b[39m\u001b[38;5;124m\"\u001b[39m] \u001b[38;5;241m=\u001b[39m \u001b[38;5;28mself\u001b[39m\u001b[38;5;241m.\u001b[39m_unwrap_value(response\u001b[38;5;241m.\u001b[39mget(\u001b[38;5;124m\"\u001b[39m\u001b[38;5;124mvalue\u001b[39m\u001b[38;5;124m\"\u001b[39m, \u001b[38;5;28;01mNone\u001b[39;00m))\n\u001b[1;32m    349\u001b[0m     \u001b[38;5;28;01mreturn\u001b[39;00m response\n",
      "File \u001b[0;32m~/anaconda3/lib/python3.11/site-packages/selenium/webdriver/remote/errorhandler.py:229\u001b[0m, in \u001b[0;36mErrorHandler.check_response\u001b[0;34m(self, response)\u001b[0m\n\u001b[1;32m    227\u001b[0m         alert_text \u001b[38;5;241m=\u001b[39m value[\u001b[38;5;124m\"\u001b[39m\u001b[38;5;124malert\u001b[39m\u001b[38;5;124m\"\u001b[39m]\u001b[38;5;241m.\u001b[39mget(\u001b[38;5;124m\"\u001b[39m\u001b[38;5;124mtext\u001b[39m\u001b[38;5;124m\"\u001b[39m)\n\u001b[1;32m    228\u001b[0m     \u001b[38;5;28;01mraise\u001b[39;00m exception_class(message, screen, stacktrace, alert_text)  \u001b[38;5;66;03m# type: ignore[call-arg]  # mypy is not smart enough here\u001b[39;00m\n\u001b[0;32m--> 229\u001b[0m \u001b[38;5;28;01mraise\u001b[39;00m exception_class(message, screen, stacktrace)\n",
      "\u001b[0;31mStaleElementReferenceException\u001b[0m: Message: stale element reference: stale element not found in the current frame\n  (Session info: chrome=131.0.6778.109); For documentation on this error, please visit: https://www.selenium.dev/documentation/webdriver/troubleshooting/errors#stale-element-reference-exception\nStacktrace:\n0   chromedriver                        0x0000000105123b08 cxxbridge1$str$ptr + 3651580\n1   chromedriver                        0x000000010511c358 cxxbridge1$str$ptr + 3620940\n2   chromedriver                        0x0000000104b844b4 cxxbridge1$string$len + 89224\n3   chromedriver                        0x0000000104b89398 cxxbridge1$string$len + 109420\n4   chromedriver                        0x0000000104b8b3e8 cxxbridge1$string$len + 117692\n5   chromedriver                        0x0000000104b8b490 cxxbridge1$string$len + 117860\n6   chromedriver                        0x0000000104bca15c cxxbridge1$string$len + 375088\n7   chromedriver                        0x0000000104bbeedc cxxbridge1$string$len + 329392\n8   chromedriver                        0x0000000104bbea10 cxxbridge1$string$len + 328164\n9   chromedriver                        0x0000000104c020fc cxxbridge1$string$len + 604368\n10  chromedriver                        0x0000000104bbd0b0 cxxbridge1$string$len + 321668\n11  chromedriver                        0x0000000104bbdd00 cxxbridge1$string$len + 324820\n12  chromedriver                        0x00000001050eee4c cxxbridge1$str$ptr + 3435328\n13  chromedriver                        0x00000001050f2164 cxxbridge1$str$ptr + 3448408\n14  chromedriver                        0x00000001050d61c0 cxxbridge1$str$ptr + 3333812\n15  chromedriver                        0x00000001050f2a24 cxxbridge1$str$ptr + 3450648\n16  chromedriver                        0x00000001050c79cc cxxbridge1$str$ptr + 3274432\n17  chromedriver                        0x000000010510d138 cxxbridge1$str$ptr + 3558956\n18  chromedriver                        0x000000010510d2b4 cxxbridge1$str$ptr + 3559336\n19  chromedriver                        0x000000010511bfcc cxxbridge1$str$ptr + 3620032\n20  libsystem_pthread.dylib             0x000000019933df94 _pthread_start + 136\n21  libsystem_pthread.dylib             0x0000000199338d34 thread_start + 8\n"
     ]
    }
   ],
   "source": [
    "buttons__option_defecto=options_marcados.find_elements(By.CLASS_NAME, \"SvgWrapper\")\n",
    "for i in range(len(buttons__option_defecto)):\n",
    "    buttons__option_defecto[i].click()"
   ]
  },
  {
   "cell_type": "markdown",
   "metadata": {},
   "source": [
    "# Select stadistics from \n"
   ]
  },
  {
   "cell_type": "code",
   "execution_count": 23,
   "metadata": {},
   "outputs": [
    {
     "ename": "NoSuchElementException",
     "evalue": "Message: no such element: Unable to locate element: {\"method\":\"xpath\",\"selector\":\"//div[contains(@class, 'kYtrap') and contains(text(), 'Player statistics')]\"}\n  (Session info: chrome=131.0.6778.109); For documentation on this error, please visit: https://www.selenium.dev/documentation/webdriver/troubleshooting/errors#no-such-element-exception\nStacktrace:\n0   chromedriver                        0x0000000100c7fb08 cxxbridge1$str$ptr + 3651580\n1   chromedriver                        0x0000000100c78358 cxxbridge1$str$ptr + 3620940\n2   chromedriver                        0x00000001006e04b4 cxxbridge1$string$len + 89224\n3   chromedriver                        0x0000000100724898 cxxbridge1$string$len + 368748\n4   chromedriver                        0x000000010075e0fc cxxbridge1$string$len + 604368\n5   chromedriver                        0x00000001007190b0 cxxbridge1$string$len + 321668\n6   chromedriver                        0x0000000100719d00 cxxbridge1$string$len + 324820\n7   chromedriver                        0x0000000100c4ae4c cxxbridge1$str$ptr + 3435328\n8   chromedriver                        0x0000000100c4e164 cxxbridge1$str$ptr + 3448408\n9   chromedriver                        0x0000000100c321c0 cxxbridge1$str$ptr + 3333812\n10  chromedriver                        0x0000000100c4ea24 cxxbridge1$str$ptr + 3450648\n11  chromedriver                        0x0000000100c239cc cxxbridge1$str$ptr + 3274432\n12  chromedriver                        0x0000000100c69138 cxxbridge1$str$ptr + 3558956\n13  chromedriver                        0x0000000100c692b4 cxxbridge1$str$ptr + 3559336\n14  chromedriver                        0x0000000100c77fcc cxxbridge1$str$ptr + 3620032\n15  libsystem_pthread.dylib             0x000000019933df94 _pthread_start + 136\n16  libsystem_pthread.dylib             0x0000000199338d34 thread_start + 8\n",
     "output_type": "error",
     "traceback": [
      "\u001b[0;31m---------------------------------------------------------------------------\u001b[0m",
      "\u001b[0;31mNoSuchElementException\u001b[0m                    Traceback (most recent call last)",
      "Cell \u001b[0;32mIn[23], line 1\u001b[0m\n\u001b[0;32m----> 1\u001b[0m player_stats_web_element \u001b[38;5;241m=\u001b[39m driver\u001b[38;5;241m.\u001b[39mfind_element(By\u001b[38;5;241m.\u001b[39mXPATH, \u001b[38;5;124m\"\u001b[39m\u001b[38;5;124m//div[contains(@class, \u001b[39m\u001b[38;5;124m'\u001b[39m\u001b[38;5;124mkYtrap\u001b[39m\u001b[38;5;124m'\u001b[39m\u001b[38;5;124m) and contains(text(), \u001b[39m\u001b[38;5;124m'\u001b[39m\u001b[38;5;124mPlayer statistics\u001b[39m\u001b[38;5;124m'\u001b[39m\u001b[38;5;124m)]\u001b[39m\u001b[38;5;124m\"\u001b[39m)\n",
      "File \u001b[0;32m~/anaconda3/lib/python3.11/site-packages/selenium/webdriver/remote/webdriver.py:741\u001b[0m, in \u001b[0;36mWebDriver.find_element\u001b[0;34m(self, by, value)\u001b[0m\n\u001b[1;32m    738\u001b[0m     by \u001b[38;5;241m=\u001b[39m By\u001b[38;5;241m.\u001b[39mCSS_SELECTOR\n\u001b[1;32m    739\u001b[0m     value \u001b[38;5;241m=\u001b[39m \u001b[38;5;124mf\u001b[39m\u001b[38;5;124m'\u001b[39m\u001b[38;5;124m[name=\u001b[39m\u001b[38;5;124m\"\u001b[39m\u001b[38;5;132;01m{\u001b[39;00mvalue\u001b[38;5;132;01m}\u001b[39;00m\u001b[38;5;124m\"\u001b[39m\u001b[38;5;124m]\u001b[39m\u001b[38;5;124m'\u001b[39m\n\u001b[0;32m--> 741\u001b[0m \u001b[38;5;28;01mreturn\u001b[39;00m \u001b[38;5;28mself\u001b[39m\u001b[38;5;241m.\u001b[39mexecute(Command\u001b[38;5;241m.\u001b[39mFIND_ELEMENT, {\u001b[38;5;124m\"\u001b[39m\u001b[38;5;124musing\u001b[39m\u001b[38;5;124m\"\u001b[39m: by, \u001b[38;5;124m\"\u001b[39m\u001b[38;5;124mvalue\u001b[39m\u001b[38;5;124m\"\u001b[39m: value})[\u001b[38;5;124m\"\u001b[39m\u001b[38;5;124mvalue\u001b[39m\u001b[38;5;124m\"\u001b[39m]\n",
      "File \u001b[0;32m~/anaconda3/lib/python3.11/site-packages/selenium/webdriver/remote/webdriver.py:347\u001b[0m, in \u001b[0;36mWebDriver.execute\u001b[0;34m(self, driver_command, params)\u001b[0m\n\u001b[1;32m    345\u001b[0m response \u001b[38;5;241m=\u001b[39m \u001b[38;5;28mself\u001b[39m\u001b[38;5;241m.\u001b[39mcommand_executor\u001b[38;5;241m.\u001b[39mexecute(driver_command, params)\n\u001b[1;32m    346\u001b[0m \u001b[38;5;28;01mif\u001b[39;00m response:\n\u001b[0;32m--> 347\u001b[0m     \u001b[38;5;28mself\u001b[39m\u001b[38;5;241m.\u001b[39merror_handler\u001b[38;5;241m.\u001b[39mcheck_response(response)\n\u001b[1;32m    348\u001b[0m     response[\u001b[38;5;124m\"\u001b[39m\u001b[38;5;124mvalue\u001b[39m\u001b[38;5;124m\"\u001b[39m] \u001b[38;5;241m=\u001b[39m \u001b[38;5;28mself\u001b[39m\u001b[38;5;241m.\u001b[39m_unwrap_value(response\u001b[38;5;241m.\u001b[39mget(\u001b[38;5;124m\"\u001b[39m\u001b[38;5;124mvalue\u001b[39m\u001b[38;5;124m\"\u001b[39m, \u001b[38;5;28;01mNone\u001b[39;00m))\n\u001b[1;32m    349\u001b[0m     \u001b[38;5;28;01mreturn\u001b[39;00m response\n",
      "File \u001b[0;32m~/anaconda3/lib/python3.11/site-packages/selenium/webdriver/remote/errorhandler.py:229\u001b[0m, in \u001b[0;36mErrorHandler.check_response\u001b[0;34m(self, response)\u001b[0m\n\u001b[1;32m    227\u001b[0m         alert_text \u001b[38;5;241m=\u001b[39m value[\u001b[38;5;124m\"\u001b[39m\u001b[38;5;124malert\u001b[39m\u001b[38;5;124m\"\u001b[39m]\u001b[38;5;241m.\u001b[39mget(\u001b[38;5;124m\"\u001b[39m\u001b[38;5;124mtext\u001b[39m\u001b[38;5;124m\"\u001b[39m)\n\u001b[1;32m    228\u001b[0m     \u001b[38;5;28;01mraise\u001b[39;00m exception_class(message, screen, stacktrace, alert_text)  \u001b[38;5;66;03m# type: ignore[call-arg]  # mypy is not smart enough here\u001b[39;00m\n\u001b[0;32m--> 229\u001b[0m \u001b[38;5;28;01mraise\u001b[39;00m exception_class(message, screen, stacktrace)\n",
      "\u001b[0;31mNoSuchElementException\u001b[0m: Message: no such element: Unable to locate element: {\"method\":\"xpath\",\"selector\":\"//div[contains(@class, 'kYtrap') and contains(text(), 'Player statistics')]\"}\n  (Session info: chrome=131.0.6778.109); For documentation on this error, please visit: https://www.selenium.dev/documentation/webdriver/troubleshooting/errors#no-such-element-exception\nStacktrace:\n0   chromedriver                        0x0000000100c7fb08 cxxbridge1$str$ptr + 3651580\n1   chromedriver                        0x0000000100c78358 cxxbridge1$str$ptr + 3620940\n2   chromedriver                        0x00000001006e04b4 cxxbridge1$string$len + 89224\n3   chromedriver                        0x0000000100724898 cxxbridge1$string$len + 368748\n4   chromedriver                        0x000000010075e0fc cxxbridge1$string$len + 604368\n5   chromedriver                        0x00000001007190b0 cxxbridge1$string$len + 321668\n6   chromedriver                        0x0000000100719d00 cxxbridge1$string$len + 324820\n7   chromedriver                        0x0000000100c4ae4c cxxbridge1$str$ptr + 3435328\n8   chromedriver                        0x0000000100c4e164 cxxbridge1$str$ptr + 3448408\n9   chromedriver                        0x0000000100c321c0 cxxbridge1$str$ptr + 3333812\n10  chromedriver                        0x0000000100c4ea24 cxxbridge1$str$ptr + 3450648\n11  chromedriver                        0x0000000100c239cc cxxbridge1$str$ptr + 3274432\n12  chromedriver                        0x0000000100c69138 cxxbridge1$str$ptr + 3558956\n13  chromedriver                        0x0000000100c692b4 cxxbridge1$str$ptr + 3559336\n14  chromedriver                        0x0000000100c77fcc cxxbridge1$str$ptr + 3620032\n15  libsystem_pthread.dylib             0x000000019933df94 _pthread_start + 136\n16  libsystem_pthread.dylib             0x0000000199338d34 thread_start + 8\n"
     ]
    }
   ],
   "source": [
    "player_stats_web_element = driver.find_element(By.XPATH, \"//div[contains(@class, 'kYtrap') and contains(text(), 'Player statistics')]\")\n"
   ]
  },
  {
   "cell_type": "markdown",
   "metadata": {},
   "source": [
    "# Sin automatizar de forma interactiva "
   ]
  },
  {
   "cell_type": "code",
   "execution_count": 19,
   "metadata": {},
   "outputs": [
    {
     "ename": "WebDriverException",
     "evalue": "Message: disconnected: not connected to DevTools\n  (failed to check if window was closed: disconnected: not connected to DevTools)\n  (Session info: chrome=131.0.6778.109)\nStacktrace:\n0   chromedriver                        0x0000000105283b08 cxxbridge1$str$ptr + 3651580\n1   chromedriver                        0x000000010527c358 cxxbridge1$str$ptr + 3620940\n2   chromedriver                        0x0000000104ce44b4 cxxbridge1$string$len + 89224\n3   chromedriver                        0x0000000104cce424 core::str::slice_error_fail::ha0e52dbcb60e6bae + 63828\n4   chromedriver                        0x0000000104cce354 core::str::slice_error_fail::ha0e52dbcb60e6bae + 63620\n5   chromedriver                        0x0000000104d61788 cxxbridge1$string$len + 601948\n6   chromedriver                        0x0000000104d1d0b0 cxxbridge1$string$len + 321668\n7   chromedriver                        0x0000000104d1dd00 cxxbridge1$string$len + 324820\n8   chromedriver                        0x000000010524ee4c cxxbridge1$str$ptr + 3435328\n9   chromedriver                        0x0000000105252164 cxxbridge1$str$ptr + 3448408\n10  chromedriver                        0x00000001052361c0 cxxbridge1$str$ptr + 3333812\n11  chromedriver                        0x0000000105252a24 cxxbridge1$str$ptr + 3450648\n12  chromedriver                        0x00000001052279cc cxxbridge1$str$ptr + 3274432\n13  chromedriver                        0x000000010526d138 cxxbridge1$str$ptr + 3558956\n14  chromedriver                        0x000000010526d2b4 cxxbridge1$str$ptr + 3559336\n15  chromedriver                        0x000000010527bfcc cxxbridge1$str$ptr + 3620032\n16  libsystem_pthread.dylib             0x000000019933df94 _pthread_start + 136\n17  libsystem_pthread.dylib             0x0000000199338d34 thread_start + 8\n",
     "output_type": "error",
     "traceback": [
      "\u001b[0;31m---------------------------------------------------------------------------\u001b[0m",
      "\u001b[0;31mWebDriverException\u001b[0m                        Traceback (most recent call last)",
      "Cell \u001b[0;32mIn[19], line 1\u001b[0m\n\u001b[0;32m----> 1\u001b[0m driver\u001b[38;5;241m.\u001b[39mpage_source\n",
      "File \u001b[0;32m~/anaconda3/lib/python3.11/site-packages/selenium/webdriver/remote/webdriver.py:448\u001b[0m, in \u001b[0;36mWebDriver.page_source\u001b[0;34m(self)\u001b[0m\n\u001b[1;32m    439\u001b[0m \u001b[38;5;129m@property\u001b[39m\n\u001b[1;32m    440\u001b[0m \u001b[38;5;28;01mdef\u001b[39;00m \u001b[38;5;21mpage_source\u001b[39m(\u001b[38;5;28mself\u001b[39m) \u001b[38;5;241m-\u001b[39m\u001b[38;5;241m>\u001b[39m \u001b[38;5;28mstr\u001b[39m:\n\u001b[1;32m    441\u001b[0m \u001b[38;5;250m    \u001b[39m\u001b[38;5;124;03m\"\"\"Gets the source of the current page.\u001b[39;00m\n\u001b[1;32m    442\u001b[0m \n\u001b[1;32m    443\u001b[0m \u001b[38;5;124;03m    :Usage:\u001b[39;00m\n\u001b[0;32m   (...)\u001b[0m\n\u001b[1;32m    446\u001b[0m \u001b[38;5;124;03m            driver.page_source\u001b[39;00m\n\u001b[1;32m    447\u001b[0m \u001b[38;5;124;03m    \"\"\"\u001b[39;00m\n\u001b[0;32m--> 448\u001b[0m     \u001b[38;5;28;01mreturn\u001b[39;00m \u001b[38;5;28mself\u001b[39m\u001b[38;5;241m.\u001b[39mexecute(Command\u001b[38;5;241m.\u001b[39mGET_PAGE_SOURCE)[\u001b[38;5;124m\"\u001b[39m\u001b[38;5;124mvalue\u001b[39m\u001b[38;5;124m\"\u001b[39m]\n",
      "File \u001b[0;32m~/anaconda3/lib/python3.11/site-packages/selenium/webdriver/remote/webdriver.py:347\u001b[0m, in \u001b[0;36mWebDriver.execute\u001b[0;34m(self, driver_command, params)\u001b[0m\n\u001b[1;32m    345\u001b[0m response \u001b[38;5;241m=\u001b[39m \u001b[38;5;28mself\u001b[39m\u001b[38;5;241m.\u001b[39mcommand_executor\u001b[38;5;241m.\u001b[39mexecute(driver_command, params)\n\u001b[1;32m    346\u001b[0m \u001b[38;5;28;01mif\u001b[39;00m response:\n\u001b[0;32m--> 347\u001b[0m     \u001b[38;5;28mself\u001b[39m\u001b[38;5;241m.\u001b[39merror_handler\u001b[38;5;241m.\u001b[39mcheck_response(response)\n\u001b[1;32m    348\u001b[0m     response[\u001b[38;5;124m\"\u001b[39m\u001b[38;5;124mvalue\u001b[39m\u001b[38;5;124m\"\u001b[39m] \u001b[38;5;241m=\u001b[39m \u001b[38;5;28mself\u001b[39m\u001b[38;5;241m.\u001b[39m_unwrap_value(response\u001b[38;5;241m.\u001b[39mget(\u001b[38;5;124m\"\u001b[39m\u001b[38;5;124mvalue\u001b[39m\u001b[38;5;124m\"\u001b[39m, \u001b[38;5;28;01mNone\u001b[39;00m))\n\u001b[1;32m    349\u001b[0m     \u001b[38;5;28;01mreturn\u001b[39;00m response\n",
      "File \u001b[0;32m~/anaconda3/lib/python3.11/site-packages/selenium/webdriver/remote/errorhandler.py:229\u001b[0m, in \u001b[0;36mErrorHandler.check_response\u001b[0;34m(self, response)\u001b[0m\n\u001b[1;32m    227\u001b[0m         alert_text \u001b[38;5;241m=\u001b[39m value[\u001b[38;5;124m\"\u001b[39m\u001b[38;5;124malert\u001b[39m\u001b[38;5;124m\"\u001b[39m]\u001b[38;5;241m.\u001b[39mget(\u001b[38;5;124m\"\u001b[39m\u001b[38;5;124mtext\u001b[39m\u001b[38;5;124m\"\u001b[39m)\n\u001b[1;32m    228\u001b[0m     \u001b[38;5;28;01mraise\u001b[39;00m exception_class(message, screen, stacktrace, alert_text)  \u001b[38;5;66;03m# type: ignore[call-arg]  # mypy is not smart enough here\u001b[39;00m\n\u001b[0;32m--> 229\u001b[0m \u001b[38;5;28;01mraise\u001b[39;00m exception_class(message, screen, stacktrace)\n",
      "\u001b[0;31mWebDriverException\u001b[0m: Message: disconnected: not connected to DevTools\n  (failed to check if window was closed: disconnected: not connected to DevTools)\n  (Session info: chrome=131.0.6778.109)\nStacktrace:\n0   chromedriver                        0x0000000105283b08 cxxbridge1$str$ptr + 3651580\n1   chromedriver                        0x000000010527c358 cxxbridge1$str$ptr + 3620940\n2   chromedriver                        0x0000000104ce44b4 cxxbridge1$string$len + 89224\n3   chromedriver                        0x0000000104cce424 core::str::slice_error_fail::ha0e52dbcb60e6bae + 63828\n4   chromedriver                        0x0000000104cce354 core::str::slice_error_fail::ha0e52dbcb60e6bae + 63620\n5   chromedriver                        0x0000000104d61788 cxxbridge1$string$len + 601948\n6   chromedriver                        0x0000000104d1d0b0 cxxbridge1$string$len + 321668\n7   chromedriver                        0x0000000104d1dd00 cxxbridge1$string$len + 324820\n8   chromedriver                        0x000000010524ee4c cxxbridge1$str$ptr + 3435328\n9   chromedriver                        0x0000000105252164 cxxbridge1$str$ptr + 3448408\n10  chromedriver                        0x00000001052361c0 cxxbridge1$str$ptr + 3333812\n11  chromedriver                        0x0000000105252a24 cxxbridge1$str$ptr + 3450648\n12  chromedriver                        0x00000001052279cc cxxbridge1$str$ptr + 3274432\n13  chromedriver                        0x000000010526d138 cxxbridge1$str$ptr + 3558956\n14  chromedriver                        0x000000010526d2b4 cxxbridge1$str$ptr + 3559336\n15  chromedriver                        0x000000010527bfcc cxxbridge1$str$ptr + 3620032\n16  libsystem_pthread.dylib             0x000000019933df94 _pthread_start + 136\n17  libsystem_pthread.dylib             0x0000000199338d34 thread_start + 8\n"
     ]
    }
   ],
   "source": [
    "driver.page_source"
   ]
  },
  {
   "cell_type": "markdown",
   "metadata": {},
   "source": [
    "## Sacamos primeros 5 datos "
   ]
  },
  {
   "cell_type": "code",
   "execution_count": 19,
   "metadata": {},
   "outputs": [],
   "source": [
    "import pandas as pd \n",
    "import time"
   ]
  },
  {
   "cell_type": "code",
   "execution_count": null,
   "metadata": {},
   "outputs": [
    {
     "name": "stdout",
     "output_type": "stream",
     "text": [
      "2\n"
     ]
    },
    {
     "name": "stderr",
     "output_type": "stream",
     "text": [
      "/var/folders/j3/hpmphyvj17z1xny136rnnkv80000gn/T/ipykernel_33839/688270126.py:8: FutureWarning: Passing literal html to 'read_html' is deprecated and will be removed in a future version. To read from a literal string, wrap it in a 'StringIO' object.\n",
      "  table_sofascore_def1=result = pd.concat([table_sofascore_def1, pd.read_html(driver.page_source, attrs={\"class\": \"sc-c347313f-8 kLmlmP\"})[0]], ignore_index=True)\n"
     ]
    },
    {
     "name": "stdout",
     "output_type": "stream",
     "text": [
      "3\n"
     ]
    },
    {
     "name": "stderr",
     "output_type": "stream",
     "text": [
      "/var/folders/j3/hpmphyvj17z1xny136rnnkv80000gn/T/ipykernel_33839/688270126.py:8: FutureWarning: Passing literal html to 'read_html' is deprecated and will be removed in a future version. To read from a literal string, wrap it in a 'StringIO' object.\n",
      "  table_sofascore_def1=result = pd.concat([table_sofascore_def1, pd.read_html(driver.page_source, attrs={\"class\": \"sc-c347313f-8 kLmlmP\"})[0]], ignore_index=True)\n"
     ]
    },
    {
     "name": "stdout",
     "output_type": "stream",
     "text": [
      "4\n"
     ]
    },
    {
     "name": "stderr",
     "output_type": "stream",
     "text": [
      "/var/folders/j3/hpmphyvj17z1xny136rnnkv80000gn/T/ipykernel_33839/688270126.py:8: FutureWarning: Passing literal html to 'read_html' is deprecated and will be removed in a future version. To read from a literal string, wrap it in a 'StringIO' object.\n",
      "  table_sofascore_def1=result = pd.concat([table_sofascore_def1, pd.read_html(driver.page_source, attrs={\"class\": \"sc-c347313f-8 kLmlmP\"})[0]], ignore_index=True)\n"
     ]
    },
    {
     "name": "stdout",
     "output_type": "stream",
     "text": [
      "5\n"
     ]
    },
    {
     "name": "stderr",
     "output_type": "stream",
     "text": [
      "/var/folders/j3/hpmphyvj17z1xny136rnnkv80000gn/T/ipykernel_33839/688270126.py:8: FutureWarning: Passing literal html to 'read_html' is deprecated and will be removed in a future version. To read from a literal string, wrap it in a 'StringIO' object.\n",
      "  table_sofascore_def1=result = pd.concat([table_sofascore_def1, pd.read_html(driver.page_source, attrs={\"class\": \"sc-c347313f-8 kLmlmP\"})[0]], ignore_index=True)\n"
     ]
    },
    {
     "name": "stdout",
     "output_type": "stream",
     "text": [
      "6\n"
     ]
    },
    {
     "name": "stderr",
     "output_type": "stream",
     "text": [
      "/var/folders/j3/hpmphyvj17z1xny136rnnkv80000gn/T/ipykernel_33839/688270126.py:8: FutureWarning: Passing literal html to 'read_html' is deprecated and will be removed in a future version. To read from a literal string, wrap it in a 'StringIO' object.\n",
      "  table_sofascore_def1=result = pd.concat([table_sofascore_def1, pd.read_html(driver.page_source, attrs={\"class\": \"sc-c347313f-8 kLmlmP\"})[0]], ignore_index=True)\n"
     ]
    },
    {
     "name": "stdout",
     "output_type": "stream",
     "text": [
      "7\n"
     ]
    },
    {
     "name": "stderr",
     "output_type": "stream",
     "text": [
      "/var/folders/j3/hpmphyvj17z1xny136rnnkv80000gn/T/ipykernel_33839/688270126.py:8: FutureWarning: Passing literal html to 'read_html' is deprecated and will be removed in a future version. To read from a literal string, wrap it in a 'StringIO' object.\n",
      "  table_sofascore_def1=result = pd.concat([table_sofascore_def1, pd.read_html(driver.page_source, attrs={\"class\": \"sc-c347313f-8 kLmlmP\"})[0]], ignore_index=True)\n"
     ]
    },
    {
     "name": "stdout",
     "output_type": "stream",
     "text": [
      "8\n"
     ]
    },
    {
     "name": "stderr",
     "output_type": "stream",
     "text": [
      "/var/folders/j3/hpmphyvj17z1xny136rnnkv80000gn/T/ipykernel_33839/688270126.py:8: FutureWarning: Passing literal html to 'read_html' is deprecated and will be removed in a future version. To read from a literal string, wrap it in a 'StringIO' object.\n",
      "  table_sofascore_def1=result = pd.concat([table_sofascore_def1, pd.read_html(driver.page_source, attrs={\"class\": \"sc-c347313f-8 kLmlmP\"})[0]], ignore_index=True)\n"
     ]
    },
    {
     "name": "stdout",
     "output_type": "stream",
     "text": [
      "9\n"
     ]
    },
    {
     "name": "stderr",
     "output_type": "stream",
     "text": [
      "/var/folders/j3/hpmphyvj17z1xny136rnnkv80000gn/T/ipykernel_33839/688270126.py:8: FutureWarning: Passing literal html to 'read_html' is deprecated and will be removed in a future version. To read from a literal string, wrap it in a 'StringIO' object.\n",
      "  table_sofascore_def1=result = pd.concat([table_sofascore_def1, pd.read_html(driver.page_source, attrs={\"class\": \"sc-c347313f-8 kLmlmP\"})[0]], ignore_index=True)\n"
     ]
    },
    {
     "name": "stdout",
     "output_type": "stream",
     "text": [
      "10\n"
     ]
    },
    {
     "name": "stderr",
     "output_type": "stream",
     "text": [
      "/var/folders/j3/hpmphyvj17z1xny136rnnkv80000gn/T/ipykernel_33839/688270126.py:8: FutureWarning: Passing literal html to 'read_html' is deprecated and will be removed in a future version. To read from a literal string, wrap it in a 'StringIO' object.\n",
      "  table_sofascore_def1=result = pd.concat([table_sofascore_def1, pd.read_html(driver.page_source, attrs={\"class\": \"sc-c347313f-8 kLmlmP\"})[0]], ignore_index=True)\n"
     ]
    }
   ],
   "source": [
    "\n",
    "table_sofascore_def1=pd.read_html(driver.page_source, attrs={\"class\": \"sc-c347313f-8 kLmlmP\"})[0]\n",
    "for i in range(9):\n",
    "    print(i+2)\n",
    "    button = driver.find_element(By.XPATH, f\"//button/span[text()='{i+2}']\")\n",
    "    button.click()\n",
    "    time.sleep(1)\n",
    "    table_sofascore_def1=result = pd.concat([table_sofascore_def1, pd.read_html(driver.page_source, attrs={\"class\": \"sc-c347313f-8 kLmlmP\"})[0]], ignore_index=True)\n"
   ]
  },
  {
   "cell_type": "code",
   "execution_count": 10,
   "metadata": {},
   "outputs": [],
   "source": [
    "table_sofascore_def1 = table_sofascore_def1.drop(columns=['#', 'Team'])\n",
    "table_sofascore_def1.to_csv(\"data/sofascore_premier_defensive_midfielders_1.csv\",index=False)"
   ]
  },
  {
   "cell_type": "code",
   "execution_count": 13,
   "metadata": {},
   "outputs": [
    {
     "name": "stderr",
     "output_type": "stream",
     "text": [
      "/var/folders/j3/hpmphyvj17z1xny136rnnkv80000gn/T/ipykernel_33839/248882938.py:1: FutureWarning: Passing literal html to 'read_html' is deprecated and will be removed in a future version. To read from a literal string, wrap it in a 'StringIO' object.\n",
      "  table_sofascore_def2=pd.read_html(driver.page_source, attrs={\"class\": \"sc-c347313f-8 kLmlmP\"})[0]\n"
     ]
    },
    {
     "name": "stdout",
     "output_type": "stream",
     "text": [
      "2\n"
     ]
    },
    {
     "name": "stderr",
     "output_type": "stream",
     "text": [
      "/var/folders/j3/hpmphyvj17z1xny136rnnkv80000gn/T/ipykernel_33839/248882938.py:7: FutureWarning: Passing literal html to 'read_html' is deprecated and will be removed in a future version. To read from a literal string, wrap it in a 'StringIO' object.\n",
      "  table_sofascore_def2=result = pd.concat([table_sofascore_def2, pd.read_html(driver.page_source, attrs={\"class\": \"sc-c347313f-8 kLmlmP\"})[0]], ignore_index=True)\n"
     ]
    },
    {
     "name": "stdout",
     "output_type": "stream",
     "text": [
      "3\n"
     ]
    },
    {
     "name": "stderr",
     "output_type": "stream",
     "text": [
      "/var/folders/j3/hpmphyvj17z1xny136rnnkv80000gn/T/ipykernel_33839/248882938.py:7: FutureWarning: Passing literal html to 'read_html' is deprecated and will be removed in a future version. To read from a literal string, wrap it in a 'StringIO' object.\n",
      "  table_sofascore_def2=result = pd.concat([table_sofascore_def2, pd.read_html(driver.page_source, attrs={\"class\": \"sc-c347313f-8 kLmlmP\"})[0]], ignore_index=True)\n"
     ]
    },
    {
     "name": "stdout",
     "output_type": "stream",
     "text": [
      "4\n"
     ]
    },
    {
     "name": "stderr",
     "output_type": "stream",
     "text": [
      "/var/folders/j3/hpmphyvj17z1xny136rnnkv80000gn/T/ipykernel_33839/248882938.py:7: FutureWarning: Passing literal html to 'read_html' is deprecated and will be removed in a future version. To read from a literal string, wrap it in a 'StringIO' object.\n",
      "  table_sofascore_def2=result = pd.concat([table_sofascore_def2, pd.read_html(driver.page_source, attrs={\"class\": \"sc-c347313f-8 kLmlmP\"})[0]], ignore_index=True)\n"
     ]
    },
    {
     "name": "stdout",
     "output_type": "stream",
     "text": [
      "5\n"
     ]
    },
    {
     "name": "stderr",
     "output_type": "stream",
     "text": [
      "/var/folders/j3/hpmphyvj17z1xny136rnnkv80000gn/T/ipykernel_33839/248882938.py:7: FutureWarning: Passing literal html to 'read_html' is deprecated and will be removed in a future version. To read from a literal string, wrap it in a 'StringIO' object.\n",
      "  table_sofascore_def2=result = pd.concat([table_sofascore_def2, pd.read_html(driver.page_source, attrs={\"class\": \"sc-c347313f-8 kLmlmP\"})[0]], ignore_index=True)\n"
     ]
    },
    {
     "name": "stdout",
     "output_type": "stream",
     "text": [
      "6\n"
     ]
    },
    {
     "name": "stderr",
     "output_type": "stream",
     "text": [
      "/var/folders/j3/hpmphyvj17z1xny136rnnkv80000gn/T/ipykernel_33839/248882938.py:7: FutureWarning: Passing literal html to 'read_html' is deprecated and will be removed in a future version. To read from a literal string, wrap it in a 'StringIO' object.\n",
      "  table_sofascore_def2=result = pd.concat([table_sofascore_def2, pd.read_html(driver.page_source, attrs={\"class\": \"sc-c347313f-8 kLmlmP\"})[0]], ignore_index=True)\n"
     ]
    },
    {
     "name": "stdout",
     "output_type": "stream",
     "text": [
      "7\n"
     ]
    },
    {
     "name": "stderr",
     "output_type": "stream",
     "text": [
      "/var/folders/j3/hpmphyvj17z1xny136rnnkv80000gn/T/ipykernel_33839/248882938.py:7: FutureWarning: Passing literal html to 'read_html' is deprecated and will be removed in a future version. To read from a literal string, wrap it in a 'StringIO' object.\n",
      "  table_sofascore_def2=result = pd.concat([table_sofascore_def2, pd.read_html(driver.page_source, attrs={\"class\": \"sc-c347313f-8 kLmlmP\"})[0]], ignore_index=True)\n"
     ]
    },
    {
     "name": "stdout",
     "output_type": "stream",
     "text": [
      "8\n"
     ]
    },
    {
     "name": "stderr",
     "output_type": "stream",
     "text": [
      "/var/folders/j3/hpmphyvj17z1xny136rnnkv80000gn/T/ipykernel_33839/248882938.py:7: FutureWarning: Passing literal html to 'read_html' is deprecated and will be removed in a future version. To read from a literal string, wrap it in a 'StringIO' object.\n",
      "  table_sofascore_def2=result = pd.concat([table_sofascore_def2, pd.read_html(driver.page_source, attrs={\"class\": \"sc-c347313f-8 kLmlmP\"})[0]], ignore_index=True)\n"
     ]
    },
    {
     "name": "stdout",
     "output_type": "stream",
     "text": [
      "9\n"
     ]
    },
    {
     "name": "stderr",
     "output_type": "stream",
     "text": [
      "/var/folders/j3/hpmphyvj17z1xny136rnnkv80000gn/T/ipykernel_33839/248882938.py:7: FutureWarning: Passing literal html to 'read_html' is deprecated and will be removed in a future version. To read from a literal string, wrap it in a 'StringIO' object.\n",
      "  table_sofascore_def2=result = pd.concat([table_sofascore_def2, pd.read_html(driver.page_source, attrs={\"class\": \"sc-c347313f-8 kLmlmP\"})[0]], ignore_index=True)\n"
     ]
    },
    {
     "name": "stdout",
     "output_type": "stream",
     "text": [
      "10\n"
     ]
    },
    {
     "name": "stderr",
     "output_type": "stream",
     "text": [
      "/var/folders/j3/hpmphyvj17z1xny136rnnkv80000gn/T/ipykernel_33839/248882938.py:7: FutureWarning: Passing literal html to 'read_html' is deprecated and will be removed in a future version. To read from a literal string, wrap it in a 'StringIO' object.\n",
      "  table_sofascore_def2=result = pd.concat([table_sofascore_def2, pd.read_html(driver.page_source, attrs={\"class\": \"sc-c347313f-8 kLmlmP\"})[0]], ignore_index=True)\n"
     ]
    }
   ],
   "source": [
    "table_sofascore_def2=pd.read_html(driver.page_source, attrs={\"class\": \"sc-c347313f-8 kLmlmP\"})[0]\n",
    "for i in range(9):\n",
    "    print(i+2)\n",
    "    button = driver.find_element(By.XPATH, f\"//button/span[text()='{i+2}']\")\n",
    "    button.click()\n",
    "    time.sleep(1)\n",
    "    table_sofascore_def2=result = pd.concat([table_sofascore_def2, pd.read_html(driver.page_source, attrs={\"class\": \"sc-c347313f-8 kLmlmP\"})[0]], ignore_index=True)\n"
   ]
  },
  {
   "cell_type": "code",
   "execution_count": 14,
   "metadata": {},
   "outputs": [],
   "source": [
    "table_sofascore_def2 = table_sofascore_def2.drop(columns=['#', 'Team'])\n",
    "table_sofascore_def2.to_csv(\"data/sofascore_premier_defensive_midfielders_2.csv\",index=False)"
   ]
  },
  {
   "cell_type": "code",
   "execution_count": null,
   "metadata": {},
   "outputs": [],
   "source": [
    "table_sofascore_defensive_stats=pd.merge(table_sofascore_def1, table_sofascore_def2, on='Name', how='inner')  \n",
    "table_sofascore_defensive_stats.to_csv(\"data/sofascore_premier_defensive_stats_midfielders.csv\",index=False)"
   ]
  }
 ],
 "metadata": {
  "kernelspec": {
   "display_name": "base",
   "language": "python",
   "name": "python3"
  },
  "language_info": {
   "codemirror_mode": {
    "name": "ipython",
    "version": 3
   },
   "file_extension": ".py",
   "mimetype": "text/x-python",
   "name": "python",
   "nbconvert_exporter": "python",
   "pygments_lexer": "ipython3",
   "version": "3.11.4"
  }
 },
 "nbformat": 4,
 "nbformat_minor": 2
}
