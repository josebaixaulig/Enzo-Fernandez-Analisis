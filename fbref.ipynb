{
 "cells": [
  {
   "cell_type": "code",
   "execution_count": 1,
   "metadata": {},
   "outputs": [],
   "source": [
    "from selenium import webdriver\n",
    "from selenium.webdriver.chrome.service import Service\n",
    "from selenium.webdriver.common.by import By\n",
    "from selenium.webdriver.chrome.options import Options\n",
    "import os\n",
    "import time\n",
    "import pandas as pd\n",
    "\n",
    "# Configurar las opciones de Chrome\n",
    "chrome_options = Options()\n",
    "chrome_options.add_argument(\"--start-maximized\")  # Inicia la ventana maximizada\n",
    "\n",
    "\n",
    "driver = webdriver.Chrome( options=chrome_options)\n",
    "\n",
    "\n",
    "driver.get('https://fbref.com/en/comps/9/stats/Premier-League-Stats')\n",
    "\n"
   ]
  },
  {
   "cell_type": "code",
   "execution_count": 7,
   "metadata": {},
   "outputs": [
    {
     "name": "stderr",
     "output_type": "stream",
     "text": [
      "/var/folders/j3/hpmphyvj17z1xny136rnnkv80000gn/T/ipykernel_37079/3148292483.py:1: FutureWarning: Passing literal html to 'read_html' is deprecated and will be removed in a future version. To read from a literal string, wrap it in a 'StringIO' object.\n",
      "  stats_standard=pd.read_html(driver.page_source, attrs={\"id\": \"stats_standard\"})[0]\n"
     ]
    }
   ],
   "source": [
    "stats_standard=pd.read_html(driver.page_source, attrs={\"id\": \"stats_standard\"})[0]\n",
    "stats_standard.columns = stats_standard.columns.droplevel(0)\n",
    "stats_standard = stats_standard[stats_standard['Rk'] != 'Rk']\n",
    "stats_standard_midfielders= stats_standard[stats_standard['Pos'].str.startswith('MF')]\n",
    "stats_standard_midfielders = stats_standard_midfielders.loc[:, ~stats_standard_midfielders.columns.duplicated()]\n",
    "stats_standard_midfielders['Gls-xG'] = stats_standard_midfielders['Gls'].astype(float) - stats_standard_midfielders['xG'].astype(float)\n",
    "stats_standard_midfielders=stats_standard_midfielders[['Player','Pos','MP','Min','PrgC','PrgP','xAG','xG','Gls','Gls-xG']]\n",
    "\n",
    "\n"
   ]
  },
  {
   "cell_type": "code",
   "execution_count": 10,
   "metadata": {},
   "outputs": [
    {
     "name": "stderr",
     "output_type": "stream",
     "text": [
      "/var/folders/j3/hpmphyvj17z1xny136rnnkv80000gn/T/ipykernel_37079/1054492095.py:1: FutureWarning: Passing literal html to 'read_html' is deprecated and will be removed in a future version. To read from a literal string, wrap it in a 'StringIO' object.\n",
      "  stats_passing=pd.read_html(driver.page_source, attrs={\"id\": \"stats_passing\"})[0]\n"
     ]
    }
   ],
   "source": [
    "\n",
    "stats_passing=pd.read_html(driver.page_source, attrs={\"id\": \"stats_passing\"})[0]\n",
    "stats_passing.columns = stats_passing.columns.droplevel(0)\n",
    "stats_passing = stats_passing[stats_passing['Rk'] != 'Rk']\n",
    "stats_passing_midfielders= stats_passing[stats_passing['Pos'].str.startswith('MF')]"
   ]
  },
  {
   "cell_type": "code",
   "execution_count": 12,
   "metadata": {},
   "outputs": [],
   "source": [
    "\n",
    "stats_passing_midfielders=stats_passing_midfielders[['Player','PPA']]"
   ]
  },
  {
   "cell_type": "code",
   "execution_count": null,
   "metadata": {},
   "outputs": [
    {
     "name": "stderr",
     "output_type": "stream",
     "text": [
      "/var/folders/j3/hpmphyvj17z1xny136rnnkv80000gn/T/ipykernel_37079/1692092506.py:1: FutureWarning: Passing literal html to 'read_html' is deprecated and will be removed in a future version. To read from a literal string, wrap it in a 'StringIO' object.\n",
      "  stats_possession=pd.read_html(driver.page_source, attrs={\"id\": \"stats_possession\"})[0]\n"
     ]
    }
   ],
   "source": [
    "stats_possession=pd.read_html(driver.page_source, attrs={\"id\": \"stats_possession\"})[0]\n",
    "stats_possession.columns = stats_possession.columns.droplevel(0)\n",
    "stats_possession = stats_possession[stats_possession['Rk'] != 'Rk']\n",
    "stats_possession_midfielders= stats_possession[stats_possession['Pos'].str.startswith('MF')]\n",
    "stats_possession_midfielders=stats_possession_midfielders[['Player','Att 3rd']]"
   ]
  },
  {
   "cell_type": "code",
   "execution_count": 19,
   "metadata": {},
   "outputs": [],
   "source": [
    "atacking_stats_midfielders=pd.merge(stats_standard_midfielders, stats_passing_midfielders, on='Player', how='inner')  \n",
    "atacking_stats_midfielders=pd.merge(atacking_stats_midfielders, stats_possession_midfielders, on='Player', how='inner')  "
   ]
  },
  {
   "cell_type": "code",
   "execution_count": 21,
   "metadata": {},
   "outputs": [],
   "source": [
    "atacking_stats_midfielders.to_csv('data/premier_midfielders_atacking_stats.csv',index=False)"
   ]
  },
  {
   "cell_type": "markdown",
   "metadata": {},
   "source": [
    "## Now Match Data"
   ]
  },
  {
   "cell_type": "code",
   "execution_count": 1,
   "metadata": {},
   "outputs": [],
   "source": [
    "from selenium import webdriver\n",
    "from selenium.webdriver.chrome.service import Service\n",
    "from selenium.webdriver.common.by import By\n",
    "from selenium.webdriver.chrome.options import Options\n",
    "import os\n",
    "import time\n",
    "import pandas as pd\n",
    "\n",
    "# Configurar las opciones de Chrome\n",
    "chrome_options = Options()\n",
    "chrome_options.add_argument(\"--start-maximized\")  # Inicia la ventana maximizada\n",
    "\n",
    "\n",
    "driver = webdriver.Chrome( options=chrome_options)\n",
    "\n",
    "\n",
    "driver.get('https://fbref.com/en/matches/abff9b73/Tottenham-Hotspur-Chelsea-December-8-2024-Premier-League')"
   ]
  },
  {
   "cell_type": "code",
   "execution_count": null,
   "metadata": {},
   "outputs": [],
   "source": [
    "Player,Pos,MP,Min,PrgC,PrgP,xAG,xG,Gls,Gls-xG,\n"
   ]
  },
  {
   "cell_type": "markdown",
   "metadata": {},
   "source": [
    "## Sumarry Stats"
   ]
  },
  {
   "cell_type": "code",
   "execution_count": 3,
   "metadata": {},
   "outputs": [
    {
     "name": "stderr",
     "output_type": "stream",
     "text": [
      "/var/folders/j3/hpmphyvj17z1xny136rnnkv80000gn/T/ipykernel_45065/82094965.py:1: FutureWarning: Passing literal html to 'read_html' is deprecated and will be removed in a future version. To read from a literal string, wrap it in a 'StringIO' object.\n",
      "  match_summary_stats_tot=pd.read_html(driver.page_source, attrs={\"id\": \"stats_361ca564_summary\"})[0]\n",
      "/var/folders/j3/hpmphyvj17z1xny136rnnkv80000gn/T/ipykernel_45065/82094965.py:5: FutureWarning: Passing literal html to 'read_html' is deprecated and will be removed in a future version. To read from a literal string, wrap it in a 'StringIO' object.\n",
      "  match_summary_stats_ch=pd.read_html(driver.page_source, attrs={\"id\": \"stats_cff3d9bb_summary\"})[0]\n"
     ]
    }
   ],
   "source": [
    "match_summary_stats_tot=pd.read_html(driver.page_source, attrs={\"id\": \"stats_361ca564_summary\"})[0]\n",
    "match_summary_stats_tot.columns = match_summary_stats_tot.columns.droplevel(0)\n",
    "match_summary_stats_tot = match_summary_stats_tot.iloc[:-1]\n",
    "\n",
    "match_summary_stats_ch=pd.read_html(driver.page_source, attrs={\"id\": \"stats_cff3d9bb_summary\"})[0]\n",
    "match_summary_stats_ch.columns = match_summary_stats_ch.columns.droplevel(0)\n",
    "match_summary_stats_ch = match_summary_stats_ch.iloc[:-1]\n",
    "\n",
    "match_summary_stats=pd.concat([match_summary_stats_tot, match_summary_stats_ch])\n",
    "\n",
    "match_summary_stats['Gls-xG'] = match_summary_stats['Gls'].astype(float) - match_summary_stats['xG'].astype(float)\n",
    "match_summary_stats=match_summary_stats[['Player','Pos','Min','PrgC','PrgP','xAG','xG','Gls-xG']]"
   ]
  },
  {
   "cell_type": "markdown",
   "metadata": {},
   "source": [
    "## Passisng "
   ]
  },
  {
   "cell_type": "code",
   "execution_count": null,
   "metadata": {},
   "outputs": [],
   "source": [
    "PPA,Att 3rd"
   ]
  },
  {
   "cell_type": "code",
   "execution_count": 8,
   "metadata": {},
   "outputs": [
    {
     "name": "stderr",
     "output_type": "stream",
     "text": [
      "/var/folders/j3/hpmphyvj17z1xny136rnnkv80000gn/T/ipykernel_45065/2532956537.py:1: FutureWarning: Passing literal html to 'read_html' is deprecated and will be removed in a future version. To read from a literal string, wrap it in a 'StringIO' object.\n",
      "  match_passing_stats_tot=pd.read_html(driver.page_source, attrs={\"id\": \"stats_361ca564_passing\"})[0]\n",
      "/var/folders/j3/hpmphyvj17z1xny136rnnkv80000gn/T/ipykernel_45065/2532956537.py:5: FutureWarning: Passing literal html to 'read_html' is deprecated and will be removed in a future version. To read from a literal string, wrap it in a 'StringIO' object.\n",
      "  match_passing_stats_ch=pd.read_html(driver.page_source, attrs={\"id\": \"stats_cff3d9bb_passing\"})[0]\n"
     ]
    }
   ],
   "source": [
    "match_passing_stats_tot=pd.read_html(driver.page_source, attrs={\"id\": \"stats_361ca564_passing\"})[0]\n",
    "match_passing_stats_tot.columns = match_passing_stats_tot.columns.droplevel(0)\n",
    "match_passing_stats_tot = match_passing_stats_tot.iloc[:-1]\n",
    "\n",
    "match_passing_stats_ch=pd.read_html(driver.page_source, attrs={\"id\": \"stats_cff3d9bb_passing\"})[0]\n",
    "match_passing_stats_ch.columns = match_passing_stats_ch.columns.droplevel(0)\n",
    "match_passing_stats_ch = match_passing_stats_ch.iloc[:-1]\n",
    "\n",
    "match_passing_stats=pd.concat([match_passing_stats_tot, match_passing_stats_ch])"
   ]
  },
  {
   "cell_type": "code",
   "execution_count": 9,
   "metadata": {},
   "outputs": [],
   "source": [
    "match_passing_stats=match_passing_stats[['Player','PPA']]\n",
    "final_data=pd.merge(match_summary_stats,match_passing_stats,on='Player', how='inner')"
   ]
  },
  {
   "cell_type": "markdown",
   "metadata": {},
   "source": [
    "## Receptions on final third"
   ]
  },
  {
   "cell_type": "code",
   "execution_count": 11,
   "metadata": {},
   "outputs": [
    {
     "name": "stderr",
     "output_type": "stream",
     "text": [
      "/var/folders/j3/hpmphyvj17z1xny136rnnkv80000gn/T/ipykernel_45065/293898164.py:1: FutureWarning: Passing literal html to 'read_html' is deprecated and will be removed in a future version. To read from a literal string, wrap it in a 'StringIO' object.\n",
      "  match_possession_stats_tot=pd.read_html(driver.page_source, attrs={\"id\": \"stats_361ca564_possession\"})[0]\n",
      "/var/folders/j3/hpmphyvj17z1xny136rnnkv80000gn/T/ipykernel_45065/293898164.py:5: FutureWarning: Passing literal html to 'read_html' is deprecated and will be removed in a future version. To read from a literal string, wrap it in a 'StringIO' object.\n",
      "  match_possession_stats_ch=pd.read_html(driver.page_source, attrs={\"id\": \"stats_cff3d9bb_possession\"})[0]\n"
     ]
    }
   ],
   "source": [
    "match_possession_stats_tot=pd.read_html(driver.page_source, attrs={\"id\": \"stats_361ca564_possession\"})[0]\n",
    "match_possession_stats_tot.columns = match_possession_stats_tot.columns.droplevel(0)\n",
    "match_possession_stats_tot = match_possession_stats_tot.iloc[:-1]\n",
    "\n",
    "match_possession_stats_ch=pd.read_html(driver.page_source, attrs={\"id\": \"stats_cff3d9bb_possession\"})[0]\n",
    "match_possession_stats_ch.columns = match_possession_stats_ch.columns.droplevel(0)\n",
    "match_possession_stats_ch = match_possession_stats_ch.iloc[:-1]\n",
    "\n",
    "match_possession_stats=pd.concat([match_possession_stats_tot, match_possession_stats_ch])"
   ]
  },
  {
   "cell_type": "code",
   "execution_count": null,
   "metadata": {},
   "outputs": [],
   "source": [
    "match_possession_stats['Att 3rd']"
   ]
  },
  {
   "cell_type": "code",
   "execution_count": 13,
   "metadata": {},
   "outputs": [],
   "source": [
    "match_possession_stats=match_possession_stats[['Player','Att 3rd']]\n",
    "final_data=pd.merge(final_data,match_possession_stats,on='Player', how='inner')"
   ]
  },
  {
   "cell_type": "code",
   "execution_count": 16,
   "metadata": {},
   "outputs": [],
   "source": [
    "final_data.to_csv('data/atacking_match_data.csv')"
   ]
  }
 ],
 "metadata": {
  "kernelspec": {
   "display_name": "base",
   "language": "python",
   "name": "python3"
  },
  "language_info": {
   "codemirror_mode": {
    "name": "ipython",
    "version": 3
   },
   "file_extension": ".py",
   "mimetype": "text/x-python",
   "name": "python",
   "nbconvert_exporter": "python",
   "pygments_lexer": "ipython3",
   "version": "3.11.4"
  }
 },
 "nbformat": 4,
 "nbformat_minor": 2
}
