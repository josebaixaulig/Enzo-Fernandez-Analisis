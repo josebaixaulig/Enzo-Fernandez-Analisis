{
 "cells": [
  {
   "cell_type": "code",
   "execution_count": 80,
   "metadata": {},
   "outputs": [],
   "source": [
    "import plotly.express as px\n",
    "import pandas as pd\n",
    "\n",
    "# Suponiendo que tu DataFrame se llama df\n",
    "df = pd.read_csv(\"midfielders_stats.csv\")  # Asegúrate de cargar tus datos correctamente\n",
    "\n",
    "import pandas as pd\n",
    "import plotly.graph_objects as go\n",
    "import numpy as np\n",
    "\n",
    "# Supongamos que tu DataFrame se llama df\n",
    "# Ajustamos las estadísticas a valores por 90 minutos\n",
    "stats_ofensive = ['PrgC', 'PrgP', 'xAG', 'xG', 'Gls', 'Gls-xG', 'PPA', 'Att 3rd']\n",
    "stats_defensiva = ['Tackles', 'Interceptions', 'Clearances', 'Ground duels won', \n",
    "                   'Ground duels won %', 'Total duels won', 'Aerial duels won %', \n",
    "                   'Aerial duels won', 'Total duels won %']\n",
    "\n",
    "all_stats=stats_ofensive + stats_defensiva\n",
    "# Convertimos las estadísticas a por 90 minutos\n",
    "for stat in all_stats:\n",
    "    if stat not in ['Ground duels won %','Aerial duels won %','Total duels won %']:\n",
    "        df[stat] = df[stat] / df['Minutes played'] * 90\n",
    "\n",
    "# Filtramos los jugadores que no alcanzan el percentil 45 en minutos jugados\n",
    "minutos_percentil_45 = np.percentile(df['Minutes played'], 45)\n",
    "df_filtered = df[df['Minutes played'] >= minutos_percentil_45]\n",
    "df_filtered=df_filtered[['Player']+all_stats]"
   ]
  },
  {
   "cell_type": "code",
   "execution_count": 81,
   "metadata": {},
   "outputs": [],
   "source": [
    "# Calcular la fila de la media solo para las columnas numéricas\n",
    "mean_row = df_filtered.mean(numeric_only=True)\n",
    "\n",
    "# Asignar el nombre 'Mean' a la columna 'Player'\n",
    "mean_row['Player'] = 'Mean'\n",
    "\n",
    "# Convertir mean_row en un DataFrame para poder concatenarlo\n",
    "mean_row_df = mean_row.to_frame().T  # .T transpuesta para convertir en una fila\n",
    "\n",
    "# Usar pd.concat para añadir la fila al DataFrame\n",
    "df_filtered_mean = pd.concat([df_filtered, mean_row_df], ignore_index=True)\n"
   ]
  },
  {
   "cell_type": "code",
   "execution_count": 82,
   "metadata": {},
   "outputs": [
    {
     "data": {
      "application/vnd.plotly.v1+json": {
       "config": {
        "plotlyServerURL": "https://plot.ly"
       },
       "data": [
        {
         "fill": "toself",
         "hoverinfo": "text",
         "line": {
          "color": "rgba(255, 100, 100, 0.7)",
          "width": 4
         },
         "name": "Enzo Fernández",
         "r": [
          0.7532467532467533,
          0.18181818181818182,
          0.3116883116883117,
          0.7012987012987013,
          0.5454545454545454,
          0.4805194805194805,
          0.10389610389610389,
          0.18181818181818182,
          0.33116883116883117
         ],
         "text": [
          "Tackles: 2.97",
          "Interceptions: 0.46",
          "Clearances: 0.74",
          "Ground duels won: 4.92",
          "Ground duels won %: 50.96",
          "Total duels won: 5.20",
          "Aerial duels won %: 20.00",
          "Aerial duels won: 0.28",
          "Total duels won %: 47.06"
         ],
         "theta": [
          "Tackles",
          "Interceptions",
          "Clearances",
          "Ground duels won",
          "Ground duels won %",
          "Total duels won",
          "Aerial duels won %",
          "Aerial duels won",
          "Total duels won %"
         ],
         "type": "scatterpolar"
        },
        {
         "fill": "toself",
         "hoverinfo": "text",
         "line": {
          "color": "rgba(100, 100, 255, 0.7)",
          "dash": "dot",
          "width": 4
         },
         "name": "Avg MCs in PL",
         "r": [
          0.48717948717948717,
          0.6025641025641025,
          0.6025641025641025,
          0.4615384615384615,
          0.4615384615384615,
          0.4743589743589743,
          0.5,
          0.6538461538461539,
          0.4358974358974359
         ],
         "text": [
          "Tackles: 2.18",
          "Interceptions: 0.99",
          "Clearances: 1.19",
          "Ground duels won: 4.33",
          "Ground duels won %: 49.56",
          "Total duels won: 5.20",
          "Aerial duels won %: 47.35",
          "Aerial duels won: 0.87",
          "Total duels won %: 49.46"
         ],
         "theta": [
          "Tackles",
          "Interceptions",
          "Clearances",
          "Ground duels won",
          "Ground duels won %",
          "Total duels won",
          "Aerial duels won %",
          "Aerial duels won",
          "Total duels won %"
         ],
         "type": "scatterpolar"
        }
       ],
       "layout": {
        "legend": {
         "bgcolor": "rgba(255, 255, 255, 0.8)",
         "bordercolor": "rgba(200, 200, 200, 0.6)",
         "borderwidth": 1,
         "font": {
          "color": "rgba(0, 0, 0, 0.7)",
          "size": 12
         },
         "x": 0.8,
         "y": 0.95
        },
        "paper_bgcolor": "white",
        "plot_bgcolor": "rgba(240, 240, 240, 0.9)",
        "polar": {
         "radialaxis": {
          "range": [
           0,
           1
          ],
          "showticklabels": true,
          "ticktext": [
           "0%",
           "20%",
           "40%",
           "60%",
           "80%",
           "100%"
          ],
          "tickvals": [
           0,
           0.2,
           0.4,
           0.6,
           0.8,
           1
          ],
          "visible": true
         }
        },
        "showlegend": true,
        "template": {
         "data": {
          "bar": [
           {
            "error_x": {
             "color": "#2a3f5f"
            },
            "error_y": {
             "color": "#2a3f5f"
            },
            "marker": {
             "line": {
              "color": "#E5ECF6",
              "width": 0.5
             },
             "pattern": {
              "fillmode": "overlay",
              "size": 10,
              "solidity": 0.2
             }
            },
            "type": "bar"
           }
          ],
          "barpolar": [
           {
            "marker": {
             "line": {
              "color": "#E5ECF6",
              "width": 0.5
             },
             "pattern": {
              "fillmode": "overlay",
              "size": 10,
              "solidity": 0.2
             }
            },
            "type": "barpolar"
           }
          ],
          "carpet": [
           {
            "aaxis": {
             "endlinecolor": "#2a3f5f",
             "gridcolor": "white",
             "linecolor": "white",
             "minorgridcolor": "white",
             "startlinecolor": "#2a3f5f"
            },
            "baxis": {
             "endlinecolor": "#2a3f5f",
             "gridcolor": "white",
             "linecolor": "white",
             "minorgridcolor": "white",
             "startlinecolor": "#2a3f5f"
            },
            "type": "carpet"
           }
          ],
          "choropleth": [
           {
            "colorbar": {
             "outlinewidth": 0,
             "ticks": ""
            },
            "type": "choropleth"
           }
          ],
          "contour": [
           {
            "colorbar": {
             "outlinewidth": 0,
             "ticks": ""
            },
            "colorscale": [
             [
              0,
              "#0d0887"
             ],
             [
              0.1111111111111111,
              "#46039f"
             ],
             [
              0.2222222222222222,
              "#7201a8"
             ],
             [
              0.3333333333333333,
              "#9c179e"
             ],
             [
              0.4444444444444444,
              "#bd3786"
             ],
             [
              0.5555555555555556,
              "#d8576b"
             ],
             [
              0.6666666666666666,
              "#ed7953"
             ],
             [
              0.7777777777777778,
              "#fb9f3a"
             ],
             [
              0.8888888888888888,
              "#fdca26"
             ],
             [
              1,
              "#f0f921"
             ]
            ],
            "type": "contour"
           }
          ],
          "contourcarpet": [
           {
            "colorbar": {
             "outlinewidth": 0,
             "ticks": ""
            },
            "type": "contourcarpet"
           }
          ],
          "heatmap": [
           {
            "colorbar": {
             "outlinewidth": 0,
             "ticks": ""
            },
            "colorscale": [
             [
              0,
              "#0d0887"
             ],
             [
              0.1111111111111111,
              "#46039f"
             ],
             [
              0.2222222222222222,
              "#7201a8"
             ],
             [
              0.3333333333333333,
              "#9c179e"
             ],
             [
              0.4444444444444444,
              "#bd3786"
             ],
             [
              0.5555555555555556,
              "#d8576b"
             ],
             [
              0.6666666666666666,
              "#ed7953"
             ],
             [
              0.7777777777777778,
              "#fb9f3a"
             ],
             [
              0.8888888888888888,
              "#fdca26"
             ],
             [
              1,
              "#f0f921"
             ]
            ],
            "type": "heatmap"
           }
          ],
          "heatmapgl": [
           {
            "colorbar": {
             "outlinewidth": 0,
             "ticks": ""
            },
            "colorscale": [
             [
              0,
              "#0d0887"
             ],
             [
              0.1111111111111111,
              "#46039f"
             ],
             [
              0.2222222222222222,
              "#7201a8"
             ],
             [
              0.3333333333333333,
              "#9c179e"
             ],
             [
              0.4444444444444444,
              "#bd3786"
             ],
             [
              0.5555555555555556,
              "#d8576b"
             ],
             [
              0.6666666666666666,
              "#ed7953"
             ],
             [
              0.7777777777777778,
              "#fb9f3a"
             ],
             [
              0.8888888888888888,
              "#fdca26"
             ],
             [
              1,
              "#f0f921"
             ]
            ],
            "type": "heatmapgl"
           }
          ],
          "histogram": [
           {
            "marker": {
             "pattern": {
              "fillmode": "overlay",
              "size": 10,
              "solidity": 0.2
             }
            },
            "type": "histogram"
           }
          ],
          "histogram2d": [
           {
            "colorbar": {
             "outlinewidth": 0,
             "ticks": ""
            },
            "colorscale": [
             [
              0,
              "#0d0887"
             ],
             [
              0.1111111111111111,
              "#46039f"
             ],
             [
              0.2222222222222222,
              "#7201a8"
             ],
             [
              0.3333333333333333,
              "#9c179e"
             ],
             [
              0.4444444444444444,
              "#bd3786"
             ],
             [
              0.5555555555555556,
              "#d8576b"
             ],
             [
              0.6666666666666666,
              "#ed7953"
             ],
             [
              0.7777777777777778,
              "#fb9f3a"
             ],
             [
              0.8888888888888888,
              "#fdca26"
             ],
             [
              1,
              "#f0f921"
             ]
            ],
            "type": "histogram2d"
           }
          ],
          "histogram2dcontour": [
           {
            "colorbar": {
             "outlinewidth": 0,
             "ticks": ""
            },
            "colorscale": [
             [
              0,
              "#0d0887"
             ],
             [
              0.1111111111111111,
              "#46039f"
             ],
             [
              0.2222222222222222,
              "#7201a8"
             ],
             [
              0.3333333333333333,
              "#9c179e"
             ],
             [
              0.4444444444444444,
              "#bd3786"
             ],
             [
              0.5555555555555556,
              "#d8576b"
             ],
             [
              0.6666666666666666,
              "#ed7953"
             ],
             [
              0.7777777777777778,
              "#fb9f3a"
             ],
             [
              0.8888888888888888,
              "#fdca26"
             ],
             [
              1,
              "#f0f921"
             ]
            ],
            "type": "histogram2dcontour"
           }
          ],
          "mesh3d": [
           {
            "colorbar": {
             "outlinewidth": 0,
             "ticks": ""
            },
            "type": "mesh3d"
           }
          ],
          "parcoords": [
           {
            "line": {
             "colorbar": {
              "outlinewidth": 0,
              "ticks": ""
             }
            },
            "type": "parcoords"
           }
          ],
          "pie": [
           {
            "automargin": true,
            "type": "pie"
           }
          ],
          "scatter": [
           {
            "fillpattern": {
             "fillmode": "overlay",
             "size": 10,
             "solidity": 0.2
            },
            "type": "scatter"
           }
          ],
          "scatter3d": [
           {
            "line": {
             "colorbar": {
              "outlinewidth": 0,
              "ticks": ""
             }
            },
            "marker": {
             "colorbar": {
              "outlinewidth": 0,
              "ticks": ""
             }
            },
            "type": "scatter3d"
           }
          ],
          "scattercarpet": [
           {
            "marker": {
             "colorbar": {
              "outlinewidth": 0,
              "ticks": ""
             }
            },
            "type": "scattercarpet"
           }
          ],
          "scattergeo": [
           {
            "marker": {
             "colorbar": {
              "outlinewidth": 0,
              "ticks": ""
             }
            },
            "type": "scattergeo"
           }
          ],
          "scattergl": [
           {
            "marker": {
             "colorbar": {
              "outlinewidth": 0,
              "ticks": ""
             }
            },
            "type": "scattergl"
           }
          ],
          "scattermapbox": [
           {
            "marker": {
             "colorbar": {
              "outlinewidth": 0,
              "ticks": ""
             }
            },
            "type": "scattermapbox"
           }
          ],
          "scatterpolar": [
           {
            "marker": {
             "colorbar": {
              "outlinewidth": 0,
              "ticks": ""
             }
            },
            "type": "scatterpolar"
           }
          ],
          "scatterpolargl": [
           {
            "marker": {
             "colorbar": {
              "outlinewidth": 0,
              "ticks": ""
             }
            },
            "type": "scatterpolargl"
           }
          ],
          "scatterternary": [
           {
            "marker": {
             "colorbar": {
              "outlinewidth": 0,
              "ticks": ""
             }
            },
            "type": "scatterternary"
           }
          ],
          "surface": [
           {
            "colorbar": {
             "outlinewidth": 0,
             "ticks": ""
            },
            "colorscale": [
             [
              0,
              "#0d0887"
             ],
             [
              0.1111111111111111,
              "#46039f"
             ],
             [
              0.2222222222222222,
              "#7201a8"
             ],
             [
              0.3333333333333333,
              "#9c179e"
             ],
             [
              0.4444444444444444,
              "#bd3786"
             ],
             [
              0.5555555555555556,
              "#d8576b"
             ],
             [
              0.6666666666666666,
              "#ed7953"
             ],
             [
              0.7777777777777778,
              "#fb9f3a"
             ],
             [
              0.8888888888888888,
              "#fdca26"
             ],
             [
              1,
              "#f0f921"
             ]
            ],
            "type": "surface"
           }
          ],
          "table": [
           {
            "cells": {
             "fill": {
              "color": "#EBF0F8"
             },
             "line": {
              "color": "white"
             }
            },
            "header": {
             "fill": {
              "color": "#C8D4E3"
             },
             "line": {
              "color": "white"
             }
            },
            "type": "table"
           }
          ]
         },
         "layout": {
          "annotationdefaults": {
           "arrowcolor": "#2a3f5f",
           "arrowhead": 0,
           "arrowwidth": 1
          },
          "autotypenumbers": "strict",
          "coloraxis": {
           "colorbar": {
            "outlinewidth": 0,
            "ticks": ""
           }
          },
          "colorscale": {
           "diverging": [
            [
             0,
             "#8e0152"
            ],
            [
             0.1,
             "#c51b7d"
            ],
            [
             0.2,
             "#de77ae"
            ],
            [
             0.3,
             "#f1b6da"
            ],
            [
             0.4,
             "#fde0ef"
            ],
            [
             0.5,
             "#f7f7f7"
            ],
            [
             0.6,
             "#e6f5d0"
            ],
            [
             0.7,
             "#b8e186"
            ],
            [
             0.8,
             "#7fbc41"
            ],
            [
             0.9,
             "#4d9221"
            ],
            [
             1,
             "#276419"
            ]
           ],
           "sequential": [
            [
             0,
             "#0d0887"
            ],
            [
             0.1111111111111111,
             "#46039f"
            ],
            [
             0.2222222222222222,
             "#7201a8"
            ],
            [
             0.3333333333333333,
             "#9c179e"
            ],
            [
             0.4444444444444444,
             "#bd3786"
            ],
            [
             0.5555555555555556,
             "#d8576b"
            ],
            [
             0.6666666666666666,
             "#ed7953"
            ],
            [
             0.7777777777777778,
             "#fb9f3a"
            ],
            [
             0.8888888888888888,
             "#fdca26"
            ],
            [
             1,
             "#f0f921"
            ]
           ],
           "sequentialminus": [
            [
             0,
             "#0d0887"
            ],
            [
             0.1111111111111111,
             "#46039f"
            ],
            [
             0.2222222222222222,
             "#7201a8"
            ],
            [
             0.3333333333333333,
             "#9c179e"
            ],
            [
             0.4444444444444444,
             "#bd3786"
            ],
            [
             0.5555555555555556,
             "#d8576b"
            ],
            [
             0.6666666666666666,
             "#ed7953"
            ],
            [
             0.7777777777777778,
             "#fb9f3a"
            ],
            [
             0.8888888888888888,
             "#fdca26"
            ],
            [
             1,
             "#f0f921"
            ]
           ]
          },
          "colorway": [
           "#636efa",
           "#EF553B",
           "#00cc96",
           "#ab63fa",
           "#FFA15A",
           "#19d3f3",
           "#FF6692",
           "#B6E880",
           "#FF97FF",
           "#FECB52"
          ],
          "font": {
           "color": "#2a3f5f"
          },
          "geo": {
           "bgcolor": "white",
           "lakecolor": "white",
           "landcolor": "#E5ECF6",
           "showlakes": true,
           "showland": true,
           "subunitcolor": "white"
          },
          "hoverlabel": {
           "align": "left"
          },
          "hovermode": "closest",
          "mapbox": {
           "style": "light"
          },
          "paper_bgcolor": "white",
          "plot_bgcolor": "#E5ECF6",
          "polar": {
           "angularaxis": {
            "gridcolor": "white",
            "linecolor": "white",
            "ticks": ""
           },
           "bgcolor": "#E5ECF6",
           "radialaxis": {
            "gridcolor": "white",
            "linecolor": "white",
            "ticks": ""
           }
          },
          "scene": {
           "xaxis": {
            "backgroundcolor": "#E5ECF6",
            "gridcolor": "white",
            "gridwidth": 2,
            "linecolor": "white",
            "showbackground": true,
            "ticks": "",
            "zerolinecolor": "white"
           },
           "yaxis": {
            "backgroundcolor": "#E5ECF6",
            "gridcolor": "white",
            "gridwidth": 2,
            "linecolor": "white",
            "showbackground": true,
            "ticks": "",
            "zerolinecolor": "white"
           },
           "zaxis": {
            "backgroundcolor": "#E5ECF6",
            "gridcolor": "white",
            "gridwidth": 2,
            "linecolor": "white",
            "showbackground": true,
            "ticks": "",
            "zerolinecolor": "white"
           }
          },
          "shapedefaults": {
           "line": {
            "color": "#2a3f5f"
           }
          },
          "ternary": {
           "aaxis": {
            "gridcolor": "white",
            "linecolor": "white",
            "ticks": ""
           },
           "baxis": {
            "gridcolor": "white",
            "linecolor": "white",
            "ticks": ""
           },
           "bgcolor": "#E5ECF6",
           "caxis": {
            "gridcolor": "white",
            "linecolor": "white",
            "ticks": ""
           }
          },
          "title": {
           "x": 0.05
          },
          "xaxis": {
           "automargin": true,
           "gridcolor": "white",
           "linecolor": "white",
           "ticks": "",
           "title": {
            "standoff": 15
           },
           "zerolinecolor": "white",
           "zerolinewidth": 2
          },
          "yaxis": {
           "automargin": true,
           "gridcolor": "white",
           "linecolor": "white",
           "ticks": "",
           "title": {
            "standoff": 15
           },
           "zerolinecolor": "white",
           "zerolinewidth": 2
          }
         }
        },
        "title": {
         "font": {
          "color": "rgba(0, 0, 0, 0.8)",
          "size": 18
         },
         "text": "Defensive Performance - Enzo Fernández vs Average Midfielders in PL",
         "x": 0.5,
         "xanchor": "center"
        }
       }
      }
     },
     "metadata": {},
     "output_type": "display_data"
    }
   ],
   "source": [
    "import plotly.graph_objects as go\n",
    "import numpy as np\n",
    "\n",
    "# Assume df_filtered and df_filtered_mean are already defined\n",
    "enzo_df = df_filtered[df_filtered['Player'] == 'Enzo Fernández']\n",
    "mean_df = df_filtered_mean[df_filtered_mean['Player'] == 'Mean']\n",
    "\n",
    "# List of offensive and defensive stats\n",
    "stats_ofensive = ['PrgC', 'PrgP', 'xAG', 'xG', 'Gls', 'Gls-xG', 'PPA', 'Att 3rd']\n",
    "stats_defensiva = ['Tackles', 'Interceptions', 'Clearances', 'Ground duels won', \n",
    "                   'Ground duels won %', 'Total duels won', 'Aerial duels won %', \n",
    "                   'Aerial duels won', 'Total duels won %']\n",
    "stats = stats_defensiva \n",
    "\n",
    "# Function to calculate the percentile\n",
    "def scale_by_percentile(df, stat, player_value):\n",
    "    percentiles = df[stat].rank(pct=True) * 100  # Calculate percentile rank\n",
    "    player_percentile = percentiles.loc[df['Player'] == player_value].values[0] / 100  # Percentile for Enzo\n",
    "    return player_percentile\n",
    "\n",
    "# Get adjusted values for Enzo and mean players for each stat\n",
    "values = [scale_by_percentile(df_filtered, stat, 'Enzo Fernández') for stat in stats]\n",
    "values_mean = [scale_by_percentile(df_filtered_mean, stat, 'Mean') for stat in stats]\n",
    "\n",
    "# Create the radar chart\n",
    "fig = go.Figure()\n",
    "\n",
    "# Add Enzo's trace with customized colors and styles\n",
    "fig.add_trace(go.Scatterpolar(\n",
    "    r=values,\n",
    "    theta=stats,\n",
    "    fill='toself',\n",
    "    name='Enzo Fernández',\n",
    "    line=dict(color='rgba(255, 100, 100, 0.7)', width=4),  # Red color with transparency\n",
    "    hoverinfo='text',\n",
    "    text=[f\"{stat}: {enzo_df[stat].iloc[0]:.2f}\" for stat in stats]\n",
    "))\n",
    "\n",
    "# Add the mean trace with a different color\n",
    "fig.add_trace(go.Scatterpolar(\n",
    "    r=values_mean,\n",
    "    theta=stats,\n",
    "    fill='toself',\n",
    "    name='Avg MCs in PL',\n",
    "    line=dict(color='rgba(100, 100, 255, 0.7)', width=4, dash='dot'),  # Blue color with dashed line\n",
    "    hoverinfo='text',\n",
    "    text=[f\"{stat}: {mean_df[stat].iloc[0]:.2f}\" for stat in stats]\n",
    "))\n",
    "\n",
    "# Customize layout for better presentation\n",
    "fig.update_layout(\n",
    "    polar=dict(\n",
    "        radialaxis=dict(\n",
    "            visible=True,\n",
    "            range=[0, 1],  # Range from 0 to 1 for percentiles\n",
    "            tickvals=[0, 0.2, 0.4, 0.6, 0.8, 1],\n",
    "            ticktext=['0%', '20%', '40%', '60%', '80%', '100%'],\n",
    "            showticklabels=True\n",
    "        ),\n",
    "    ),\n",
    "    title={\n",
    "        'text': 'Defensive Performance - Enzo Fernández vs Average Midfielders in PL',\n",
    "        'x': 0.5,  # Center the title\n",
    "        'xanchor': 'center',\n",
    "        'font': {'size': 18, 'color': 'rgba(0, 0, 0, 0.8)'}\n",
    "    },\n",
    "    showlegend=True,\n",
    "    legend=dict(\n",
    "        x=0.8, y=0.95,  # Position the legend to the top-right\n",
    "        font=dict(size=12, color='rgba(0, 0, 0, 0.7)'),\n",
    "        bgcolor='rgba(255, 255, 255, 0.8)',  # White background for the legend\n",
    "        bordercolor='rgba(200, 200, 200, 0.6)',  # Light gray border\n",
    "        borderwidth=1\n",
    "    ),\n",
    "    plot_bgcolor='rgba(240, 240, 240, 0.9)',  # Light gray background\n",
    "    paper_bgcolor='white'\n",
    ")\n",
    "\n",
    "# Show the figure\n",
    "fig.show()\n"
   ]
  },
  {
   "cell_type": "code",
   "execution_count": 83,
   "metadata": {},
   "outputs": [
    {
     "data": {
      "application/vnd.plotly.v1+json": {
       "config": {
        "plotlyServerURL": "https://plot.ly"
       },
       "data": [
        {
         "fill": "toself",
         "hoverinfo": "text",
         "line": {
          "color": "rgba(255, 100, 100, 0.7)",
          "width": 4
         },
         "name": "Enzo Fernández",
         "r": [
          0.4025974025974026,
          0.7402597402597402,
          0.7922077922077922,
          0.6883116883116884,
          0.8831168831168832,
          0.961038961038961,
          0.5194805194805194,
          0.8441558441558441
         ],
         "text": [
          "PrgC: 1.11",
          "PrgP: 5.66",
          "xAG: 0.21",
          "xG: 0.14",
          "Gls: 0.28",
          "Gls-xG: 0.14",
          "PPA: 0.93",
          "Att 3rd: 23.10"
         ],
         "theta": [
          "PrgC",
          "PrgP",
          "xAG",
          "xG",
          "Gls",
          "Gls-xG",
          "PPA",
          "Att 3rd"
         ],
         "type": "scatterpolar"
        },
        {
         "fill": "toself",
         "hoverinfo": "text",
         "line": {
          "color": "rgba(100, 100, 255, 0.7)",
          "dash": "dot",
          "width": 4
         },
         "name": "Avg MCs in PL",
         "r": [
          0.6282051282051282,
          0.5384615384615384,
          0.641025641025641,
          0.6153846153846154,
          0.6153846153846154,
          0.5384615384615384,
          0.5769230769230769,
          0.6538461538461539
         ],
         "text": [
          "PrgC: 1.58",
          "PrgP: 4.93",
          "xAG: 0.13",
          "xG: 0.13",
          "Gls: 0.12",
          "Gls-xG: -0.01",
          "PPA: 0.99",
          "Att 3rd: 17.34"
         ],
         "theta": [
          "PrgC",
          "PrgP",
          "xAG",
          "xG",
          "Gls",
          "Gls-xG",
          "PPA",
          "Att 3rd"
         ],
         "type": "scatterpolar"
        }
       ],
       "layout": {
        "legend": {
         "bgcolor": "rgba(255, 255, 255, 0.8)",
         "bordercolor": "rgba(200, 200, 200, 0.6)",
         "borderwidth": 1,
         "font": {
          "color": "rgba(0, 0, 0, 0.7)",
          "size": 12
         },
         "x": 0.8,
         "y": 0.95
        },
        "paper_bgcolor": "white",
        "plot_bgcolor": "rgba(240, 240, 240, 0.9)",
        "polar": {
         "radialaxis": {
          "range": [
           0,
           1
          ],
          "showticklabels": true,
          "ticktext": [
           "0%",
           "20%",
           "40%",
           "60%",
           "80%",
           "100%"
          ],
          "tickvals": [
           0,
           0.2,
           0.4,
           0.6,
           0.8,
           1
          ],
          "visible": true
         }
        },
        "showlegend": true,
        "template": {
         "data": {
          "bar": [
           {
            "error_x": {
             "color": "#2a3f5f"
            },
            "error_y": {
             "color": "#2a3f5f"
            },
            "marker": {
             "line": {
              "color": "#E5ECF6",
              "width": 0.5
             },
             "pattern": {
              "fillmode": "overlay",
              "size": 10,
              "solidity": 0.2
             }
            },
            "type": "bar"
           }
          ],
          "barpolar": [
           {
            "marker": {
             "line": {
              "color": "#E5ECF6",
              "width": 0.5
             },
             "pattern": {
              "fillmode": "overlay",
              "size": 10,
              "solidity": 0.2
             }
            },
            "type": "barpolar"
           }
          ],
          "carpet": [
           {
            "aaxis": {
             "endlinecolor": "#2a3f5f",
             "gridcolor": "white",
             "linecolor": "white",
             "minorgridcolor": "white",
             "startlinecolor": "#2a3f5f"
            },
            "baxis": {
             "endlinecolor": "#2a3f5f",
             "gridcolor": "white",
             "linecolor": "white",
             "minorgridcolor": "white",
             "startlinecolor": "#2a3f5f"
            },
            "type": "carpet"
           }
          ],
          "choropleth": [
           {
            "colorbar": {
             "outlinewidth": 0,
             "ticks": ""
            },
            "type": "choropleth"
           }
          ],
          "contour": [
           {
            "colorbar": {
             "outlinewidth": 0,
             "ticks": ""
            },
            "colorscale": [
             [
              0,
              "#0d0887"
             ],
             [
              0.1111111111111111,
              "#46039f"
             ],
             [
              0.2222222222222222,
              "#7201a8"
             ],
             [
              0.3333333333333333,
              "#9c179e"
             ],
             [
              0.4444444444444444,
              "#bd3786"
             ],
             [
              0.5555555555555556,
              "#d8576b"
             ],
             [
              0.6666666666666666,
              "#ed7953"
             ],
             [
              0.7777777777777778,
              "#fb9f3a"
             ],
             [
              0.8888888888888888,
              "#fdca26"
             ],
             [
              1,
              "#f0f921"
             ]
            ],
            "type": "contour"
           }
          ],
          "contourcarpet": [
           {
            "colorbar": {
             "outlinewidth": 0,
             "ticks": ""
            },
            "type": "contourcarpet"
           }
          ],
          "heatmap": [
           {
            "colorbar": {
             "outlinewidth": 0,
             "ticks": ""
            },
            "colorscale": [
             [
              0,
              "#0d0887"
             ],
             [
              0.1111111111111111,
              "#46039f"
             ],
             [
              0.2222222222222222,
              "#7201a8"
             ],
             [
              0.3333333333333333,
              "#9c179e"
             ],
             [
              0.4444444444444444,
              "#bd3786"
             ],
             [
              0.5555555555555556,
              "#d8576b"
             ],
             [
              0.6666666666666666,
              "#ed7953"
             ],
             [
              0.7777777777777778,
              "#fb9f3a"
             ],
             [
              0.8888888888888888,
              "#fdca26"
             ],
             [
              1,
              "#f0f921"
             ]
            ],
            "type": "heatmap"
           }
          ],
          "heatmapgl": [
           {
            "colorbar": {
             "outlinewidth": 0,
             "ticks": ""
            },
            "colorscale": [
             [
              0,
              "#0d0887"
             ],
             [
              0.1111111111111111,
              "#46039f"
             ],
             [
              0.2222222222222222,
              "#7201a8"
             ],
             [
              0.3333333333333333,
              "#9c179e"
             ],
             [
              0.4444444444444444,
              "#bd3786"
             ],
             [
              0.5555555555555556,
              "#d8576b"
             ],
             [
              0.6666666666666666,
              "#ed7953"
             ],
             [
              0.7777777777777778,
              "#fb9f3a"
             ],
             [
              0.8888888888888888,
              "#fdca26"
             ],
             [
              1,
              "#f0f921"
             ]
            ],
            "type": "heatmapgl"
           }
          ],
          "histogram": [
           {
            "marker": {
             "pattern": {
              "fillmode": "overlay",
              "size": 10,
              "solidity": 0.2
             }
            },
            "type": "histogram"
           }
          ],
          "histogram2d": [
           {
            "colorbar": {
             "outlinewidth": 0,
             "ticks": ""
            },
            "colorscale": [
             [
              0,
              "#0d0887"
             ],
             [
              0.1111111111111111,
              "#46039f"
             ],
             [
              0.2222222222222222,
              "#7201a8"
             ],
             [
              0.3333333333333333,
              "#9c179e"
             ],
             [
              0.4444444444444444,
              "#bd3786"
             ],
             [
              0.5555555555555556,
              "#d8576b"
             ],
             [
              0.6666666666666666,
              "#ed7953"
             ],
             [
              0.7777777777777778,
              "#fb9f3a"
             ],
             [
              0.8888888888888888,
              "#fdca26"
             ],
             [
              1,
              "#f0f921"
             ]
            ],
            "type": "histogram2d"
           }
          ],
          "histogram2dcontour": [
           {
            "colorbar": {
             "outlinewidth": 0,
             "ticks": ""
            },
            "colorscale": [
             [
              0,
              "#0d0887"
             ],
             [
              0.1111111111111111,
              "#46039f"
             ],
             [
              0.2222222222222222,
              "#7201a8"
             ],
             [
              0.3333333333333333,
              "#9c179e"
             ],
             [
              0.4444444444444444,
              "#bd3786"
             ],
             [
              0.5555555555555556,
              "#d8576b"
             ],
             [
              0.6666666666666666,
              "#ed7953"
             ],
             [
              0.7777777777777778,
              "#fb9f3a"
             ],
             [
              0.8888888888888888,
              "#fdca26"
             ],
             [
              1,
              "#f0f921"
             ]
            ],
            "type": "histogram2dcontour"
           }
          ],
          "mesh3d": [
           {
            "colorbar": {
             "outlinewidth": 0,
             "ticks": ""
            },
            "type": "mesh3d"
           }
          ],
          "parcoords": [
           {
            "line": {
             "colorbar": {
              "outlinewidth": 0,
              "ticks": ""
             }
            },
            "type": "parcoords"
           }
          ],
          "pie": [
           {
            "automargin": true,
            "type": "pie"
           }
          ],
          "scatter": [
           {
            "fillpattern": {
             "fillmode": "overlay",
             "size": 10,
             "solidity": 0.2
            },
            "type": "scatter"
           }
          ],
          "scatter3d": [
           {
            "line": {
             "colorbar": {
              "outlinewidth": 0,
              "ticks": ""
             }
            },
            "marker": {
             "colorbar": {
              "outlinewidth": 0,
              "ticks": ""
             }
            },
            "type": "scatter3d"
           }
          ],
          "scattercarpet": [
           {
            "marker": {
             "colorbar": {
              "outlinewidth": 0,
              "ticks": ""
             }
            },
            "type": "scattercarpet"
           }
          ],
          "scattergeo": [
           {
            "marker": {
             "colorbar": {
              "outlinewidth": 0,
              "ticks": ""
             }
            },
            "type": "scattergeo"
           }
          ],
          "scattergl": [
           {
            "marker": {
             "colorbar": {
              "outlinewidth": 0,
              "ticks": ""
             }
            },
            "type": "scattergl"
           }
          ],
          "scattermapbox": [
           {
            "marker": {
             "colorbar": {
              "outlinewidth": 0,
              "ticks": ""
             }
            },
            "type": "scattermapbox"
           }
          ],
          "scatterpolar": [
           {
            "marker": {
             "colorbar": {
              "outlinewidth": 0,
              "ticks": ""
             }
            },
            "type": "scatterpolar"
           }
          ],
          "scatterpolargl": [
           {
            "marker": {
             "colorbar": {
              "outlinewidth": 0,
              "ticks": ""
             }
            },
            "type": "scatterpolargl"
           }
          ],
          "scatterternary": [
           {
            "marker": {
             "colorbar": {
              "outlinewidth": 0,
              "ticks": ""
             }
            },
            "type": "scatterternary"
           }
          ],
          "surface": [
           {
            "colorbar": {
             "outlinewidth": 0,
             "ticks": ""
            },
            "colorscale": [
             [
              0,
              "#0d0887"
             ],
             [
              0.1111111111111111,
              "#46039f"
             ],
             [
              0.2222222222222222,
              "#7201a8"
             ],
             [
              0.3333333333333333,
              "#9c179e"
             ],
             [
              0.4444444444444444,
              "#bd3786"
             ],
             [
              0.5555555555555556,
              "#d8576b"
             ],
             [
              0.6666666666666666,
              "#ed7953"
             ],
             [
              0.7777777777777778,
              "#fb9f3a"
             ],
             [
              0.8888888888888888,
              "#fdca26"
             ],
             [
              1,
              "#f0f921"
             ]
            ],
            "type": "surface"
           }
          ],
          "table": [
           {
            "cells": {
             "fill": {
              "color": "#EBF0F8"
             },
             "line": {
              "color": "white"
             }
            },
            "header": {
             "fill": {
              "color": "#C8D4E3"
             },
             "line": {
              "color": "white"
             }
            },
            "type": "table"
           }
          ]
         },
         "layout": {
          "annotationdefaults": {
           "arrowcolor": "#2a3f5f",
           "arrowhead": 0,
           "arrowwidth": 1
          },
          "autotypenumbers": "strict",
          "coloraxis": {
           "colorbar": {
            "outlinewidth": 0,
            "ticks": ""
           }
          },
          "colorscale": {
           "diverging": [
            [
             0,
             "#8e0152"
            ],
            [
             0.1,
             "#c51b7d"
            ],
            [
             0.2,
             "#de77ae"
            ],
            [
             0.3,
             "#f1b6da"
            ],
            [
             0.4,
             "#fde0ef"
            ],
            [
             0.5,
             "#f7f7f7"
            ],
            [
             0.6,
             "#e6f5d0"
            ],
            [
             0.7,
             "#b8e186"
            ],
            [
             0.8,
             "#7fbc41"
            ],
            [
             0.9,
             "#4d9221"
            ],
            [
             1,
             "#276419"
            ]
           ],
           "sequential": [
            [
             0,
             "#0d0887"
            ],
            [
             0.1111111111111111,
             "#46039f"
            ],
            [
             0.2222222222222222,
             "#7201a8"
            ],
            [
             0.3333333333333333,
             "#9c179e"
            ],
            [
             0.4444444444444444,
             "#bd3786"
            ],
            [
             0.5555555555555556,
             "#d8576b"
            ],
            [
             0.6666666666666666,
             "#ed7953"
            ],
            [
             0.7777777777777778,
             "#fb9f3a"
            ],
            [
             0.8888888888888888,
             "#fdca26"
            ],
            [
             1,
             "#f0f921"
            ]
           ],
           "sequentialminus": [
            [
             0,
             "#0d0887"
            ],
            [
             0.1111111111111111,
             "#46039f"
            ],
            [
             0.2222222222222222,
             "#7201a8"
            ],
            [
             0.3333333333333333,
             "#9c179e"
            ],
            [
             0.4444444444444444,
             "#bd3786"
            ],
            [
             0.5555555555555556,
             "#d8576b"
            ],
            [
             0.6666666666666666,
             "#ed7953"
            ],
            [
             0.7777777777777778,
             "#fb9f3a"
            ],
            [
             0.8888888888888888,
             "#fdca26"
            ],
            [
             1,
             "#f0f921"
            ]
           ]
          },
          "colorway": [
           "#636efa",
           "#EF553B",
           "#00cc96",
           "#ab63fa",
           "#FFA15A",
           "#19d3f3",
           "#FF6692",
           "#B6E880",
           "#FF97FF",
           "#FECB52"
          ],
          "font": {
           "color": "#2a3f5f"
          },
          "geo": {
           "bgcolor": "white",
           "lakecolor": "white",
           "landcolor": "#E5ECF6",
           "showlakes": true,
           "showland": true,
           "subunitcolor": "white"
          },
          "hoverlabel": {
           "align": "left"
          },
          "hovermode": "closest",
          "mapbox": {
           "style": "light"
          },
          "paper_bgcolor": "white",
          "plot_bgcolor": "#E5ECF6",
          "polar": {
           "angularaxis": {
            "gridcolor": "white",
            "linecolor": "white",
            "ticks": ""
           },
           "bgcolor": "#E5ECF6",
           "radialaxis": {
            "gridcolor": "white",
            "linecolor": "white",
            "ticks": ""
           }
          },
          "scene": {
           "xaxis": {
            "backgroundcolor": "#E5ECF6",
            "gridcolor": "white",
            "gridwidth": 2,
            "linecolor": "white",
            "showbackground": true,
            "ticks": "",
            "zerolinecolor": "white"
           },
           "yaxis": {
            "backgroundcolor": "#E5ECF6",
            "gridcolor": "white",
            "gridwidth": 2,
            "linecolor": "white",
            "showbackground": true,
            "ticks": "",
            "zerolinecolor": "white"
           },
           "zaxis": {
            "backgroundcolor": "#E5ECF6",
            "gridcolor": "white",
            "gridwidth": 2,
            "linecolor": "white",
            "showbackground": true,
            "ticks": "",
            "zerolinecolor": "white"
           }
          },
          "shapedefaults": {
           "line": {
            "color": "#2a3f5f"
           }
          },
          "ternary": {
           "aaxis": {
            "gridcolor": "white",
            "linecolor": "white",
            "ticks": ""
           },
           "baxis": {
            "gridcolor": "white",
            "linecolor": "white",
            "ticks": ""
           },
           "bgcolor": "#E5ECF6",
           "caxis": {
            "gridcolor": "white",
            "linecolor": "white",
            "ticks": ""
           }
          },
          "title": {
           "x": 0.05
          },
          "xaxis": {
           "automargin": true,
           "gridcolor": "white",
           "linecolor": "white",
           "ticks": "",
           "title": {
            "standoff": 15
           },
           "zerolinecolor": "white",
           "zerolinewidth": 2
          },
          "yaxis": {
           "automargin": true,
           "gridcolor": "white",
           "linecolor": "white",
           "ticks": "",
           "title": {
            "standoff": 15
           },
           "zerolinecolor": "white",
           "zerolinewidth": 2
          }
         }
        },
        "title": {
         "font": {
          "color": "rgba(0, 0, 0, 0.8)",
          "size": 18
         },
         "text": "Defensive Performance - Enzo Fernández vs Average Midfielders in PL",
         "x": 0.5,
         "xanchor": "center"
        }
       }
      }
     },
     "metadata": {},
     "output_type": "display_data"
    }
   ],
   "source": [
    "import plotly.graph_objects as go\n",
    "import numpy as np\n",
    "\n",
    "# Assume df_filtered and df_filtered_mean are already defined\n",
    "enzo_df = df_filtered[df_filtered['Player'] == 'Enzo Fernández']\n",
    "mean_df = df_filtered_mean[df_filtered_mean['Player'] == 'Mean']\n",
    "\n",
    "# List of offensive and defensive stats\n",
    "stats_ofensive = ['PrgC', 'PrgP', 'xAG', 'xG', 'Gls', 'Gls-xG', 'PPA', 'Att 3rd']\n",
    "stats_defensiva = ['Tackles', 'Interceptions', 'Clearances', 'Ground duels won', \n",
    "                   'Ground duels won %', 'Total duels won', 'Aerial duels won %', \n",
    "                   'Aerial duels won', 'Total duels won %']\n",
    "stats = stats_ofensive \n",
    "\n",
    "# Function to calculate the percentile\n",
    "def scale_by_percentile(df, stat, player_value):\n",
    "    percentiles = df[stat].rank(pct=True) * 100  # Calculate percentile rank\n",
    "    player_percentile = percentiles.loc[df['Player'] == player_value].values[0] / 100  # Percentile for Enzo\n",
    "    return player_percentile\n",
    "\n",
    "# Get adjusted values for Enzo and mean players for each stat\n",
    "values = [scale_by_percentile(df_filtered, stat, 'Enzo Fernández') for stat in stats]\n",
    "values_mean = [scale_by_percentile(df_filtered_mean, stat, 'Mean') for stat in stats]\n",
    "\n",
    "# Create the radar chart\n",
    "fig = go.Figure()\n",
    "\n",
    "# Add Enzo's trace with customized colors and styles\n",
    "fig.add_trace(go.Scatterpolar(\n",
    "    r=values,\n",
    "    theta=stats,\n",
    "    fill='toself',\n",
    "    name='Enzo Fernández',\n",
    "    line=dict(color='rgba(255, 100, 100, 0.7)', width=4),  # Red color with transparency\n",
    "    hoverinfo='text',\n",
    "    text=[f\"{stat}: {enzo_df[stat].iloc[0]:.2f}\" for stat in stats]\n",
    "))\n",
    "\n",
    "# Add the mean trace with a different color\n",
    "fig.add_trace(go.Scatterpolar(\n",
    "    r=values_mean,\n",
    "    theta=stats,\n",
    "    fill='toself',\n",
    "    name='Avg MCs in PL',\n",
    "    line=dict(color='rgba(100, 100, 255, 0.7)', width=4, dash='dot'),  # Blue color with dashed line\n",
    "    hoverinfo='text',\n",
    "    text=[f\"{stat}: {mean_df[stat].iloc[0]:.2f}\" for stat in stats]\n",
    "))\n",
    "\n",
    "# Customize layout for better presentation\n",
    "fig.update_layout(\n",
    "    polar=dict(\n",
    "        radialaxis=dict(\n",
    "            visible=True,\n",
    "            range=[0, 1],  # Range from 0 to 1 for percentiles\n",
    "            tickvals=[0, 0.2, 0.4, 0.6, 0.8, 1],\n",
    "            ticktext=['0%', '20%', '40%', '60%', '80%', '100%'],\n",
    "            showticklabels=True\n",
    "        ),\n",
    "    ),\n",
    "    title={\n",
    "        'text': 'Defensive Performance - Enzo Fernández vs Average Midfielders in PL',\n",
    "        'x': 0.5,  # Center the title\n",
    "        'xanchor': 'center',\n",
    "        'font': {'size': 18, 'color': 'rgba(0, 0, 0, 0.8)'}\n",
    "    },\n",
    "    showlegend=True,\n",
    "    legend=dict(\n",
    "        x=0.8, y=0.95,  # Position the legend to the top-right\n",
    "        font=dict(size=12, color='rgba(0, 0, 0, 0.7)'),\n",
    "        bgcolor='rgba(255, 255, 255, 0.8)',  # White background for the legend\n",
    "        bordercolor='rgba(200, 200, 200, 0.6)',  # Light gray border\n",
    "        borderwidth=1\n",
    "    ),\n",
    "    plot_bgcolor='rgba(240, 240, 240, 0.9)',  # Light gray background\n",
    "    paper_bgcolor='white'\n",
    ")\n",
    "\n",
    "# Show the figure\n",
    "fig.show()\n"
   ]
  },
  {
   "cell_type": "code",
   "execution_count": null,
   "metadata": {},
   "outputs": [
    {
     "data": {
      "text/plain": [
       "Index(['Player', 'PrgC', 'PrgP', 'xAG', 'xG', 'Gls', 'Gls-xG', 'PPA',\n",
       "       'Att 3rd', 'Tackles', 'Interceptions', 'Clearances', 'Ground duels won',\n",
       "       'Ground duels won %', 'Total duels won', 'Aerial duels won %',\n",
       "       'Aerial duels won', 'Total duels won %'],\n",
       "      dtype='object')"
      ]
     },
     "execution_count": 87,
     "metadata": {},
     "output_type": "execute_result"
    }
   ],
   "source": [
    "\n",
    "df_filtered.columns"
   ]
  },
  {
   "cell_type": "code",
   "execution_count": null,
   "metadata": {},
   "outputs": [
    {
     "data": {
      "text/plain": [
       "Index(['Unnamed: 0', 'Player', 'Pos', 'Min', 'PrgC', 'PrgP', 'xAG', 'xG',\n",
       "       'Gls-xG', 'PPA', 'Att 3rd', 'Name', 'Total tackles', 'Interceptions',\n",
       "       'Clearances', 'Duels_total', 'Duels_won', 'Ground_duels_total',\n",
       "       'Ground_duels_won', 'Aerial_duels_total', 'Aerial_duels_won', 'Gls'],\n",
       "      dtype='object')"
      ]
     },
     "execution_count": 96,
     "metadata": {},
     "output_type": "execute_result"
    }
   ],
   "source": [
    "\n"
   ]
  },
  {
   "cell_type": "markdown",
   "metadata": {},
   "source": [
    "## Partido de Enzo contra el Chelsea"
   ]
  },
  {
   "cell_type": "code",
   "execution_count": 113,
   "metadata": {},
   "outputs": [
    {
     "data": {
      "text/html": [
       "<div>\n",
       "<style scoped>\n",
       "    .dataframe tbody tr th:only-of-type {\n",
       "        vertical-align: middle;\n",
       "    }\n",
       "\n",
       "    .dataframe tbody tr th {\n",
       "        vertical-align: top;\n",
       "    }\n",
       "\n",
       "    .dataframe thead th {\n",
       "        text-align: right;\n",
       "    }\n",
       "</style>\n",
       "<table border=\"1\" class=\"dataframe\">\n",
       "  <thead>\n",
       "    <tr style=\"text-align: right;\">\n",
       "      <th></th>\n",
       "      <th>Player</th>\n",
       "      <th>PrgC</th>\n",
       "      <th>PrgP</th>\n",
       "      <th>xAG</th>\n",
       "      <th>xG</th>\n",
       "      <th>Gls</th>\n",
       "      <th>Gls-xG</th>\n",
       "      <th>PPA</th>\n",
       "      <th>Att 3rd</th>\n",
       "      <th>Tackles</th>\n",
       "      <th>Interceptions</th>\n",
       "      <th>Clearances</th>\n",
       "      <th>Ground duels won</th>\n",
       "      <th>Ground duels won %</th>\n",
       "      <th>Total duels won</th>\n",
       "      <th>Aerial duels won %</th>\n",
       "      <th>Aerial duels won</th>\n",
       "      <th>Total duels won %</th>\n",
       "    </tr>\n",
       "  </thead>\n",
       "  <tbody>\n",
       "    <tr>\n",
       "      <th>0</th>\n",
       "      <td>Edson Álvarez</td>\n",
       "      <td>0.993691</td>\n",
       "      <td>4.826498</td>\n",
       "      <td>0.056782</td>\n",
       "      <td>0.014196</td>\n",
       "      <td>0.0</td>\n",
       "      <td>-0.014196</td>\n",
       "      <td>0.993691</td>\n",
       "      <td>10.930599</td>\n",
       "      <td>2.555205</td>\n",
       "      <td>1.419558</td>\n",
       "      <td>1.845426</td>\n",
       "      <td>4.400631</td>\n",
       "      <td>51.67</td>\n",
       "      <td>6.246057</td>\n",
       "      <td>65.0</td>\n",
       "      <td>1.845426</td>\n",
       "      <td>55.0</td>\n",
       "    </tr>\n",
       "    <tr>\n",
       "      <th>1</th>\n",
       "      <td>Elliot Anderson</td>\n",
       "      <td>2.192448</td>\n",
       "      <td>4.604141</td>\n",
       "      <td>0.219245</td>\n",
       "      <td>0.087698</td>\n",
       "      <td>0.0</td>\n",
       "      <td>-0.087698</td>\n",
       "      <td>0.548112</td>\n",
       "      <td>22.582217</td>\n",
       "      <td>3.17905</td>\n",
       "      <td>0.767357</td>\n",
       "      <td>1.644336</td>\n",
       "      <td>7.673569</td>\n",
       "      <td>57.85</td>\n",
       "      <td>8.989038</td>\n",
       "      <td>66.67</td>\n",
       "      <td>1.315469</td>\n",
       "      <td>58.99</td>\n",
       "    </tr>\n",
       "    <tr>\n",
       "      <th>2</th>\n",
       "      <td>André</td>\n",
       "      <td>0.515021</td>\n",
       "      <td>3.60515</td>\n",
       "      <td>0.025751</td>\n",
       "      <td>0.012876</td>\n",
       "      <td>0.0</td>\n",
       "      <td>-0.012876</td>\n",
       "      <td>0.257511</td>\n",
       "      <td>5.407725</td>\n",
       "      <td>3.60515</td>\n",
       "      <td>0.772532</td>\n",
       "      <td>1.158798</td>\n",
       "      <td>5.793991</td>\n",
       "      <td>65.22</td>\n",
       "      <td>5.922747</td>\n",
       "      <td>25.0</td>\n",
       "      <td>0.128755</td>\n",
       "      <td>63.01</td>\n",
       "    </tr>\n",
       "    <tr>\n",
       "      <th>3</th>\n",
       "      <td>Joe Aribo</td>\n",
       "      <td>2.302071</td>\n",
       "      <td>3.398295</td>\n",
       "      <td>0.109622</td>\n",
       "      <td>0.241169</td>\n",
       "      <td>0.219245</td>\n",
       "      <td>-0.021924</td>\n",
       "      <td>0.219245</td>\n",
       "      <td>16.552984</td>\n",
       "      <td>1.644336</td>\n",
       "      <td>0.986602</td>\n",
       "      <td>1.205847</td>\n",
       "      <td>4.384896</td>\n",
       "      <td>50.63</td>\n",
       "      <td>5.481121</td>\n",
       "      <td>76.92</td>\n",
       "      <td>1.096224</td>\n",
       "      <td>54.35</td>\n",
       "    </tr>\n",
       "    <tr>\n",
       "      <th>4</th>\n",
       "      <td>Yasin Ayari</td>\n",
       "      <td>1.327078</td>\n",
       "      <td>3.619303</td>\n",
       "      <td>0.096515</td>\n",
       "      <td>0.08445</td>\n",
       "      <td>0.0</td>\n",
       "      <td>-0.08445</td>\n",
       "      <td>1.085791</td>\n",
       "      <td>16.16622</td>\n",
       "      <td>3.49866</td>\n",
       "      <td>0.965147</td>\n",
       "      <td>0.965147</td>\n",
       "      <td>6.635389</td>\n",
       "      <td>53.4</td>\n",
       "      <td>7.117962</td>\n",
       "      <td>28.57</td>\n",
       "      <td>0.482574</td>\n",
       "      <td>50.43</td>\n",
       "    </tr>\n",
       "    <tr>\n",
       "      <th>...</th>\n",
       "      <td>...</td>\n",
       "      <td>...</td>\n",
       "      <td>...</td>\n",
       "      <td>...</td>\n",
       "      <td>...</td>\n",
       "      <td>...</td>\n",
       "      <td>...</td>\n",
       "      <td>...</td>\n",
       "      <td>...</td>\n",
       "      <td>...</td>\n",
       "      <td>...</td>\n",
       "      <td>...</td>\n",
       "      <td>...</td>\n",
       "      <td>...</td>\n",
       "      <td>...</td>\n",
       "      <td>...</td>\n",
       "      <td>...</td>\n",
       "      <td>...</td>\n",
       "    </tr>\n",
       "    <tr>\n",
       "      <th>73</th>\n",
       "      <td>Adam Wharton</td>\n",
       "      <td>0.864</td>\n",
       "      <td>8.784</td>\n",
       "      <td>0.0864</td>\n",
       "      <td>0.0288</td>\n",
       "      <td>0.0</td>\n",
       "      <td>-0.0288</td>\n",
       "      <td>1.584</td>\n",
       "      <td>15.696</td>\n",
       "      <td>2.592</td>\n",
       "      <td>1.44</td>\n",
       "      <td>1.872</td>\n",
       "      <td>4.464</td>\n",
       "      <td>44.93</td>\n",
       "      <td>5.184</td>\n",
       "      <td>31.25</td>\n",
       "      <td>0.72</td>\n",
       "      <td>42.35</td>\n",
       "    </tr>\n",
       "    <tr>\n",
       "      <th>74</th>\n",
       "      <td>Harry Winks</td>\n",
       "      <td>1.247113</td>\n",
       "      <td>6.13164</td>\n",
       "      <td>0.103926</td>\n",
       "      <td>0.020785</td>\n",
       "      <td>0.0</td>\n",
       "      <td>-0.020785</td>\n",
       "      <td>0.311778</td>\n",
       "      <td>10.184758</td>\n",
       "      <td>1.247113</td>\n",
       "      <td>0.415704</td>\n",
       "      <td>1.247113</td>\n",
       "      <td>2.078522</td>\n",
       "      <td>48.78</td>\n",
       "      <td>2.494226</td>\n",
       "      <td>40.0</td>\n",
       "      <td>0.415704</td>\n",
       "      <td>47.06</td>\n",
       "    </tr>\n",
       "    <tr>\n",
       "      <th>75</th>\n",
       "      <td>Ryan Yates</td>\n",
       "      <td>0.963426</td>\n",
       "      <td>2.408564</td>\n",
       "      <td>0.0562</td>\n",
       "      <td>0.128457</td>\n",
       "      <td>0.080285</td>\n",
       "      <td>-0.048171</td>\n",
       "      <td>0.240856</td>\n",
       "      <td>14.371097</td>\n",
       "      <td>1.926851</td>\n",
       "      <td>1.204282</td>\n",
       "      <td>2.569135</td>\n",
       "      <td>4.817128</td>\n",
       "      <td>52.17</td>\n",
       "      <td>7.386262</td>\n",
       "      <td>64.0</td>\n",
       "      <td>2.569135</td>\n",
       "      <td>55.76</td>\n",
       "    </tr>\n",
       "    <tr>\n",
       "      <th>76</th>\n",
       "      <td>Martin Ødegaard</td>\n",
       "      <td>3.238381</td>\n",
       "      <td>9.985007</td>\n",
       "      <td>0.202399</td>\n",
       "      <td>0.242879</td>\n",
       "      <td>0.134933</td>\n",
       "      <td>-0.107946</td>\n",
       "      <td>3.373313</td>\n",
       "      <td>28.74063</td>\n",
       "      <td>1.214393</td>\n",
       "      <td>0.134933</td>\n",
       "      <td>0.134933</td>\n",
       "      <td>4.047976</td>\n",
       "      <td>44.12</td>\n",
       "      <td>4.317841</td>\n",
       "      <td>100.0</td>\n",
       "      <td>0.269865</td>\n",
       "      <td>45.71</td>\n",
       "    </tr>\n",
       "    <tr>\n",
       "      <th>77</th>\n",
       "      <td>Mean</td>\n",
       "      <td>1.583139</td>\n",
       "      <td>4.929616</td>\n",
       "      <td>0.132986</td>\n",
       "      <td>0.126633</td>\n",
       "      <td>0.115653</td>\n",
       "      <td>-0.010981</td>\n",
       "      <td>0.988716</td>\n",
       "      <td>17.33649</td>\n",
       "      <td>2.18389</td>\n",
       "      <td>0.98738</td>\n",
       "      <td>1.185421</td>\n",
       "      <td>4.327142</td>\n",
       "      <td>49.562208</td>\n",
       "      <td>5.195717</td>\n",
       "      <td>47.345584</td>\n",
       "      <td>0.868576</td>\n",
       "      <td>49.456104</td>\n",
       "    </tr>\n",
       "  </tbody>\n",
       "</table>\n",
       "<p>78 rows × 18 columns</p>\n",
       "</div>"
      ],
      "text/plain": [
       "             Player      PrgC      PrgP       xAG        xG       Gls  \\\n",
       "0     Edson Álvarez  0.993691  4.826498  0.056782  0.014196       0.0   \n",
       "1   Elliot Anderson  2.192448  4.604141  0.219245  0.087698       0.0   \n",
       "2             André  0.515021   3.60515  0.025751  0.012876       0.0   \n",
       "3         Joe Aribo  2.302071  3.398295  0.109622  0.241169  0.219245   \n",
       "4       Yasin Ayari  1.327078  3.619303  0.096515   0.08445       0.0   \n",
       "..              ...       ...       ...       ...       ...       ...   \n",
       "73     Adam Wharton     0.864     8.784    0.0864    0.0288       0.0   \n",
       "74      Harry Winks  1.247113   6.13164  0.103926  0.020785       0.0   \n",
       "75       Ryan Yates  0.963426  2.408564    0.0562  0.128457  0.080285   \n",
       "76  Martin Ødegaard  3.238381  9.985007  0.202399  0.242879  0.134933   \n",
       "77             Mean  1.583139  4.929616  0.132986  0.126633  0.115653   \n",
       "\n",
       "      Gls-xG       PPA    Att 3rd   Tackles Interceptions Clearances  \\\n",
       "0  -0.014196  0.993691  10.930599  2.555205      1.419558   1.845426   \n",
       "1  -0.087698  0.548112  22.582217   3.17905      0.767357   1.644336   \n",
       "2  -0.012876  0.257511   5.407725   3.60515      0.772532   1.158798   \n",
       "3  -0.021924  0.219245  16.552984  1.644336      0.986602   1.205847   \n",
       "4   -0.08445  1.085791   16.16622   3.49866      0.965147   0.965147   \n",
       "..       ...       ...        ...       ...           ...        ...   \n",
       "73   -0.0288     1.584     15.696     2.592          1.44      1.872   \n",
       "74 -0.020785  0.311778  10.184758  1.247113      0.415704   1.247113   \n",
       "75 -0.048171  0.240856  14.371097  1.926851      1.204282   2.569135   \n",
       "76 -0.107946  3.373313   28.74063  1.214393      0.134933   0.134933   \n",
       "77 -0.010981  0.988716   17.33649   2.18389       0.98738   1.185421   \n",
       "\n",
       "   Ground duels won Ground duels won % Total duels won Aerial duels won %  \\\n",
       "0          4.400631              51.67        6.246057               65.0   \n",
       "1          7.673569              57.85        8.989038              66.67   \n",
       "2          5.793991              65.22        5.922747               25.0   \n",
       "3          4.384896              50.63        5.481121              76.92   \n",
       "4          6.635389               53.4        7.117962              28.57   \n",
       "..              ...                ...             ...                ...   \n",
       "73            4.464              44.93           5.184              31.25   \n",
       "74         2.078522              48.78        2.494226               40.0   \n",
       "75         4.817128              52.17        7.386262               64.0   \n",
       "76         4.047976              44.12        4.317841              100.0   \n",
       "77         4.327142          49.562208        5.195717          47.345584   \n",
       "\n",
       "   Aerial duels won Total duels won %  \n",
       "0          1.845426              55.0  \n",
       "1          1.315469             58.99  \n",
       "2          0.128755             63.01  \n",
       "3          1.096224             54.35  \n",
       "4          0.482574             50.43  \n",
       "..              ...               ...  \n",
       "73             0.72             42.35  \n",
       "74         0.415704             47.06  \n",
       "75         2.569135             55.76  \n",
       "76         0.269865             45.71  \n",
       "77         0.868576         49.456104  \n",
       "\n",
       "[78 rows x 18 columns]"
      ]
     },
     "execution_count": 113,
     "metadata": {},
     "output_type": "execute_result"
    }
   ],
   "source": [
    "df_filtered_mean"
   ]
  },
  {
   "cell_type": "code",
   "execution_count": null,
   "metadata": {},
   "outputs": [
    {
     "data": {
      "text/html": [
       "<div>\n",
       "<style scoped>\n",
       "    .dataframe tbody tr th:only-of-type {\n",
       "        vertical-align: middle;\n",
       "    }\n",
       "\n",
       "    .dataframe tbody tr th {\n",
       "        vertical-align: top;\n",
       "    }\n",
       "\n",
       "    .dataframe thead th {\n",
       "        text-align: right;\n",
       "    }\n",
       "</style>\n",
       "<table border=\"1\" class=\"dataframe\">\n",
       "  <thead>\n",
       "    <tr style=\"text-align: right;\">\n",
       "      <th></th>\n",
       "      <th>Unnamed: 0</th>\n",
       "      <th>Player</th>\n",
       "      <th>Pos</th>\n",
       "      <th>Min</th>\n",
       "      <th>PrgC</th>\n",
       "      <th>PrgP</th>\n",
       "      <th>xAG</th>\n",
       "      <th>xG</th>\n",
       "      <th>Gls-xG</th>\n",
       "      <th>PPA</th>\n",
       "      <th>...</th>\n",
       "      <th>Total tackles</th>\n",
       "      <th>Interceptions</th>\n",
       "      <th>Clearances</th>\n",
       "      <th>Duels_total</th>\n",
       "      <th>Duels_won</th>\n",
       "      <th>Ground_duels_total</th>\n",
       "      <th>Ground_duels_won</th>\n",
       "      <th>Aerial_duels_total</th>\n",
       "      <th>Aerial_duels_won</th>\n",
       "      <th>Gls</th>\n",
       "    </tr>\n",
       "  </thead>\n",
       "  <tbody>\n",
       "    <tr>\n",
       "      <th>23</th>\n",
       "      <td>23</td>\n",
       "      <td>Enzo Fernández Match</td>\n",
       "      <td>DM</td>\n",
       "      <td>90</td>\n",
       "      <td>1</td>\n",
       "      <td>10</td>\n",
       "      <td>0.0</td>\n",
       "      <td>0.1</td>\n",
       "      <td>0.9</td>\n",
       "      <td>4</td>\n",
       "      <td>...</td>\n",
       "      <td>2</td>\n",
       "      <td>2</td>\n",
       "      <td>1</td>\n",
       "      <td>10</td>\n",
       "      <td>5</td>\n",
       "      <td>9</td>\n",
       "      <td>5</td>\n",
       "      <td>1</td>\n",
       "      <td>0</td>\n",
       "      <td>1.0</td>\n",
       "    </tr>\n",
       "  </tbody>\n",
       "</table>\n",
       "<p>1 rows × 22 columns</p>\n",
       "</div>"
      ],
      "text/plain": [
       "    Unnamed: 0                Player Pos  Min  PrgC  PrgP  xAG   xG  Gls-xG  \\\n",
       "23          23  Enzo Fernández Match  DM   90     1    10  0.0  0.1     0.9   \n",
       "\n",
       "    PPA  ...  Total tackles Interceptions  Clearances  Duels_total  Duels_won  \\\n",
       "23    4  ...              2             2           1           10          5   \n",
       "\n",
       "    Ground_duels_total  Ground_duels_won  Aerial_duels_total  \\\n",
       "23                   9                 5                   1   \n",
       "\n",
       "    Aerial_duels_won  Gls  \n",
       "23                 0  1.0  \n",
       "\n",
       "[1 rows x 22 columns]"
      ]
     },
     "execution_count": 114,
     "metadata": {},
     "output_type": "execute_result"
    }
   ],
   "source": [
    "match_enzo_chelsea.rename()"
   ]
  },
  {
   "cell_type": "code",
   "execution_count": 126,
   "metadata": {},
   "outputs": [
    {
     "data": {
      "text/plain": [
       "Index(['Unnamed: 0', 'Player', 'Pos', 'Min', 'PrgC', 'PrgP', 'xAG', 'xG',\n",
       "       'Gls-xG', 'PPA', 'Att 3rd', 'Name', 'Total', 'Interceptions',\n",
       "       'Clearances', 'Duels total', 'Total Duels won', 'Ground duels total',\n",
       "       'Ground duels won', 'Aerial duels total', 'Aerial duels won', 'Gls',\n",
       "       'Ground duels won %', 'Aerial duels won %'],\n",
       "      dtype='object')"
      ]
     },
     "execution_count": 126,
     "metadata": {},
     "output_type": "execute_result"
    }
   ],
   "source": [
    "match_stats.columns"
   ]
  },
  {
   "cell_type": "code",
   "execution_count": 123,
   "metadata": {},
   "outputs": [
    {
     "data": {
      "text/plain": [
       "['PrgC',\n",
       " 'PrgP',\n",
       " 'xAG',\n",
       " 'xG',\n",
       " 'Gls',\n",
       " 'Gls-xG',\n",
       " 'PPA',\n",
       " 'Att 3rd',\n",
       " 'Tackles',\n",
       " 'Interceptions',\n",
       " 'Clearances',\n",
       " 'Ground duels won',\n",
       " 'Ground duels won %',\n",
       " 'Total duels won',\n",
       " 'Aerial duels won %',\n",
       " 'Aerial duels won',\n",
       " 'Total duels won %']"
      ]
     },
     "execution_count": 123,
     "metadata": {},
     "output_type": "execute_result"
    }
   ],
   "source": [
    "stats"
   ]
  },
  {
   "cell_type": "code",
   "execution_count": 128,
   "metadata": {},
   "outputs": [
    {
     "data": {
      "text/html": [
       "<div>\n",
       "<style scoped>\n",
       "    .dataframe tbody tr th:only-of-type {\n",
       "        vertical-align: middle;\n",
       "    }\n",
       "\n",
       "    .dataframe tbody tr th {\n",
       "        vertical-align: top;\n",
       "    }\n",
       "\n",
       "    .dataframe thead th {\n",
       "        text-align: right;\n",
       "    }\n",
       "</style>\n",
       "<table border=\"1\" class=\"dataframe\">\n",
       "  <thead>\n",
       "    <tr style=\"text-align: right;\">\n",
       "      <th></th>\n",
       "      <th>Unnamed: 0</th>\n",
       "      <th>Player</th>\n",
       "      <th>Pos</th>\n",
       "      <th>Min</th>\n",
       "      <th>PrgC</th>\n",
       "      <th>PrgP</th>\n",
       "      <th>xAG</th>\n",
       "      <th>xG</th>\n",
       "      <th>Gls-xG</th>\n",
       "      <th>PPA</th>\n",
       "      <th>...</th>\n",
       "      <th>Clearances</th>\n",
       "      <th>Duels total</th>\n",
       "      <th>Total Duels won</th>\n",
       "      <th>Ground duels total</th>\n",
       "      <th>Ground duels won</th>\n",
       "      <th>Aerial duels total</th>\n",
       "      <th>Aerial duels won</th>\n",
       "      <th>Gls</th>\n",
       "      <th>Ground duels won %</th>\n",
       "      <th>Aerial duels won %</th>\n",
       "    </tr>\n",
       "  </thead>\n",
       "  <tbody>\n",
       "    <tr>\n",
       "      <th>0</th>\n",
       "      <td>0</td>\n",
       "      <td>Dominic Solanke</td>\n",
       "      <td>FW</td>\n",
       "      <td>90</td>\n",
       "      <td>0</td>\n",
       "      <td>2</td>\n",
       "      <td>0.4</td>\n",
       "      <td>0.9</td>\n",
       "      <td>0.1</td>\n",
       "      <td>0</td>\n",
       "      <td>...</td>\n",
       "      <td>3</td>\n",
       "      <td>11</td>\n",
       "      <td>3</td>\n",
       "      <td>7</td>\n",
       "      <td>2</td>\n",
       "      <td>4</td>\n",
       "      <td>1</td>\n",
       "      <td>1.0</td>\n",
       "      <td>28.571429</td>\n",
       "      <td>25.000000</td>\n",
       "    </tr>\n",
       "    <tr>\n",
       "      <th>1</th>\n",
       "      <td>1</td>\n",
       "      <td>Son Heung-min</td>\n",
       "      <td>LW</td>\n",
       "      <td>90</td>\n",
       "      <td>5</td>\n",
       "      <td>4</td>\n",
       "      <td>1.3</td>\n",
       "      <td>1.0</td>\n",
       "      <td>0.0</td>\n",
       "      <td>1</td>\n",
       "      <td>...</td>\n",
       "      <td>1</td>\n",
       "      <td>6</td>\n",
       "      <td>2</td>\n",
       "      <td>6</td>\n",
       "      <td>2</td>\n",
       "      <td>0</td>\n",
       "      <td>0</td>\n",
       "      <td>1.0</td>\n",
       "      <td>33.333333</td>\n",
       "      <td>NaN</td>\n",
       "    </tr>\n",
       "    <tr>\n",
       "      <th>2</th>\n",
       "      <td>2</td>\n",
       "      <td>Brennan Johnson</td>\n",
       "      <td>RW</td>\n",
       "      <td>52</td>\n",
       "      <td>2</td>\n",
       "      <td>1</td>\n",
       "      <td>0.1</td>\n",
       "      <td>0.0</td>\n",
       "      <td>0.0</td>\n",
       "      <td>2</td>\n",
       "      <td>...</td>\n",
       "      <td>0</td>\n",
       "      <td>3</td>\n",
       "      <td>3</td>\n",
       "      <td>3</td>\n",
       "      <td>3</td>\n",
       "      <td>0</td>\n",
       "      <td>0</td>\n",
       "      <td>0.0</td>\n",
       "      <td>100.000000</td>\n",
       "      <td>NaN</td>\n",
       "    </tr>\n",
       "    <tr>\n",
       "      <th>3</th>\n",
       "      <td>3</td>\n",
       "      <td>Timo Werner</td>\n",
       "      <td>RW</td>\n",
       "      <td>38</td>\n",
       "      <td>0</td>\n",
       "      <td>2</td>\n",
       "      <td>0.4</td>\n",
       "      <td>0.0</td>\n",
       "      <td>0.0</td>\n",
       "      <td>1</td>\n",
       "      <td>...</td>\n",
       "      <td>1</td>\n",
       "      <td>5</td>\n",
       "      <td>2</td>\n",
       "      <td>5</td>\n",
       "      <td>2</td>\n",
       "      <td>0</td>\n",
       "      <td>0</td>\n",
       "      <td>0.0</td>\n",
       "      <td>40.000000</td>\n",
       "      <td>NaN</td>\n",
       "    </tr>\n",
       "    <tr>\n",
       "      <th>4</th>\n",
       "      <td>4</td>\n",
       "      <td>Pape Matar Sarr</td>\n",
       "      <td>LM,RM</td>\n",
       "      <td>90</td>\n",
       "      <td>0</td>\n",
       "      <td>1</td>\n",
       "      <td>0.0</td>\n",
       "      <td>0.5</td>\n",
       "      <td>-0.5</td>\n",
       "      <td>1</td>\n",
       "      <td>...</td>\n",
       "      <td>0</td>\n",
       "      <td>18</td>\n",
       "      <td>6</td>\n",
       "      <td>14</td>\n",
       "      <td>5</td>\n",
       "      <td>4</td>\n",
       "      <td>1</td>\n",
       "      <td>0.0</td>\n",
       "      <td>35.714286</td>\n",
       "      <td>25.000000</td>\n",
       "    </tr>\n",
       "    <tr>\n",
       "      <th>5</th>\n",
       "      <td>5</td>\n",
       "      <td>Yves Bissouma</td>\n",
       "      <td>CM</td>\n",
       "      <td>78</td>\n",
       "      <td>0</td>\n",
       "      <td>2</td>\n",
       "      <td>0.0</td>\n",
       "      <td>0.0</td>\n",
       "      <td>0.0</td>\n",
       "      <td>0</td>\n",
       "      <td>...</td>\n",
       "      <td>1</td>\n",
       "      <td>11</td>\n",
       "      <td>6</td>\n",
       "      <td>11</td>\n",
       "      <td>6</td>\n",
       "      <td>0</td>\n",
       "      <td>0</td>\n",
       "      <td>0.0</td>\n",
       "      <td>54.545455</td>\n",
       "      <td>NaN</td>\n",
       "    </tr>\n",
       "    <tr>\n",
       "      <th>6</th>\n",
       "      <td>6</td>\n",
       "      <td>Lucas Bergvall</td>\n",
       "      <td>CM</td>\n",
       "      <td>12</td>\n",
       "      <td>1</td>\n",
       "      <td>2</td>\n",
       "      <td>0.0</td>\n",
       "      <td>0.0</td>\n",
       "      <td>0.0</td>\n",
       "      <td>1</td>\n",
       "      <td>...</td>\n",
       "      <td>0</td>\n",
       "      <td>1</td>\n",
       "      <td>1</td>\n",
       "      <td>1</td>\n",
       "      <td>1</td>\n",
       "      <td>0</td>\n",
       "      <td>0</td>\n",
       "      <td>0.0</td>\n",
       "      <td>100.000000</td>\n",
       "      <td>NaN</td>\n",
       "    </tr>\n",
       "    <tr>\n",
       "      <th>7</th>\n",
       "      <td>7</td>\n",
       "      <td>Dejan Kulusevski</td>\n",
       "      <td>RM</td>\n",
       "      <td>78</td>\n",
       "      <td>5</td>\n",
       "      <td>2</td>\n",
       "      <td>0.0</td>\n",
       "      <td>0.1</td>\n",
       "      <td>0.9</td>\n",
       "      <td>1</td>\n",
       "      <td>...</td>\n",
       "      <td>0</td>\n",
       "      <td>12</td>\n",
       "      <td>4</td>\n",
       "      <td>12</td>\n",
       "      <td>4</td>\n",
       "      <td>0</td>\n",
       "      <td>0</td>\n",
       "      <td>1.0</td>\n",
       "      <td>33.333333</td>\n",
       "      <td>NaN</td>\n",
       "    </tr>\n",
       "    <tr>\n",
       "      <th>8</th>\n",
       "      <td>8</td>\n",
       "      <td>James Maddison</td>\n",
       "      <td>LM</td>\n",
       "      <td>12</td>\n",
       "      <td>2</td>\n",
       "      <td>0</td>\n",
       "      <td>0.5</td>\n",
       "      <td>0.1</td>\n",
       "      <td>-0.1</td>\n",
       "      <td>0</td>\n",
       "      <td>...</td>\n",
       "      <td>0</td>\n",
       "      <td>2</td>\n",
       "      <td>1</td>\n",
       "      <td>1</td>\n",
       "      <td>1</td>\n",
       "      <td>1</td>\n",
       "      <td>0</td>\n",
       "      <td>0.0</td>\n",
       "      <td>100.000000</td>\n",
       "      <td>0.000000</td>\n",
       "    </tr>\n",
       "    <tr>\n",
       "      <th>9</th>\n",
       "      <td>9</td>\n",
       "      <td>Destiny Udogie</td>\n",
       "      <td>LB</td>\n",
       "      <td>90</td>\n",
       "      <td>1</td>\n",
       "      <td>4</td>\n",
       "      <td>0.0</td>\n",
       "      <td>0.0</td>\n",
       "      <td>0.0</td>\n",
       "      <td>0</td>\n",
       "      <td>...</td>\n",
       "      <td>2</td>\n",
       "      <td>10</td>\n",
       "      <td>5</td>\n",
       "      <td>9</td>\n",
       "      <td>4</td>\n",
       "      <td>1</td>\n",
       "      <td>1</td>\n",
       "      <td>0.0</td>\n",
       "      <td>44.444444</td>\n",
       "      <td>100.000000</td>\n",
       "    </tr>\n",
       "    <tr>\n",
       "      <th>10</th>\n",
       "      <td>10</td>\n",
       "      <td>Micky van de Ven</td>\n",
       "      <td>CB</td>\n",
       "      <td>78</td>\n",
       "      <td>0</td>\n",
       "      <td>1</td>\n",
       "      <td>0.0</td>\n",
       "      <td>0.1</td>\n",
       "      <td>-0.1</td>\n",
       "      <td>0</td>\n",
       "      <td>...</td>\n",
       "      <td>5</td>\n",
       "      <td>2</td>\n",
       "      <td>1</td>\n",
       "      <td>2</td>\n",
       "      <td>1</td>\n",
       "      <td>0</td>\n",
       "      <td>0</td>\n",
       "      <td>0.0</td>\n",
       "      <td>50.000000</td>\n",
       "      <td>NaN</td>\n",
       "    </tr>\n",
       "    <tr>\n",
       "      <th>11</th>\n",
       "      <td>11</td>\n",
       "      <td>Archie Gray</td>\n",
       "      <td>CB</td>\n",
       "      <td>12</td>\n",
       "      <td>0</td>\n",
       "      <td>0</td>\n",
       "      <td>0.0</td>\n",
       "      <td>0.0</td>\n",
       "      <td>0.0</td>\n",
       "      <td>0</td>\n",
       "      <td>...</td>\n",
       "      <td>0</td>\n",
       "      <td>1</td>\n",
       "      <td>1</td>\n",
       "      <td>0</td>\n",
       "      <td>0</td>\n",
       "      <td>1</td>\n",
       "      <td>1</td>\n",
       "      <td>0.0</td>\n",
       "      <td>NaN</td>\n",
       "      <td>100.000000</td>\n",
       "    </tr>\n",
       "    <tr>\n",
       "      <th>12</th>\n",
       "      <td>12</td>\n",
       "      <td>Cristian Romero</td>\n",
       "      <td>CB</td>\n",
       "      <td>14</td>\n",
       "      <td>0</td>\n",
       "      <td>0</td>\n",
       "      <td>0.0</td>\n",
       "      <td>0.0</td>\n",
       "      <td>0.0</td>\n",
       "      <td>0</td>\n",
       "      <td>...</td>\n",
       "      <td>0</td>\n",
       "      <td>4</td>\n",
       "      <td>2</td>\n",
       "      <td>4</td>\n",
       "      <td>2</td>\n",
       "      <td>0</td>\n",
       "      <td>0</td>\n",
       "      <td>0.0</td>\n",
       "      <td>50.000000</td>\n",
       "      <td>NaN</td>\n",
       "    </tr>\n",
       "    <tr>\n",
       "      <th>13</th>\n",
       "      <td>13</td>\n",
       "      <td>Radu Drăgușin</td>\n",
       "      <td>CB</td>\n",
       "      <td>76</td>\n",
       "      <td>0</td>\n",
       "      <td>2</td>\n",
       "      <td>0.0</td>\n",
       "      <td>0.0</td>\n",
       "      <td>0.0</td>\n",
       "      <td>0</td>\n",
       "      <td>...</td>\n",
       "      <td>2</td>\n",
       "      <td>6</td>\n",
       "      <td>4</td>\n",
       "      <td>2</td>\n",
       "      <td>1</td>\n",
       "      <td>4</td>\n",
       "      <td>3</td>\n",
       "      <td>0.0</td>\n",
       "      <td>50.000000</td>\n",
       "      <td>75.000000</td>\n",
       "    </tr>\n",
       "    <tr>\n",
       "      <th>14</th>\n",
       "      <td>14</td>\n",
       "      <td>Pedro Porro</td>\n",
       "      <td>RB</td>\n",
       "      <td>90</td>\n",
       "      <td>1</td>\n",
       "      <td>4</td>\n",
       "      <td>0.2</td>\n",
       "      <td>0.1</td>\n",
       "      <td>-0.1</td>\n",
       "      <td>0</td>\n",
       "      <td>...</td>\n",
       "      <td>4</td>\n",
       "      <td>6</td>\n",
       "      <td>5</td>\n",
       "      <td>5</td>\n",
       "      <td>4</td>\n",
       "      <td>1</td>\n",
       "      <td>1</td>\n",
       "      <td>0.0</td>\n",
       "      <td>80.000000</td>\n",
       "      <td>100.000000</td>\n",
       "    </tr>\n",
       "    <tr>\n",
       "      <th>15</th>\n",
       "      <td>15</td>\n",
       "      <td>Fraser Forster</td>\n",
       "      <td>GK</td>\n",
       "      <td>90</td>\n",
       "      <td>0</td>\n",
       "      <td>0</td>\n",
       "      <td>0.0</td>\n",
       "      <td>0.0</td>\n",
       "      <td>0.0</td>\n",
       "      <td>0</td>\n",
       "      <td>...</td>\n",
       "      <td>0</td>\n",
       "      <td>0</td>\n",
       "      <td>0</td>\n",
       "      <td>0</td>\n",
       "      <td>0</td>\n",
       "      <td>0</td>\n",
       "      <td>0</td>\n",
       "      <td>0.0</td>\n",
       "      <td>NaN</td>\n",
       "      <td>NaN</td>\n",
       "    </tr>\n",
       "    <tr>\n",
       "      <th>16</th>\n",
       "      <td>16</td>\n",
       "      <td>Nicolas Jackson</td>\n",
       "      <td>FW</td>\n",
       "      <td>75</td>\n",
       "      <td>5</td>\n",
       "      <td>0</td>\n",
       "      <td>0.0</td>\n",
       "      <td>0.3</td>\n",
       "      <td>-0.3</td>\n",
       "      <td>0</td>\n",
       "      <td>...</td>\n",
       "      <td>1</td>\n",
       "      <td>13</td>\n",
       "      <td>3</td>\n",
       "      <td>12</td>\n",
       "      <td>2</td>\n",
       "      <td>1</td>\n",
       "      <td>1</td>\n",
       "      <td>0.0</td>\n",
       "      <td>16.666667</td>\n",
       "      <td>100.000000</td>\n",
       "    </tr>\n",
       "    <tr>\n",
       "      <th>17</th>\n",
       "      <td>17</td>\n",
       "      <td>Christopher Nkunku</td>\n",
       "      <td>FW</td>\n",
       "      <td>15</td>\n",
       "      <td>0</td>\n",
       "      <td>0</td>\n",
       "      <td>0.0</td>\n",
       "      <td>0.0</td>\n",
       "      <td>0.0</td>\n",
       "      <td>0</td>\n",
       "      <td>...</td>\n",
       "      <td>0</td>\n",
       "      <td>3</td>\n",
       "      <td>1</td>\n",
       "      <td>0</td>\n",
       "      <td>0</td>\n",
       "      <td>3</td>\n",
       "      <td>1</td>\n",
       "      <td>0.0</td>\n",
       "      <td>NaN</td>\n",
       "      <td>33.333333</td>\n",
       "    </tr>\n",
       "    <tr>\n",
       "      <th>18</th>\n",
       "      <td>18</td>\n",
       "      <td>Jadon Sancho</td>\n",
       "      <td>LW</td>\n",
       "      <td>90</td>\n",
       "      <td>8</td>\n",
       "      <td>6</td>\n",
       "      <td>0.0</td>\n",
       "      <td>0.4</td>\n",
       "      <td>0.6</td>\n",
       "      <td>5</td>\n",
       "      <td>...</td>\n",
       "      <td>0</td>\n",
       "      <td>6</td>\n",
       "      <td>3</td>\n",
       "      <td>5</td>\n",
       "      <td>3</td>\n",
       "      <td>1</td>\n",
       "      <td>0</td>\n",
       "      <td>1.0</td>\n",
       "      <td>60.000000</td>\n",
       "      <td>0.000000</td>\n",
       "    </tr>\n",
       "    <tr>\n",
       "      <th>19</th>\n",
       "      <td>19</td>\n",
       "      <td>Pedro Neto</td>\n",
       "      <td>RW</td>\n",
       "      <td>85</td>\n",
       "      <td>4</td>\n",
       "      <td>2</td>\n",
       "      <td>0.2</td>\n",
       "      <td>0.1</td>\n",
       "      <td>-0.1</td>\n",
       "      <td>1</td>\n",
       "      <td>...</td>\n",
       "      <td>0</td>\n",
       "      <td>10</td>\n",
       "      <td>5</td>\n",
       "      <td>9</td>\n",
       "      <td>5</td>\n",
       "      <td>1</td>\n",
       "      <td>0</td>\n",
       "      <td>0.0</td>\n",
       "      <td>55.555556</td>\n",
       "      <td>0.000000</td>\n",
       "    </tr>\n",
       "    <tr>\n",
       "      <th>20</th>\n",
       "      <td>20</td>\n",
       "      <td>Noni Madueke</td>\n",
       "      <td>RW</td>\n",
       "      <td>5</td>\n",
       "      <td>1</td>\n",
       "      <td>0</td>\n",
       "      <td>0.0</td>\n",
       "      <td>0.0</td>\n",
       "      <td>0.0</td>\n",
       "      <td>0</td>\n",
       "      <td>...</td>\n",
       "      <td>0</td>\n",
       "      <td>1</td>\n",
       "      <td>1</td>\n",
       "      <td>1</td>\n",
       "      <td>1</td>\n",
       "      <td>0</td>\n",
       "      <td>0</td>\n",
       "      <td>0.0</td>\n",
       "      <td>100.000000</td>\n",
       "      <td>NaN</td>\n",
       "    </tr>\n",
       "    <tr>\n",
       "      <th>21</th>\n",
       "      <td>21</td>\n",
       "      <td>Cole Palmer</td>\n",
       "      <td>AM</td>\n",
       "      <td>89</td>\n",
       "      <td>5</td>\n",
       "      <td>7</td>\n",
       "      <td>0.5</td>\n",
       "      <td>1.7</td>\n",
       "      <td>0.3</td>\n",
       "      <td>2</td>\n",
       "      <td>...</td>\n",
       "      <td>0</td>\n",
       "      <td>10</td>\n",
       "      <td>8</td>\n",
       "      <td>10</td>\n",
       "      <td>8</td>\n",
       "      <td>0</td>\n",
       "      <td>0</td>\n",
       "      <td>2.0</td>\n",
       "      <td>80.000000</td>\n",
       "      <td>NaN</td>\n",
       "    </tr>\n",
       "    <tr>\n",
       "      <th>22</th>\n",
       "      <td>22</td>\n",
       "      <td>João Félix</td>\n",
       "      <td>AM</td>\n",
       "      <td>1</td>\n",
       "      <td>0</td>\n",
       "      <td>0</td>\n",
       "      <td>0.0</td>\n",
       "      <td>0.0</td>\n",
       "      <td>0.0</td>\n",
       "      <td>0</td>\n",
       "      <td>...</td>\n",
       "      <td>0</td>\n",
       "      <td>2</td>\n",
       "      <td>0</td>\n",
       "      <td>2</td>\n",
       "      <td>0</td>\n",
       "      <td>0</td>\n",
       "      <td>0</td>\n",
       "      <td>0.0</td>\n",
       "      <td>0.000000</td>\n",
       "      <td>NaN</td>\n",
       "    </tr>\n",
       "    <tr>\n",
       "      <th>23</th>\n",
       "      <td>23</td>\n",
       "      <td>Enzo Fernández</td>\n",
       "      <td>DM</td>\n",
       "      <td>90</td>\n",
       "      <td>1</td>\n",
       "      <td>10</td>\n",
       "      <td>0.0</td>\n",
       "      <td>0.1</td>\n",
       "      <td>0.9</td>\n",
       "      <td>4</td>\n",
       "      <td>...</td>\n",
       "      <td>1</td>\n",
       "      <td>10</td>\n",
       "      <td>5</td>\n",
       "      <td>9</td>\n",
       "      <td>5</td>\n",
       "      <td>1</td>\n",
       "      <td>0</td>\n",
       "      <td>1.0</td>\n",
       "      <td>55.555556</td>\n",
       "      <td>0.000000</td>\n",
       "    </tr>\n",
       "    <tr>\n",
       "      <th>24</th>\n",
       "      <td>24</td>\n",
       "      <td>Roméo Lavia</td>\n",
       "      <td>DM</td>\n",
       "      <td>45</td>\n",
       "      <td>0</td>\n",
       "      <td>2</td>\n",
       "      <td>0.1</td>\n",
       "      <td>0.0</td>\n",
       "      <td>0.0</td>\n",
       "      <td>0</td>\n",
       "      <td>...</td>\n",
       "      <td>0</td>\n",
       "      <td>9</td>\n",
       "      <td>6</td>\n",
       "      <td>7</td>\n",
       "      <td>5</td>\n",
       "      <td>2</td>\n",
       "      <td>1</td>\n",
       "      <td>0.0</td>\n",
       "      <td>71.428571</td>\n",
       "      <td>50.000000</td>\n",
       "    </tr>\n",
       "    <tr>\n",
       "      <th>25</th>\n",
       "      <td>25</td>\n",
       "      <td>Malo Gusto</td>\n",
       "      <td>RB</td>\n",
       "      <td>45</td>\n",
       "      <td>0</td>\n",
       "      <td>1</td>\n",
       "      <td>0.0</td>\n",
       "      <td>0.0</td>\n",
       "      <td>0.0</td>\n",
       "      <td>0</td>\n",
       "      <td>...</td>\n",
       "      <td>0</td>\n",
       "      <td>3</td>\n",
       "      <td>2</td>\n",
       "      <td>3</td>\n",
       "      <td>2</td>\n",
       "      <td>0</td>\n",
       "      <td>0</td>\n",
       "      <td>0.0</td>\n",
       "      <td>66.666667</td>\n",
       "      <td>NaN</td>\n",
       "    </tr>\n",
       "    <tr>\n",
       "      <th>26</th>\n",
       "      <td>26</td>\n",
       "      <td>Marc Cucurella</td>\n",
       "      <td>LB</td>\n",
       "      <td>89</td>\n",
       "      <td>1</td>\n",
       "      <td>5</td>\n",
       "      <td>0.3</td>\n",
       "      <td>0.0</td>\n",
       "      <td>0.0</td>\n",
       "      <td>2</td>\n",
       "      <td>...</td>\n",
       "      <td>0</td>\n",
       "      <td>5</td>\n",
       "      <td>3</td>\n",
       "      <td>5</td>\n",
       "      <td>3</td>\n",
       "      <td>0</td>\n",
       "      <td>0</td>\n",
       "      <td>0.0</td>\n",
       "      <td>60.000000</td>\n",
       "      <td>NaN</td>\n",
       "    </tr>\n",
       "    <tr>\n",
       "      <th>27</th>\n",
       "      <td>27</td>\n",
       "      <td>Renato Veiga</td>\n",
       "      <td>LB</td>\n",
       "      <td>1</td>\n",
       "      <td>0</td>\n",
       "      <td>0</td>\n",
       "      <td>0.0</td>\n",
       "      <td>0.0</td>\n",
       "      <td>0.0</td>\n",
       "      <td>0</td>\n",
       "      <td>...</td>\n",
       "      <td>0</td>\n",
       "      <td>3</td>\n",
       "      <td>0</td>\n",
       "      <td>3</td>\n",
       "      <td>0</td>\n",
       "      <td>0</td>\n",
       "      <td>0</td>\n",
       "      <td>0.0</td>\n",
       "      <td>0.000000</td>\n",
       "      <td>NaN</td>\n",
       "    </tr>\n",
       "    <tr>\n",
       "      <th>28</th>\n",
       "      <td>28</td>\n",
       "      <td>Levi Colwill</td>\n",
       "      <td>CB</td>\n",
       "      <td>90</td>\n",
       "      <td>0</td>\n",
       "      <td>3</td>\n",
       "      <td>0.0</td>\n",
       "      <td>0.2</td>\n",
       "      <td>-0.2</td>\n",
       "      <td>0</td>\n",
       "      <td>...</td>\n",
       "      <td>2</td>\n",
       "      <td>4</td>\n",
       "      <td>2</td>\n",
       "      <td>2</td>\n",
       "      <td>1</td>\n",
       "      <td>2</td>\n",
       "      <td>1</td>\n",
       "      <td>0.0</td>\n",
       "      <td>50.000000</td>\n",
       "      <td>50.000000</td>\n",
       "    </tr>\n",
       "    <tr>\n",
       "      <th>29</th>\n",
       "      <td>29</td>\n",
       "      <td>Benoît Badiashile</td>\n",
       "      <td>CB</td>\n",
       "      <td>90</td>\n",
       "      <td>0</td>\n",
       "      <td>4</td>\n",
       "      <td>0.0</td>\n",
       "      <td>0.0</td>\n",
       "      <td>0.0</td>\n",
       "      <td>0</td>\n",
       "      <td>...</td>\n",
       "      <td>2</td>\n",
       "      <td>9</td>\n",
       "      <td>6</td>\n",
       "      <td>6</td>\n",
       "      <td>4</td>\n",
       "      <td>3</td>\n",
       "      <td>2</td>\n",
       "      <td>0.0</td>\n",
       "      <td>66.666667</td>\n",
       "      <td>66.666667</td>\n",
       "    </tr>\n",
       "    <tr>\n",
       "      <th>30</th>\n",
       "      <td>30</td>\n",
       "      <td>Moisés Caicedo</td>\n",
       "      <td>DM,RB</td>\n",
       "      <td>90</td>\n",
       "      <td>1</td>\n",
       "      <td>5</td>\n",
       "      <td>0.0</td>\n",
       "      <td>0.0</td>\n",
       "      <td>0.0</td>\n",
       "      <td>0</td>\n",
       "      <td>...</td>\n",
       "      <td>1</td>\n",
       "      <td>10</td>\n",
       "      <td>7</td>\n",
       "      <td>8</td>\n",
       "      <td>5</td>\n",
       "      <td>2</td>\n",
       "      <td>2</td>\n",
       "      <td>0.0</td>\n",
       "      <td>62.500000</td>\n",
       "      <td>100.000000</td>\n",
       "    </tr>\n",
       "    <tr>\n",
       "      <th>31</th>\n",
       "      <td>31</td>\n",
       "      <td>Robert Sánchez</td>\n",
       "      <td>GK</td>\n",
       "      <td>90</td>\n",
       "      <td>0</td>\n",
       "      <td>0</td>\n",
       "      <td>0.0</td>\n",
       "      <td>0.0</td>\n",
       "      <td>0.0</td>\n",
       "      <td>0</td>\n",
       "      <td>...</td>\n",
       "      <td>0</td>\n",
       "      <td>0</td>\n",
       "      <td>0</td>\n",
       "      <td>0</td>\n",
       "      <td>0</td>\n",
       "      <td>0</td>\n",
       "      <td>0</td>\n",
       "      <td>0.0</td>\n",
       "      <td>NaN</td>\n",
       "      <td>NaN</td>\n",
       "    </tr>\n",
       "  </tbody>\n",
       "</table>\n",
       "<p>32 rows × 24 columns</p>\n",
       "</div>"
      ],
      "text/plain": [
       "    Unnamed: 0              Player    Pos  Min  PrgC  PrgP  xAG   xG  Gls-xG  \\\n",
       "0            0     Dominic Solanke     FW   90     0     2  0.4  0.9     0.1   \n",
       "1            1       Son Heung-min     LW   90     5     4  1.3  1.0     0.0   \n",
       "2            2     Brennan Johnson     RW   52     2     1  0.1  0.0     0.0   \n",
       "3            3         Timo Werner     RW   38     0     2  0.4  0.0     0.0   \n",
       "4            4     Pape Matar Sarr  LM,RM   90     0     1  0.0  0.5    -0.5   \n",
       "5            5       Yves Bissouma     CM   78     0     2  0.0  0.0     0.0   \n",
       "6            6      Lucas Bergvall     CM   12     1     2  0.0  0.0     0.0   \n",
       "7            7    Dejan Kulusevski     RM   78     5     2  0.0  0.1     0.9   \n",
       "8            8      James Maddison     LM   12     2     0  0.5  0.1    -0.1   \n",
       "9            9      Destiny Udogie     LB   90     1     4  0.0  0.0     0.0   \n",
       "10          10    Micky van de Ven     CB   78     0     1  0.0  0.1    -0.1   \n",
       "11          11         Archie Gray     CB   12     0     0  0.0  0.0     0.0   \n",
       "12          12     Cristian Romero     CB   14     0     0  0.0  0.0     0.0   \n",
       "13          13       Radu Drăgușin     CB   76     0     2  0.0  0.0     0.0   \n",
       "14          14         Pedro Porro     RB   90     1     4  0.2  0.1    -0.1   \n",
       "15          15      Fraser Forster     GK   90     0     0  0.0  0.0     0.0   \n",
       "16          16     Nicolas Jackson     FW   75     5     0  0.0  0.3    -0.3   \n",
       "17          17  Christopher Nkunku     FW   15     0     0  0.0  0.0     0.0   \n",
       "18          18        Jadon Sancho     LW   90     8     6  0.0  0.4     0.6   \n",
       "19          19          Pedro Neto     RW   85     4     2  0.2  0.1    -0.1   \n",
       "20          20        Noni Madueke     RW    5     1     0  0.0  0.0     0.0   \n",
       "21          21         Cole Palmer     AM   89     5     7  0.5  1.7     0.3   \n",
       "22          22          João Félix     AM    1     0     0  0.0  0.0     0.0   \n",
       "23          23      Enzo Fernández     DM   90     1    10  0.0  0.1     0.9   \n",
       "24          24         Roméo Lavia     DM   45     0     2  0.1  0.0     0.0   \n",
       "25          25          Malo Gusto     RB   45     0     1  0.0  0.0     0.0   \n",
       "26          26      Marc Cucurella     LB   89     1     5  0.3  0.0     0.0   \n",
       "27          27        Renato Veiga     LB    1     0     0  0.0  0.0     0.0   \n",
       "28          28        Levi Colwill     CB   90     0     3  0.0  0.2    -0.2   \n",
       "29          29   Benoît Badiashile     CB   90     0     4  0.0  0.0     0.0   \n",
       "30          30      Moisés Caicedo  DM,RB   90     1     5  0.0  0.0     0.0   \n",
       "31          31      Robert Sánchez     GK   90     0     0  0.0  0.0     0.0   \n",
       "\n",
       "    PPA  ...  Clearances Duels total  Total Duels won  Ground duels total  \\\n",
       "0     0  ...           3          11                3                   7   \n",
       "1     1  ...           1           6                2                   6   \n",
       "2     2  ...           0           3                3                   3   \n",
       "3     1  ...           1           5                2                   5   \n",
       "4     1  ...           0          18                6                  14   \n",
       "5     0  ...           1          11                6                  11   \n",
       "6     1  ...           0           1                1                   1   \n",
       "7     1  ...           0          12                4                  12   \n",
       "8     0  ...           0           2                1                   1   \n",
       "9     0  ...           2          10                5                   9   \n",
       "10    0  ...           5           2                1                   2   \n",
       "11    0  ...           0           1                1                   0   \n",
       "12    0  ...           0           4                2                   4   \n",
       "13    0  ...           2           6                4                   2   \n",
       "14    0  ...           4           6                5                   5   \n",
       "15    0  ...           0           0                0                   0   \n",
       "16    0  ...           1          13                3                  12   \n",
       "17    0  ...           0           3                1                   0   \n",
       "18    5  ...           0           6                3                   5   \n",
       "19    1  ...           0          10                5                   9   \n",
       "20    0  ...           0           1                1                   1   \n",
       "21    2  ...           0          10                8                  10   \n",
       "22    0  ...           0           2                0                   2   \n",
       "23    4  ...           1          10                5                   9   \n",
       "24    0  ...           0           9                6                   7   \n",
       "25    0  ...           0           3                2                   3   \n",
       "26    2  ...           0           5                3                   5   \n",
       "27    0  ...           0           3                0                   3   \n",
       "28    0  ...           2           4                2                   2   \n",
       "29    0  ...           2           9                6                   6   \n",
       "30    0  ...           1          10                7                   8   \n",
       "31    0  ...           0           0                0                   0   \n",
       "\n",
       "    Ground duels won  Aerial duels total  Aerial duels won  Gls  \\\n",
       "0                  2                   4                 1  1.0   \n",
       "1                  2                   0                 0  1.0   \n",
       "2                  3                   0                 0  0.0   \n",
       "3                  2                   0                 0  0.0   \n",
       "4                  5                   4                 1  0.0   \n",
       "5                  6                   0                 0  0.0   \n",
       "6                  1                   0                 0  0.0   \n",
       "7                  4                   0                 0  1.0   \n",
       "8                  1                   1                 0  0.0   \n",
       "9                  4                   1                 1  0.0   \n",
       "10                 1                   0                 0  0.0   \n",
       "11                 0                   1                 1  0.0   \n",
       "12                 2                   0                 0  0.0   \n",
       "13                 1                   4                 3  0.0   \n",
       "14                 4                   1                 1  0.0   \n",
       "15                 0                   0                 0  0.0   \n",
       "16                 2                   1                 1  0.0   \n",
       "17                 0                   3                 1  0.0   \n",
       "18                 3                   1                 0  1.0   \n",
       "19                 5                   1                 0  0.0   \n",
       "20                 1                   0                 0  0.0   \n",
       "21                 8                   0                 0  2.0   \n",
       "22                 0                   0                 0  0.0   \n",
       "23                 5                   1                 0  1.0   \n",
       "24                 5                   2                 1  0.0   \n",
       "25                 2                   0                 0  0.0   \n",
       "26                 3                   0                 0  0.0   \n",
       "27                 0                   0                 0  0.0   \n",
       "28                 1                   2                 1  0.0   \n",
       "29                 4                   3                 2  0.0   \n",
       "30                 5                   2                 2  0.0   \n",
       "31                 0                   0                 0  0.0   \n",
       "\n",
       "    Ground duels won %  Aerial duels won %  \n",
       "0            28.571429           25.000000  \n",
       "1            33.333333                 NaN  \n",
       "2           100.000000                 NaN  \n",
       "3            40.000000                 NaN  \n",
       "4            35.714286           25.000000  \n",
       "5            54.545455                 NaN  \n",
       "6           100.000000                 NaN  \n",
       "7            33.333333                 NaN  \n",
       "8           100.000000            0.000000  \n",
       "9            44.444444          100.000000  \n",
       "10           50.000000                 NaN  \n",
       "11                 NaN          100.000000  \n",
       "12           50.000000                 NaN  \n",
       "13           50.000000           75.000000  \n",
       "14           80.000000          100.000000  \n",
       "15                 NaN                 NaN  \n",
       "16           16.666667          100.000000  \n",
       "17                 NaN           33.333333  \n",
       "18           60.000000            0.000000  \n",
       "19           55.555556            0.000000  \n",
       "20          100.000000                 NaN  \n",
       "21           80.000000                 NaN  \n",
       "22            0.000000                 NaN  \n",
       "23           55.555556            0.000000  \n",
       "24           71.428571           50.000000  \n",
       "25           66.666667                 NaN  \n",
       "26           60.000000                 NaN  \n",
       "27            0.000000                 NaN  \n",
       "28           50.000000           50.000000  \n",
       "29           66.666667           66.666667  \n",
       "30           62.500000          100.000000  \n",
       "31                 NaN                 NaN  \n",
       "\n",
       "[32 rows x 24 columns]"
      ]
     },
     "execution_count": 128,
     "metadata": {},
     "output_type": "execute_result"
    }
   ],
   "source": [
    "match_stats"
   ]
  },
  {
   "cell_type": "code",
   "execution_count": 130,
   "metadata": {},
   "outputs": [],
   "source": [
    "match_stats=pd.read_csv('Match_stats.csv')\n",
    "match_stats['Gls']=match_stats['xG']+match_stats['Gls-xG']\n",
    "match_stats['Ground duels won %']=match_stats['Ground duels won']/match_stats['Ground duels total'] *100\n",
    "match_stats['Aerial duels won %']=match_stats['Aerial duels won']/match_stats['Aerial duels total'] *100\n",
    "match_stats['Total duels won %']=match_stats['Total duels won']/match_stats['Duels total'] *100\n",
    "\n",
    "match_stats[['Player']+stats]\n",
    "match_enzo_chelsea= match_stats[match_stats['Player'] == 'Enzo Fernández']\n",
    "match_enzo_chelsea.iloc[0,1]='Enzo Fernández Match'\n",
    "\n",
    "# Usar pd.concat para añadir la fila al DataFrame\n",
    "df_with_match = pd.concat([df_filtered_mean, match_enzo_chelsea], ignore_index=True)"
   ]
  },
  {
   "cell_type": "code",
   "execution_count": null,
   "metadata": {},
   "outputs": [
    {
     "data": {
      "text/html": [
       "<div>\n",
       "<style scoped>\n",
       "    .dataframe tbody tr th:only-of-type {\n",
       "        vertical-align: middle;\n",
       "    }\n",
       "\n",
       "    .dataframe tbody tr th {\n",
       "        vertical-align: top;\n",
       "    }\n",
       "\n",
       "    .dataframe thead th {\n",
       "        text-align: right;\n",
       "    }\n",
       "</style>\n",
       "<table border=\"1\" class=\"dataframe\">\n",
       "  <thead>\n",
       "    <tr style=\"text-align: right;\">\n",
       "      <th></th>\n",
       "      <th>Player</th>\n",
       "      <th>PrgC</th>\n",
       "      <th>PrgP</th>\n",
       "      <th>xAG</th>\n",
       "      <th>xG</th>\n",
       "      <th>Gls</th>\n",
       "      <th>Gls-xG</th>\n",
       "      <th>PPA</th>\n",
       "      <th>Att 3rd</th>\n",
       "      <th>Tackles</th>\n",
       "      <th>...</th>\n",
       "      <th>Aerial duels won %</th>\n",
       "      <th>Aerial duels won</th>\n",
       "      <th>Total duels won %</th>\n",
       "      <th>Unnamed: 0</th>\n",
       "      <th>Pos</th>\n",
       "      <th>Min</th>\n",
       "      <th>Name</th>\n",
       "      <th>Duels total</th>\n",
       "      <th>Ground duels total</th>\n",
       "      <th>Aerial duels total</th>\n",
       "    </tr>\n",
       "  </thead>\n",
       "  <tbody>\n",
       "    <tr>\n",
       "      <th>0</th>\n",
       "      <td>Edson Álvarez</td>\n",
       "      <td>0.993691</td>\n",
       "      <td>4.826498</td>\n",
       "      <td>0.056782</td>\n",
       "      <td>0.014196</td>\n",
       "      <td>0.0</td>\n",
       "      <td>-0.014196</td>\n",
       "      <td>0.993691</td>\n",
       "      <td>10.930599</td>\n",
       "      <td>2.555205</td>\n",
       "      <td>...</td>\n",
       "      <td>65.0</td>\n",
       "      <td>1.845426</td>\n",
       "      <td>55.0</td>\n",
       "      <td>NaN</td>\n",
       "      <td>NaN</td>\n",
       "      <td>NaN</td>\n",
       "      <td>NaN</td>\n",
       "      <td>NaN</td>\n",
       "      <td>NaN</td>\n",
       "      <td>NaN</td>\n",
       "    </tr>\n",
       "    <tr>\n",
       "      <th>1</th>\n",
       "      <td>Elliot Anderson</td>\n",
       "      <td>2.192448</td>\n",
       "      <td>4.604141</td>\n",
       "      <td>0.219245</td>\n",
       "      <td>0.087698</td>\n",
       "      <td>0.0</td>\n",
       "      <td>-0.087698</td>\n",
       "      <td>0.548112</td>\n",
       "      <td>22.582217</td>\n",
       "      <td>3.17905</td>\n",
       "      <td>...</td>\n",
       "      <td>66.67</td>\n",
       "      <td>1.315469</td>\n",
       "      <td>58.99</td>\n",
       "      <td>NaN</td>\n",
       "      <td>NaN</td>\n",
       "      <td>NaN</td>\n",
       "      <td>NaN</td>\n",
       "      <td>NaN</td>\n",
       "      <td>NaN</td>\n",
       "      <td>NaN</td>\n",
       "    </tr>\n",
       "    <tr>\n",
       "      <th>2</th>\n",
       "      <td>André</td>\n",
       "      <td>0.515021</td>\n",
       "      <td>3.60515</td>\n",
       "      <td>0.025751</td>\n",
       "      <td>0.012876</td>\n",
       "      <td>0.0</td>\n",
       "      <td>-0.012876</td>\n",
       "      <td>0.257511</td>\n",
       "      <td>5.407725</td>\n",
       "      <td>3.60515</td>\n",
       "      <td>...</td>\n",
       "      <td>25.0</td>\n",
       "      <td>0.128755</td>\n",
       "      <td>63.01</td>\n",
       "      <td>NaN</td>\n",
       "      <td>NaN</td>\n",
       "      <td>NaN</td>\n",
       "      <td>NaN</td>\n",
       "      <td>NaN</td>\n",
       "      <td>NaN</td>\n",
       "      <td>NaN</td>\n",
       "    </tr>\n",
       "    <tr>\n",
       "      <th>3</th>\n",
       "      <td>Joe Aribo</td>\n",
       "      <td>2.302071</td>\n",
       "      <td>3.398295</td>\n",
       "      <td>0.109622</td>\n",
       "      <td>0.241169</td>\n",
       "      <td>0.219245</td>\n",
       "      <td>-0.021924</td>\n",
       "      <td>0.219245</td>\n",
       "      <td>16.552984</td>\n",
       "      <td>1.644336</td>\n",
       "      <td>...</td>\n",
       "      <td>76.92</td>\n",
       "      <td>1.096224</td>\n",
       "      <td>54.35</td>\n",
       "      <td>NaN</td>\n",
       "      <td>NaN</td>\n",
       "      <td>NaN</td>\n",
       "      <td>NaN</td>\n",
       "      <td>NaN</td>\n",
       "      <td>NaN</td>\n",
       "      <td>NaN</td>\n",
       "    </tr>\n",
       "    <tr>\n",
       "      <th>4</th>\n",
       "      <td>Yasin Ayari</td>\n",
       "      <td>1.327078</td>\n",
       "      <td>3.619303</td>\n",
       "      <td>0.096515</td>\n",
       "      <td>0.08445</td>\n",
       "      <td>0.0</td>\n",
       "      <td>-0.08445</td>\n",
       "      <td>1.085791</td>\n",
       "      <td>16.16622</td>\n",
       "      <td>3.49866</td>\n",
       "      <td>...</td>\n",
       "      <td>28.57</td>\n",
       "      <td>0.482574</td>\n",
       "      <td>50.43</td>\n",
       "      <td>NaN</td>\n",
       "      <td>NaN</td>\n",
       "      <td>NaN</td>\n",
       "      <td>NaN</td>\n",
       "      <td>NaN</td>\n",
       "      <td>NaN</td>\n",
       "      <td>NaN</td>\n",
       "    </tr>\n",
       "    <tr>\n",
       "      <th>...</th>\n",
       "      <td>...</td>\n",
       "      <td>...</td>\n",
       "      <td>...</td>\n",
       "      <td>...</td>\n",
       "      <td>...</td>\n",
       "      <td>...</td>\n",
       "      <td>...</td>\n",
       "      <td>...</td>\n",
       "      <td>...</td>\n",
       "      <td>...</td>\n",
       "      <td>...</td>\n",
       "      <td>...</td>\n",
       "      <td>...</td>\n",
       "      <td>...</td>\n",
       "      <td>...</td>\n",
       "      <td>...</td>\n",
       "      <td>...</td>\n",
       "      <td>...</td>\n",
       "      <td>...</td>\n",
       "      <td>...</td>\n",
       "      <td>...</td>\n",
       "    </tr>\n",
       "    <tr>\n",
       "      <th>74</th>\n",
       "      <td>Harry Winks</td>\n",
       "      <td>1.247113</td>\n",
       "      <td>6.13164</td>\n",
       "      <td>0.103926</td>\n",
       "      <td>0.020785</td>\n",
       "      <td>0.0</td>\n",
       "      <td>-0.020785</td>\n",
       "      <td>0.311778</td>\n",
       "      <td>10.184758</td>\n",
       "      <td>1.247113</td>\n",
       "      <td>...</td>\n",
       "      <td>40.0</td>\n",
       "      <td>0.415704</td>\n",
       "      <td>47.06</td>\n",
       "      <td>NaN</td>\n",
       "      <td>NaN</td>\n",
       "      <td>NaN</td>\n",
       "      <td>NaN</td>\n",
       "      <td>NaN</td>\n",
       "      <td>NaN</td>\n",
       "      <td>NaN</td>\n",
       "    </tr>\n",
       "    <tr>\n",
       "      <th>75</th>\n",
       "      <td>Ryan Yates</td>\n",
       "      <td>0.963426</td>\n",
       "      <td>2.408564</td>\n",
       "      <td>0.0562</td>\n",
       "      <td>0.128457</td>\n",
       "      <td>0.080285</td>\n",
       "      <td>-0.048171</td>\n",
       "      <td>0.240856</td>\n",
       "      <td>14.371097</td>\n",
       "      <td>1.926851</td>\n",
       "      <td>...</td>\n",
       "      <td>64.0</td>\n",
       "      <td>2.569135</td>\n",
       "      <td>55.76</td>\n",
       "      <td>NaN</td>\n",
       "      <td>NaN</td>\n",
       "      <td>NaN</td>\n",
       "      <td>NaN</td>\n",
       "      <td>NaN</td>\n",
       "      <td>NaN</td>\n",
       "      <td>NaN</td>\n",
       "    </tr>\n",
       "    <tr>\n",
       "      <th>76</th>\n",
       "      <td>Martin Ødegaard</td>\n",
       "      <td>3.238381</td>\n",
       "      <td>9.985007</td>\n",
       "      <td>0.202399</td>\n",
       "      <td>0.242879</td>\n",
       "      <td>0.134933</td>\n",
       "      <td>-0.107946</td>\n",
       "      <td>3.373313</td>\n",
       "      <td>28.74063</td>\n",
       "      <td>1.214393</td>\n",
       "      <td>...</td>\n",
       "      <td>100.0</td>\n",
       "      <td>0.269865</td>\n",
       "      <td>45.71</td>\n",
       "      <td>NaN</td>\n",
       "      <td>NaN</td>\n",
       "      <td>NaN</td>\n",
       "      <td>NaN</td>\n",
       "      <td>NaN</td>\n",
       "      <td>NaN</td>\n",
       "      <td>NaN</td>\n",
       "    </tr>\n",
       "    <tr>\n",
       "      <th>77</th>\n",
       "      <td>Mean</td>\n",
       "      <td>1.583139</td>\n",
       "      <td>4.929616</td>\n",
       "      <td>0.132986</td>\n",
       "      <td>0.126633</td>\n",
       "      <td>0.115653</td>\n",
       "      <td>-0.010981</td>\n",
       "      <td>0.988716</td>\n",
       "      <td>17.33649</td>\n",
       "      <td>2.18389</td>\n",
       "      <td>...</td>\n",
       "      <td>47.345584</td>\n",
       "      <td>0.868576</td>\n",
       "      <td>49.456104</td>\n",
       "      <td>NaN</td>\n",
       "      <td>NaN</td>\n",
       "      <td>NaN</td>\n",
       "      <td>NaN</td>\n",
       "      <td>NaN</td>\n",
       "      <td>NaN</td>\n",
       "      <td>NaN</td>\n",
       "    </tr>\n",
       "    <tr>\n",
       "      <th>78</th>\n",
       "      <td>Enzo Fernández Match</td>\n",
       "      <td>1</td>\n",
       "      <td>10</td>\n",
       "      <td>0.0</td>\n",
       "      <td>0.1</td>\n",
       "      <td>1.0</td>\n",
       "      <td>0.9</td>\n",
       "      <td>4</td>\n",
       "      <td>29</td>\n",
       "      <td>2</td>\n",
       "      <td>...</td>\n",
       "      <td>0.0</td>\n",
       "      <td>0</td>\n",
       "      <td>50.0</td>\n",
       "      <td>23.0</td>\n",
       "      <td>DM</td>\n",
       "      <td>90.0</td>\n",
       "      <td>Enzo Fernández</td>\n",
       "      <td>10.0</td>\n",
       "      <td>9.0</td>\n",
       "      <td>1.0</td>\n",
       "    </tr>\n",
       "  </tbody>\n",
       "</table>\n",
       "<p>79 rows × 25 columns</p>\n",
       "</div>"
      ],
      "text/plain": [
       "                  Player      PrgC      PrgP       xAG        xG       Gls  \\\n",
       "0          Edson Álvarez  0.993691  4.826498  0.056782  0.014196       0.0   \n",
       "1        Elliot Anderson  2.192448  4.604141  0.219245  0.087698       0.0   \n",
       "2                  André  0.515021   3.60515  0.025751  0.012876       0.0   \n",
       "3              Joe Aribo  2.302071  3.398295  0.109622  0.241169  0.219245   \n",
       "4            Yasin Ayari  1.327078  3.619303  0.096515   0.08445       0.0   \n",
       "..                   ...       ...       ...       ...       ...       ...   \n",
       "74           Harry Winks  1.247113   6.13164  0.103926  0.020785       0.0   \n",
       "75            Ryan Yates  0.963426  2.408564    0.0562  0.128457  0.080285   \n",
       "76       Martin Ødegaard  3.238381  9.985007  0.202399  0.242879  0.134933   \n",
       "77                  Mean  1.583139  4.929616  0.132986  0.126633  0.115653   \n",
       "78  Enzo Fernández Match         1        10       0.0       0.1       1.0   \n",
       "\n",
       "      Gls-xG       PPA    Att 3rd   Tackles  ... Aerial duels won %  \\\n",
       "0  -0.014196  0.993691  10.930599  2.555205  ...               65.0   \n",
       "1  -0.087698  0.548112  22.582217   3.17905  ...              66.67   \n",
       "2  -0.012876  0.257511   5.407725   3.60515  ...               25.0   \n",
       "3  -0.021924  0.219245  16.552984  1.644336  ...              76.92   \n",
       "4   -0.08445  1.085791   16.16622   3.49866  ...              28.57   \n",
       "..       ...       ...        ...       ...  ...                ...   \n",
       "74 -0.020785  0.311778  10.184758  1.247113  ...               40.0   \n",
       "75 -0.048171  0.240856  14.371097  1.926851  ...               64.0   \n",
       "76 -0.107946  3.373313   28.74063  1.214393  ...              100.0   \n",
       "77 -0.010981  0.988716   17.33649   2.18389  ...          47.345584   \n",
       "78       0.9         4         29         2  ...                0.0   \n",
       "\n",
       "   Aerial duels won Total duels won % Unnamed: 0  Pos   Min            Name  \\\n",
       "0          1.845426              55.0        NaN  NaN   NaN             NaN   \n",
       "1          1.315469             58.99        NaN  NaN   NaN             NaN   \n",
       "2          0.128755             63.01        NaN  NaN   NaN             NaN   \n",
       "3          1.096224             54.35        NaN  NaN   NaN             NaN   \n",
       "4          0.482574             50.43        NaN  NaN   NaN             NaN   \n",
       "..              ...               ...        ...  ...   ...             ...   \n",
       "74         0.415704             47.06        NaN  NaN   NaN             NaN   \n",
       "75         2.569135             55.76        NaN  NaN   NaN             NaN   \n",
       "76         0.269865             45.71        NaN  NaN   NaN             NaN   \n",
       "77         0.868576         49.456104        NaN  NaN   NaN             NaN   \n",
       "78                0              50.0       23.0   DM  90.0  Enzo Fernández   \n",
       "\n",
       "   Duels total  Ground duels total Aerial duels total  \n",
       "0          NaN                 NaN                NaN  \n",
       "1          NaN                 NaN                NaN  \n",
       "2          NaN                 NaN                NaN  \n",
       "3          NaN                 NaN                NaN  \n",
       "4          NaN                 NaN                NaN  \n",
       "..         ...                 ...                ...  \n",
       "74         NaN                 NaN                NaN  \n",
       "75         NaN                 NaN                NaN  \n",
       "76         NaN                 NaN                NaN  \n",
       "77         NaN                 NaN                NaN  \n",
       "78        10.0                 9.0                1.0  \n",
       "\n",
       "[79 rows x 25 columns]"
      ]
     },
     "execution_count": 131,
     "metadata": {},
     "output_type": "execute_result"
    }
   ],
   "source": [
    "df_with_match[]"
   ]
  },
  {
   "cell_type": "code",
   "execution_count": 135,
   "metadata": {},
   "outputs": [
    {
     "data": {
      "text/plain": [
       "78    0.0\n",
       "Name: xAG, dtype: object"
      ]
     },
     "execution_count": 135,
     "metadata": {},
     "output_type": "execute_result"
    }
   ],
   "source": [
    "enzo_df['xAG']"
   ]
  },
  {
   "cell_type": "code",
   "execution_count": 133,
   "metadata": {},
   "outputs": [
    {
     "data": {
      "application/vnd.plotly.v1+json": {
       "config": {
        "plotlyServerURL": "https://plot.ly"
       },
       "data": [
        {
         "fill": "toself",
         "hoverinfo": "text",
         "line": {
          "color": "rgba(255, 100, 100, 0.7)",
          "width": 4
         },
         "name": "Enzo Fernández",
         "r": [
          0.3544303797468354,
          0.9873417721518988,
          0.012658227848101267,
          0.5189873417721519,
          1,
          1,
          0.9873417721518988,
          0.9113924050632911,
          0.43037974683544306,
          0.9367088607594937,
          0.45569620253164556,
          0.7215189873417721,
          0.7974683544303798,
          0.4177215189873418,
          0.0189873417721519,
          0.0189873417721519,
          0.44936708860759494
         ],
         "text": [
          "PrgC: 1.00",
          "PrgP: 10.00",
          "xAG: 0.00",
          "xG: 0.10",
          "Gls: 1.00",
          "Gls-xG: 0.90",
          "PPA: 4.00",
          "Att 3rd: 29.00",
          "Tackles: 2.00",
          "Interceptions: 2.00",
          "Clearances: 1.00",
          "Ground duels won: 5.00",
          "Ground duels won %: 55.56",
          "Total duels won: 5.00",
          "Aerial duels won %: 0.00",
          "Aerial duels won: 0.00",
          "Total duels won %: 50.00"
         ],
         "theta": [
          "PrgC",
          "PrgP",
          "xAG",
          "xG",
          "Gls",
          "Gls-xG",
          "PPA",
          "Att 3rd",
          "Tackles",
          "Interceptions",
          "Clearances",
          "Ground duels won",
          "Ground duels won %",
          "Total duels won",
          "Aerial duels won %",
          "Aerial duels won",
          "Total duels won %"
         ],
         "type": "scatterpolar"
        },
        {
         "fill": "toself",
         "hoverinfo": "text",
         "line": {
          "color": "rgba(100, 100, 255, 0.7)",
          "dash": "dot",
          "width": 4
         },
         "name": "Avg MCs in PL",
         "r": [
          0.6329113924050633,
          0.5316455696202531,
          0.6455696202531646,
          0.620253164556962,
          0.6075949367088608,
          0.5316455696202531,
          0.569620253164557,
          0.6455696202531646,
          0.4936708860759494,
          0.5949367088607594,
          0.6075949367088608,
          0.45569620253164556,
          0.45569620253164556,
          0.4810126582278481,
          0.5063291139240507,
          0.6582278481012658,
          0.43037974683544306
         ],
         "text": [
          "PrgC: 1.58",
          "PrgP: 4.93",
          "xAG: 0.13",
          "xG: 0.13",
          "Gls: 0.12",
          "Gls-xG: -0.01",
          "PPA: 0.99",
          "Att 3rd: 17.34",
          "Tackles: 2.18",
          "Interceptions: 0.99",
          "Clearances: 1.19",
          "Ground duels won: 4.33",
          "Ground duels won %: 49.56",
          "Total duels won: 5.20",
          "Aerial duels won %: 47.35",
          "Aerial duels won: 0.87",
          "Total duels won %: 49.46"
         ],
         "theta": [
          "PrgC",
          "PrgP",
          "xAG",
          "xG",
          "Gls",
          "Gls-xG",
          "PPA",
          "Att 3rd",
          "Tackles",
          "Interceptions",
          "Clearances",
          "Ground duels won",
          "Ground duels won %",
          "Total duels won",
          "Aerial duels won %",
          "Aerial duels won",
          "Total duels won %"
         ],
         "type": "scatterpolar"
        }
       ],
       "layout": {
        "legend": {
         "bgcolor": "rgba(255, 255, 255, 0.8)",
         "bordercolor": "rgba(200, 200, 200, 0.6)",
         "borderwidth": 1,
         "font": {
          "color": "rgba(0, 0, 0, 0.7)",
          "size": 12
         },
         "x": 0.8,
         "y": 0.95
        },
        "paper_bgcolor": "white",
        "plot_bgcolor": "rgba(240, 240, 240, 0.9)",
        "polar": {
         "radialaxis": {
          "range": [
           0,
           1
          ],
          "showticklabels": true,
          "ticktext": [
           "0%",
           "20%",
           "40%",
           "60%",
           "80%",
           "100%"
          ],
          "tickvals": [
           0,
           0.2,
           0.4,
           0.6,
           0.8,
           1
          ],
          "visible": true
         }
        },
        "showlegend": true,
        "template": {
         "data": {
          "bar": [
           {
            "error_x": {
             "color": "#2a3f5f"
            },
            "error_y": {
             "color": "#2a3f5f"
            },
            "marker": {
             "line": {
              "color": "#E5ECF6",
              "width": 0.5
             },
             "pattern": {
              "fillmode": "overlay",
              "size": 10,
              "solidity": 0.2
             }
            },
            "type": "bar"
           }
          ],
          "barpolar": [
           {
            "marker": {
             "line": {
              "color": "#E5ECF6",
              "width": 0.5
             },
             "pattern": {
              "fillmode": "overlay",
              "size": 10,
              "solidity": 0.2
             }
            },
            "type": "barpolar"
           }
          ],
          "carpet": [
           {
            "aaxis": {
             "endlinecolor": "#2a3f5f",
             "gridcolor": "white",
             "linecolor": "white",
             "minorgridcolor": "white",
             "startlinecolor": "#2a3f5f"
            },
            "baxis": {
             "endlinecolor": "#2a3f5f",
             "gridcolor": "white",
             "linecolor": "white",
             "minorgridcolor": "white",
             "startlinecolor": "#2a3f5f"
            },
            "type": "carpet"
           }
          ],
          "choropleth": [
           {
            "colorbar": {
             "outlinewidth": 0,
             "ticks": ""
            },
            "type": "choropleth"
           }
          ],
          "contour": [
           {
            "colorbar": {
             "outlinewidth": 0,
             "ticks": ""
            },
            "colorscale": [
             [
              0,
              "#0d0887"
             ],
             [
              0.1111111111111111,
              "#46039f"
             ],
             [
              0.2222222222222222,
              "#7201a8"
             ],
             [
              0.3333333333333333,
              "#9c179e"
             ],
             [
              0.4444444444444444,
              "#bd3786"
             ],
             [
              0.5555555555555556,
              "#d8576b"
             ],
             [
              0.6666666666666666,
              "#ed7953"
             ],
             [
              0.7777777777777778,
              "#fb9f3a"
             ],
             [
              0.8888888888888888,
              "#fdca26"
             ],
             [
              1,
              "#f0f921"
             ]
            ],
            "type": "contour"
           }
          ],
          "contourcarpet": [
           {
            "colorbar": {
             "outlinewidth": 0,
             "ticks": ""
            },
            "type": "contourcarpet"
           }
          ],
          "heatmap": [
           {
            "colorbar": {
             "outlinewidth": 0,
             "ticks": ""
            },
            "colorscale": [
             [
              0,
              "#0d0887"
             ],
             [
              0.1111111111111111,
              "#46039f"
             ],
             [
              0.2222222222222222,
              "#7201a8"
             ],
             [
              0.3333333333333333,
              "#9c179e"
             ],
             [
              0.4444444444444444,
              "#bd3786"
             ],
             [
              0.5555555555555556,
              "#d8576b"
             ],
             [
              0.6666666666666666,
              "#ed7953"
             ],
             [
              0.7777777777777778,
              "#fb9f3a"
             ],
             [
              0.8888888888888888,
              "#fdca26"
             ],
             [
              1,
              "#f0f921"
             ]
            ],
            "type": "heatmap"
           }
          ],
          "heatmapgl": [
           {
            "colorbar": {
             "outlinewidth": 0,
             "ticks": ""
            },
            "colorscale": [
             [
              0,
              "#0d0887"
             ],
             [
              0.1111111111111111,
              "#46039f"
             ],
             [
              0.2222222222222222,
              "#7201a8"
             ],
             [
              0.3333333333333333,
              "#9c179e"
             ],
             [
              0.4444444444444444,
              "#bd3786"
             ],
             [
              0.5555555555555556,
              "#d8576b"
             ],
             [
              0.6666666666666666,
              "#ed7953"
             ],
             [
              0.7777777777777778,
              "#fb9f3a"
             ],
             [
              0.8888888888888888,
              "#fdca26"
             ],
             [
              1,
              "#f0f921"
             ]
            ],
            "type": "heatmapgl"
           }
          ],
          "histogram": [
           {
            "marker": {
             "pattern": {
              "fillmode": "overlay",
              "size": 10,
              "solidity": 0.2
             }
            },
            "type": "histogram"
           }
          ],
          "histogram2d": [
           {
            "colorbar": {
             "outlinewidth": 0,
             "ticks": ""
            },
            "colorscale": [
             [
              0,
              "#0d0887"
             ],
             [
              0.1111111111111111,
              "#46039f"
             ],
             [
              0.2222222222222222,
              "#7201a8"
             ],
             [
              0.3333333333333333,
              "#9c179e"
             ],
             [
              0.4444444444444444,
              "#bd3786"
             ],
             [
              0.5555555555555556,
              "#d8576b"
             ],
             [
              0.6666666666666666,
              "#ed7953"
             ],
             [
              0.7777777777777778,
              "#fb9f3a"
             ],
             [
              0.8888888888888888,
              "#fdca26"
             ],
             [
              1,
              "#f0f921"
             ]
            ],
            "type": "histogram2d"
           }
          ],
          "histogram2dcontour": [
           {
            "colorbar": {
             "outlinewidth": 0,
             "ticks": ""
            },
            "colorscale": [
             [
              0,
              "#0d0887"
             ],
             [
              0.1111111111111111,
              "#46039f"
             ],
             [
              0.2222222222222222,
              "#7201a8"
             ],
             [
              0.3333333333333333,
              "#9c179e"
             ],
             [
              0.4444444444444444,
              "#bd3786"
             ],
             [
              0.5555555555555556,
              "#d8576b"
             ],
             [
              0.6666666666666666,
              "#ed7953"
             ],
             [
              0.7777777777777778,
              "#fb9f3a"
             ],
             [
              0.8888888888888888,
              "#fdca26"
             ],
             [
              1,
              "#f0f921"
             ]
            ],
            "type": "histogram2dcontour"
           }
          ],
          "mesh3d": [
           {
            "colorbar": {
             "outlinewidth": 0,
             "ticks": ""
            },
            "type": "mesh3d"
           }
          ],
          "parcoords": [
           {
            "line": {
             "colorbar": {
              "outlinewidth": 0,
              "ticks": ""
             }
            },
            "type": "parcoords"
           }
          ],
          "pie": [
           {
            "automargin": true,
            "type": "pie"
           }
          ],
          "scatter": [
           {
            "fillpattern": {
             "fillmode": "overlay",
             "size": 10,
             "solidity": 0.2
            },
            "type": "scatter"
           }
          ],
          "scatter3d": [
           {
            "line": {
             "colorbar": {
              "outlinewidth": 0,
              "ticks": ""
             }
            },
            "marker": {
             "colorbar": {
              "outlinewidth": 0,
              "ticks": ""
             }
            },
            "type": "scatter3d"
           }
          ],
          "scattercarpet": [
           {
            "marker": {
             "colorbar": {
              "outlinewidth": 0,
              "ticks": ""
             }
            },
            "type": "scattercarpet"
           }
          ],
          "scattergeo": [
           {
            "marker": {
             "colorbar": {
              "outlinewidth": 0,
              "ticks": ""
             }
            },
            "type": "scattergeo"
           }
          ],
          "scattergl": [
           {
            "marker": {
             "colorbar": {
              "outlinewidth": 0,
              "ticks": ""
             }
            },
            "type": "scattergl"
           }
          ],
          "scattermapbox": [
           {
            "marker": {
             "colorbar": {
              "outlinewidth": 0,
              "ticks": ""
             }
            },
            "type": "scattermapbox"
           }
          ],
          "scatterpolar": [
           {
            "marker": {
             "colorbar": {
              "outlinewidth": 0,
              "ticks": ""
             }
            },
            "type": "scatterpolar"
           }
          ],
          "scatterpolargl": [
           {
            "marker": {
             "colorbar": {
              "outlinewidth": 0,
              "ticks": ""
             }
            },
            "type": "scatterpolargl"
           }
          ],
          "scatterternary": [
           {
            "marker": {
             "colorbar": {
              "outlinewidth": 0,
              "ticks": ""
             }
            },
            "type": "scatterternary"
           }
          ],
          "surface": [
           {
            "colorbar": {
             "outlinewidth": 0,
             "ticks": ""
            },
            "colorscale": [
             [
              0,
              "#0d0887"
             ],
             [
              0.1111111111111111,
              "#46039f"
             ],
             [
              0.2222222222222222,
              "#7201a8"
             ],
             [
              0.3333333333333333,
              "#9c179e"
             ],
             [
              0.4444444444444444,
              "#bd3786"
             ],
             [
              0.5555555555555556,
              "#d8576b"
             ],
             [
              0.6666666666666666,
              "#ed7953"
             ],
             [
              0.7777777777777778,
              "#fb9f3a"
             ],
             [
              0.8888888888888888,
              "#fdca26"
             ],
             [
              1,
              "#f0f921"
             ]
            ],
            "type": "surface"
           }
          ],
          "table": [
           {
            "cells": {
             "fill": {
              "color": "#EBF0F8"
             },
             "line": {
              "color": "white"
             }
            },
            "header": {
             "fill": {
              "color": "#C8D4E3"
             },
             "line": {
              "color": "white"
             }
            },
            "type": "table"
           }
          ]
         },
         "layout": {
          "annotationdefaults": {
           "arrowcolor": "#2a3f5f",
           "arrowhead": 0,
           "arrowwidth": 1
          },
          "autotypenumbers": "strict",
          "coloraxis": {
           "colorbar": {
            "outlinewidth": 0,
            "ticks": ""
           }
          },
          "colorscale": {
           "diverging": [
            [
             0,
             "#8e0152"
            ],
            [
             0.1,
             "#c51b7d"
            ],
            [
             0.2,
             "#de77ae"
            ],
            [
             0.3,
             "#f1b6da"
            ],
            [
             0.4,
             "#fde0ef"
            ],
            [
             0.5,
             "#f7f7f7"
            ],
            [
             0.6,
             "#e6f5d0"
            ],
            [
             0.7,
             "#b8e186"
            ],
            [
             0.8,
             "#7fbc41"
            ],
            [
             0.9,
             "#4d9221"
            ],
            [
             1,
             "#276419"
            ]
           ],
           "sequential": [
            [
             0,
             "#0d0887"
            ],
            [
             0.1111111111111111,
             "#46039f"
            ],
            [
             0.2222222222222222,
             "#7201a8"
            ],
            [
             0.3333333333333333,
             "#9c179e"
            ],
            [
             0.4444444444444444,
             "#bd3786"
            ],
            [
             0.5555555555555556,
             "#d8576b"
            ],
            [
             0.6666666666666666,
             "#ed7953"
            ],
            [
             0.7777777777777778,
             "#fb9f3a"
            ],
            [
             0.8888888888888888,
             "#fdca26"
            ],
            [
             1,
             "#f0f921"
            ]
           ],
           "sequentialminus": [
            [
             0,
             "#0d0887"
            ],
            [
             0.1111111111111111,
             "#46039f"
            ],
            [
             0.2222222222222222,
             "#7201a8"
            ],
            [
             0.3333333333333333,
             "#9c179e"
            ],
            [
             0.4444444444444444,
             "#bd3786"
            ],
            [
             0.5555555555555556,
             "#d8576b"
            ],
            [
             0.6666666666666666,
             "#ed7953"
            ],
            [
             0.7777777777777778,
             "#fb9f3a"
            ],
            [
             0.8888888888888888,
             "#fdca26"
            ],
            [
             1,
             "#f0f921"
            ]
           ]
          },
          "colorway": [
           "#636efa",
           "#EF553B",
           "#00cc96",
           "#ab63fa",
           "#FFA15A",
           "#19d3f3",
           "#FF6692",
           "#B6E880",
           "#FF97FF",
           "#FECB52"
          ],
          "font": {
           "color": "#2a3f5f"
          },
          "geo": {
           "bgcolor": "white",
           "lakecolor": "white",
           "landcolor": "#E5ECF6",
           "showlakes": true,
           "showland": true,
           "subunitcolor": "white"
          },
          "hoverlabel": {
           "align": "left"
          },
          "hovermode": "closest",
          "mapbox": {
           "style": "light"
          },
          "paper_bgcolor": "white",
          "plot_bgcolor": "#E5ECF6",
          "polar": {
           "angularaxis": {
            "gridcolor": "white",
            "linecolor": "white",
            "ticks": ""
           },
           "bgcolor": "#E5ECF6",
           "radialaxis": {
            "gridcolor": "white",
            "linecolor": "white",
            "ticks": ""
           }
          },
          "scene": {
           "xaxis": {
            "backgroundcolor": "#E5ECF6",
            "gridcolor": "white",
            "gridwidth": 2,
            "linecolor": "white",
            "showbackground": true,
            "ticks": "",
            "zerolinecolor": "white"
           },
           "yaxis": {
            "backgroundcolor": "#E5ECF6",
            "gridcolor": "white",
            "gridwidth": 2,
            "linecolor": "white",
            "showbackground": true,
            "ticks": "",
            "zerolinecolor": "white"
           },
           "zaxis": {
            "backgroundcolor": "#E5ECF6",
            "gridcolor": "white",
            "gridwidth": 2,
            "linecolor": "white",
            "showbackground": true,
            "ticks": "",
            "zerolinecolor": "white"
           }
          },
          "shapedefaults": {
           "line": {
            "color": "#2a3f5f"
           }
          },
          "ternary": {
           "aaxis": {
            "gridcolor": "white",
            "linecolor": "white",
            "ticks": ""
           },
           "baxis": {
            "gridcolor": "white",
            "linecolor": "white",
            "ticks": ""
           },
           "bgcolor": "#E5ECF6",
           "caxis": {
            "gridcolor": "white",
            "linecolor": "white",
            "ticks": ""
           }
          },
          "title": {
           "x": 0.05
          },
          "xaxis": {
           "automargin": true,
           "gridcolor": "white",
           "linecolor": "white",
           "ticks": "",
           "title": {
            "standoff": 15
           },
           "zerolinecolor": "white",
           "zerolinewidth": 2
          },
          "yaxis": {
           "automargin": true,
           "gridcolor": "white",
           "linecolor": "white",
           "ticks": "",
           "title": {
            "standoff": 15
           },
           "zerolinecolor": "white",
           "zerolinewidth": 2
          }
         }
        },
        "title": {
         "font": {
          "color": "rgba(0, 0, 0, 0.8)",
          "size": 18
         },
         "text": "Defensive Performance - Enzo Fernández vs Average Midfielders in PL",
         "x": 0.5,
         "xanchor": "center"
        }
       }
      }
     },
     "metadata": {},
     "output_type": "display_data"
    }
   ],
   "source": [
    "\n",
    "import plotly.graph_objects as go\n",
    "import numpy as np\n",
    "\n",
    "# Assume df_filtered and df_filtered_mean are already defined\n",
    "enzo_df = df_with_match[df_with_match['Player'] == 'Enzo Fernández Match']\n",
    "mean_df = df_with_match[df_with_match['Player'] == 'Mean']\n",
    "\n",
    "# List of offensive and defensive stats\n",
    "stats_ofensive = ['PrgC', 'PrgP', 'xAG', 'xG', 'Gls', 'Gls-xG', 'PPA', 'Att 3rd']\n",
    "stats_defensiva = ['Tackles', 'Interceptions', 'Clearances', 'Ground duels won', \n",
    "                   'Ground duels won %', 'Total duels won', 'Aerial duels won %', \n",
    "                   'Aerial duels won', 'Total duels won %']\n",
    "stats = stats_ofensive +stats_defensiva\n",
    "\n",
    "# Function to calculate the percentile\n",
    "def scale_by_percentile(df, stat, player_value):\n",
    "    percentiles = df[stat].rank(pct=True) * 100  # Calculate percentile rank\n",
    "    player_percentile = percentiles.loc[df['Player'] == player_value].values[0] / 100  # Percentile for Enzo\n",
    "    return player_percentile\n",
    "\n",
    "# Get adjusted values for Enzo and mean players for each stat\n",
    "values = [scale_by_percentile(df_with_match, stat, 'Enzo Fernández Match') for stat in stats]\n",
    "values_mean = [scale_by_percentile(df_with_match, stat, 'Mean') for stat in stats]\n",
    "\n",
    "# Create the radar chart\n",
    "fig = go.Figure()\n",
    "\n",
    "# Add Enzo's trace with customized colors and styles\n",
    "fig.add_trace(go.Scatterpolar(\n",
    "    r=values,\n",
    "    theta=stats,\n",
    "    fill='toself',\n",
    "    name='Enzo Fernández',\n",
    "    line=dict(color='rgba(255, 100, 100, 0.7)', width=4),  # Red color with transparency\n",
    "    hoverinfo='text',\n",
    "    text=[f\"{stat}: {enzo_df[stat].iloc[0]:.2f}\" for stat in stats]\n",
    "))\n",
    "\n",
    "# Add the mean trace with a different color\n",
    "fig.add_trace(go.Scatterpolar(\n",
    "    r=values_mean,\n",
    "    theta=stats,\n",
    "    fill='toself',\n",
    "    name='Avg MCs in PL',\n",
    "    line=dict(color='rgba(100, 100, 255, 0.7)', width=4, dash='dot'),  # Blue color with dashed line\n",
    "    hoverinfo='text',\n",
    "    text=[f\"{stat}: {mean_df[stat].iloc[0]:.2f}\" for stat in stats]\n",
    "))\n",
    "\n",
    "# Customize layout for better presentation\n",
    "fig.update_layout(\n",
    "    polar=dict(\n",
    "        radialaxis=dict(\n",
    "            visible=True,\n",
    "            range=[0, 1],  # Range from 0 to 1 for percentiles\n",
    "            tickvals=[0, 0.2, 0.4, 0.6, 0.8, 1],\n",
    "            ticktext=['0%', '20%', '40%', '60%', '80%', '100%'],\n",
    "            showticklabels=True\n",
    "        ),\n",
    "    ),\n",
    "    title={\n",
    "        'text': 'Defensive Performance - Enzo Fernández vs Average Midfielders in PL',\n",
    "        'x': 0.5,  # Center the title\n",
    "        'xanchor': 'center',\n",
    "        'font': {'size': 18, 'color': 'rgba(0, 0, 0, 0.8)'}\n",
    "    },\n",
    "    showlegend=True,\n",
    "    legend=dict(\n",
    "        x=0.8, y=0.95,  # Position the legend to the top-right\n",
    "        font=dict(size=12, color='rgba(0, 0, 0, 0.7)'),\n",
    "        bgcolor='rgba(255, 255, 255, 0.8)',  # White background for the legend\n",
    "        bordercolor='rgba(200, 200, 200, 0.6)',  # Light gray border\n",
    "        borderwidth=1\n",
    "    ),\n",
    "    plot_bgcolor='rgba(240, 240, 240, 0.9)',  # Light gray background\n",
    "    paper_bgcolor='white'\n",
    ")\n",
    "\n",
    "# Show the figure\n",
    "fig.show()"
   ]
  },
  {
   "cell_type": "code",
   "execution_count": 109,
   "metadata": {},
   "outputs": [
    {
     "data": {
      "text/html": [
       "<div>\n",
       "<style scoped>\n",
       "    .dataframe tbody tr th:only-of-type {\n",
       "        vertical-align: middle;\n",
       "    }\n",
       "\n",
       "    .dataframe tbody tr th {\n",
       "        vertical-align: top;\n",
       "    }\n",
       "\n",
       "    .dataframe thead th {\n",
       "        text-align: right;\n",
       "    }\n",
       "</style>\n",
       "<table border=\"1\" class=\"dataframe\">\n",
       "  <thead>\n",
       "    <tr style=\"text-align: right;\">\n",
       "      <th></th>\n",
       "      <th>Player</th>\n",
       "      <th>PrgC</th>\n",
       "      <th>PrgP</th>\n",
       "      <th>xAG</th>\n",
       "      <th>xG</th>\n",
       "      <th>Gls</th>\n",
       "      <th>Gls-xG</th>\n",
       "      <th>PPA</th>\n",
       "      <th>Att 3rd</th>\n",
       "      <th>Tackles</th>\n",
       "      <th>...</th>\n",
       "      <th>Pos</th>\n",
       "      <th>Min</th>\n",
       "      <th>Name</th>\n",
       "      <th>Total tackles</th>\n",
       "      <th>Duels_total</th>\n",
       "      <th>Duels_won</th>\n",
       "      <th>Ground_duels_total</th>\n",
       "      <th>Ground_duels_won</th>\n",
       "      <th>Aerial_duels_total</th>\n",
       "      <th>Aerial_duels_won</th>\n",
       "    </tr>\n",
       "  </thead>\n",
       "  <tbody>\n",
       "    <tr>\n",
       "      <th>0</th>\n",
       "      <td>Edson Álvarez</td>\n",
       "      <td>0.993691</td>\n",
       "      <td>4.826498</td>\n",
       "      <td>0.056782</td>\n",
       "      <td>0.014196</td>\n",
       "      <td>0.0</td>\n",
       "      <td>-0.014196</td>\n",
       "      <td>0.993691</td>\n",
       "      <td>10.930599</td>\n",
       "      <td>2.555205</td>\n",
       "      <td>...</td>\n",
       "      <td>NaN</td>\n",
       "      <td>NaN</td>\n",
       "      <td>NaN</td>\n",
       "      <td>NaN</td>\n",
       "      <td>NaN</td>\n",
       "      <td>NaN</td>\n",
       "      <td>NaN</td>\n",
       "      <td>NaN</td>\n",
       "      <td>NaN</td>\n",
       "      <td>NaN</td>\n",
       "    </tr>\n",
       "    <tr>\n",
       "      <th>1</th>\n",
       "      <td>Elliot Anderson</td>\n",
       "      <td>2.192448</td>\n",
       "      <td>4.604141</td>\n",
       "      <td>0.219245</td>\n",
       "      <td>0.087698</td>\n",
       "      <td>0.0</td>\n",
       "      <td>-0.087698</td>\n",
       "      <td>0.548112</td>\n",
       "      <td>22.582217</td>\n",
       "      <td>3.17905</td>\n",
       "      <td>...</td>\n",
       "      <td>NaN</td>\n",
       "      <td>NaN</td>\n",
       "      <td>NaN</td>\n",
       "      <td>NaN</td>\n",
       "      <td>NaN</td>\n",
       "      <td>NaN</td>\n",
       "      <td>NaN</td>\n",
       "      <td>NaN</td>\n",
       "      <td>NaN</td>\n",
       "      <td>NaN</td>\n",
       "    </tr>\n",
       "    <tr>\n",
       "      <th>2</th>\n",
       "      <td>André</td>\n",
       "      <td>0.515021</td>\n",
       "      <td>3.60515</td>\n",
       "      <td>0.025751</td>\n",
       "      <td>0.012876</td>\n",
       "      <td>0.0</td>\n",
       "      <td>-0.012876</td>\n",
       "      <td>0.257511</td>\n",
       "      <td>5.407725</td>\n",
       "      <td>3.60515</td>\n",
       "      <td>...</td>\n",
       "      <td>NaN</td>\n",
       "      <td>NaN</td>\n",
       "      <td>NaN</td>\n",
       "      <td>NaN</td>\n",
       "      <td>NaN</td>\n",
       "      <td>NaN</td>\n",
       "      <td>NaN</td>\n",
       "      <td>NaN</td>\n",
       "      <td>NaN</td>\n",
       "      <td>NaN</td>\n",
       "    </tr>\n",
       "    <tr>\n",
       "      <th>3</th>\n",
       "      <td>Joe Aribo</td>\n",
       "      <td>2.302071</td>\n",
       "      <td>3.398295</td>\n",
       "      <td>0.109622</td>\n",
       "      <td>0.241169</td>\n",
       "      <td>0.219245</td>\n",
       "      <td>-0.021924</td>\n",
       "      <td>0.219245</td>\n",
       "      <td>16.552984</td>\n",
       "      <td>1.644336</td>\n",
       "      <td>...</td>\n",
       "      <td>NaN</td>\n",
       "      <td>NaN</td>\n",
       "      <td>NaN</td>\n",
       "      <td>NaN</td>\n",
       "      <td>NaN</td>\n",
       "      <td>NaN</td>\n",
       "      <td>NaN</td>\n",
       "      <td>NaN</td>\n",
       "      <td>NaN</td>\n",
       "      <td>NaN</td>\n",
       "    </tr>\n",
       "    <tr>\n",
       "      <th>4</th>\n",
       "      <td>Yasin Ayari</td>\n",
       "      <td>1.327078</td>\n",
       "      <td>3.619303</td>\n",
       "      <td>0.096515</td>\n",
       "      <td>0.08445</td>\n",
       "      <td>0.0</td>\n",
       "      <td>-0.08445</td>\n",
       "      <td>1.085791</td>\n",
       "      <td>16.16622</td>\n",
       "      <td>3.49866</td>\n",
       "      <td>...</td>\n",
       "      <td>NaN</td>\n",
       "      <td>NaN</td>\n",
       "      <td>NaN</td>\n",
       "      <td>NaN</td>\n",
       "      <td>NaN</td>\n",
       "      <td>NaN</td>\n",
       "      <td>NaN</td>\n",
       "      <td>NaN</td>\n",
       "      <td>NaN</td>\n",
       "      <td>NaN</td>\n",
       "    </tr>\n",
       "    <tr>\n",
       "      <th>...</th>\n",
       "      <td>...</td>\n",
       "      <td>...</td>\n",
       "      <td>...</td>\n",
       "      <td>...</td>\n",
       "      <td>...</td>\n",
       "      <td>...</td>\n",
       "      <td>...</td>\n",
       "      <td>...</td>\n",
       "      <td>...</td>\n",
       "      <td>...</td>\n",
       "      <td>...</td>\n",
       "      <td>...</td>\n",
       "      <td>...</td>\n",
       "      <td>...</td>\n",
       "      <td>...</td>\n",
       "      <td>...</td>\n",
       "      <td>...</td>\n",
       "      <td>...</td>\n",
       "      <td>...</td>\n",
       "      <td>...</td>\n",
       "      <td>...</td>\n",
       "    </tr>\n",
       "    <tr>\n",
       "      <th>74</th>\n",
       "      <td>Harry Winks</td>\n",
       "      <td>1.247113</td>\n",
       "      <td>6.13164</td>\n",
       "      <td>0.103926</td>\n",
       "      <td>0.020785</td>\n",
       "      <td>0.0</td>\n",
       "      <td>-0.020785</td>\n",
       "      <td>0.311778</td>\n",
       "      <td>10.184758</td>\n",
       "      <td>1.247113</td>\n",
       "      <td>...</td>\n",
       "      <td>NaN</td>\n",
       "      <td>NaN</td>\n",
       "      <td>NaN</td>\n",
       "      <td>NaN</td>\n",
       "      <td>NaN</td>\n",
       "      <td>NaN</td>\n",
       "      <td>NaN</td>\n",
       "      <td>NaN</td>\n",
       "      <td>NaN</td>\n",
       "      <td>NaN</td>\n",
       "    </tr>\n",
       "    <tr>\n",
       "      <th>75</th>\n",
       "      <td>Ryan Yates</td>\n",
       "      <td>0.963426</td>\n",
       "      <td>2.408564</td>\n",
       "      <td>0.0562</td>\n",
       "      <td>0.128457</td>\n",
       "      <td>0.080285</td>\n",
       "      <td>-0.048171</td>\n",
       "      <td>0.240856</td>\n",
       "      <td>14.371097</td>\n",
       "      <td>1.926851</td>\n",
       "      <td>...</td>\n",
       "      <td>NaN</td>\n",
       "      <td>NaN</td>\n",
       "      <td>NaN</td>\n",
       "      <td>NaN</td>\n",
       "      <td>NaN</td>\n",
       "      <td>NaN</td>\n",
       "      <td>NaN</td>\n",
       "      <td>NaN</td>\n",
       "      <td>NaN</td>\n",
       "      <td>NaN</td>\n",
       "    </tr>\n",
       "    <tr>\n",
       "      <th>76</th>\n",
       "      <td>Martin Ødegaard</td>\n",
       "      <td>3.238381</td>\n",
       "      <td>9.985007</td>\n",
       "      <td>0.202399</td>\n",
       "      <td>0.242879</td>\n",
       "      <td>0.134933</td>\n",
       "      <td>-0.107946</td>\n",
       "      <td>3.373313</td>\n",
       "      <td>28.74063</td>\n",
       "      <td>1.214393</td>\n",
       "      <td>...</td>\n",
       "      <td>NaN</td>\n",
       "      <td>NaN</td>\n",
       "      <td>NaN</td>\n",
       "      <td>NaN</td>\n",
       "      <td>NaN</td>\n",
       "      <td>NaN</td>\n",
       "      <td>NaN</td>\n",
       "      <td>NaN</td>\n",
       "      <td>NaN</td>\n",
       "      <td>NaN</td>\n",
       "    </tr>\n",
       "    <tr>\n",
       "      <th>77</th>\n",
       "      <td>Mean</td>\n",
       "      <td>1.583139</td>\n",
       "      <td>4.929616</td>\n",
       "      <td>0.132986</td>\n",
       "      <td>0.126633</td>\n",
       "      <td>0.115653</td>\n",
       "      <td>-0.010981</td>\n",
       "      <td>0.988716</td>\n",
       "      <td>17.33649</td>\n",
       "      <td>2.18389</td>\n",
       "      <td>...</td>\n",
       "      <td>NaN</td>\n",
       "      <td>NaN</td>\n",
       "      <td>NaN</td>\n",
       "      <td>NaN</td>\n",
       "      <td>NaN</td>\n",
       "      <td>NaN</td>\n",
       "      <td>NaN</td>\n",
       "      <td>NaN</td>\n",
       "      <td>NaN</td>\n",
       "      <td>NaN</td>\n",
       "    </tr>\n",
       "    <tr>\n",
       "      <th>78</th>\n",
       "      <td>Enzo Fernández Match</td>\n",
       "      <td>1</td>\n",
       "      <td>10</td>\n",
       "      <td>0.0</td>\n",
       "      <td>0.1</td>\n",
       "      <td>1.0</td>\n",
       "      <td>0.9</td>\n",
       "      <td>4</td>\n",
       "      <td>29</td>\n",
       "      <td>NaN</td>\n",
       "      <td>...</td>\n",
       "      <td>DM</td>\n",
       "      <td>90.0</td>\n",
       "      <td>Enzo Fernández</td>\n",
       "      <td>2.0</td>\n",
       "      <td>10.0</td>\n",
       "      <td>5.0</td>\n",
       "      <td>9.0</td>\n",
       "      <td>5.0</td>\n",
       "      <td>1.0</td>\n",
       "      <td>0.0</td>\n",
       "    </tr>\n",
       "  </tbody>\n",
       "</table>\n",
       "<p>79 rows × 29 columns</p>\n",
       "</div>"
      ],
      "text/plain": [
       "                  Player      PrgC      PrgP       xAG        xG       Gls  \\\n",
       "0          Edson Álvarez  0.993691  4.826498  0.056782  0.014196       0.0   \n",
       "1        Elliot Anderson  2.192448  4.604141  0.219245  0.087698       0.0   \n",
       "2                  André  0.515021   3.60515  0.025751  0.012876       0.0   \n",
       "3              Joe Aribo  2.302071  3.398295  0.109622  0.241169  0.219245   \n",
       "4            Yasin Ayari  1.327078  3.619303  0.096515   0.08445       0.0   \n",
       "..                   ...       ...       ...       ...       ...       ...   \n",
       "74           Harry Winks  1.247113   6.13164  0.103926  0.020785       0.0   \n",
       "75            Ryan Yates  0.963426  2.408564    0.0562  0.128457  0.080285   \n",
       "76       Martin Ødegaard  3.238381  9.985007  0.202399  0.242879  0.134933   \n",
       "77                  Mean  1.583139  4.929616  0.132986  0.126633  0.115653   \n",
       "78  Enzo Fernández Match         1        10       0.0       0.1       1.0   \n",
       "\n",
       "      Gls-xG       PPA    Att 3rd   Tackles  ...  Pos   Min            Name  \\\n",
       "0  -0.014196  0.993691  10.930599  2.555205  ...  NaN   NaN             NaN   \n",
       "1  -0.087698  0.548112  22.582217   3.17905  ...  NaN   NaN             NaN   \n",
       "2  -0.012876  0.257511   5.407725   3.60515  ...  NaN   NaN             NaN   \n",
       "3  -0.021924  0.219245  16.552984  1.644336  ...  NaN   NaN             NaN   \n",
       "4   -0.08445  1.085791   16.16622   3.49866  ...  NaN   NaN             NaN   \n",
       "..       ...       ...        ...       ...  ...  ...   ...             ...   \n",
       "74 -0.020785  0.311778  10.184758  1.247113  ...  NaN   NaN             NaN   \n",
       "75 -0.048171  0.240856  14.371097  1.926851  ...  NaN   NaN             NaN   \n",
       "76 -0.107946  3.373313   28.74063  1.214393  ...  NaN   NaN             NaN   \n",
       "77 -0.010981  0.988716   17.33649   2.18389  ...  NaN   NaN             NaN   \n",
       "78       0.9         4         29       NaN  ...   DM  90.0  Enzo Fernández   \n",
       "\n",
       "   Total tackles Duels_total Duels_won Ground_duels_total Ground_duels_won  \\\n",
       "0            NaN         NaN       NaN                NaN              NaN   \n",
       "1            NaN         NaN       NaN                NaN              NaN   \n",
       "2            NaN         NaN       NaN                NaN              NaN   \n",
       "3            NaN         NaN       NaN                NaN              NaN   \n",
       "4            NaN         NaN       NaN                NaN              NaN   \n",
       "..           ...         ...       ...                ...              ...   \n",
       "74           NaN         NaN       NaN                NaN              NaN   \n",
       "75           NaN         NaN       NaN                NaN              NaN   \n",
       "76           NaN         NaN       NaN                NaN              NaN   \n",
       "77           NaN         NaN       NaN                NaN              NaN   \n",
       "78           2.0        10.0       5.0                9.0              5.0   \n",
       "\n",
       "    Aerial_duels_total Aerial_duels_won  \n",
       "0                  NaN              NaN  \n",
       "1                  NaN              NaN  \n",
       "2                  NaN              NaN  \n",
       "3                  NaN              NaN  \n",
       "4                  NaN              NaN  \n",
       "..                 ...              ...  \n",
       "74                 NaN              NaN  \n",
       "75                 NaN              NaN  \n",
       "76                 NaN              NaN  \n",
       "77                 NaN              NaN  \n",
       "78                 1.0              0.0  \n",
       "\n",
       "[79 rows x 29 columns]"
      ]
     },
     "execution_count": 109,
     "metadata": {},
     "output_type": "execute_result"
    }
   ],
   "source": [
    "df_with_match"
   ]
  },
  {
   "cell_type": "code",
   "execution_count": null,
   "metadata": {},
   "outputs": [],
   "source": []
  }
 ],
 "metadata": {
  "kernelspec": {
   "display_name": "base",
   "language": "python",
   "name": "python3"
  },
  "language_info": {
   "codemirror_mode": {
    "name": "ipython",
    "version": 3
   },
   "file_extension": ".py",
   "mimetype": "text/x-python",
   "name": "python",
   "nbconvert_exporter": "python",
   "pygments_lexer": "ipython3",
   "version": "3.11.4"
  }
 },
 "nbformat": 4,
 "nbformat_minor": 2
}
